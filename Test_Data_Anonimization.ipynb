{
  "nbformat": 4,
  "nbformat_minor": 0,
  "metadata": {
    "colab": {
      "name": "Test Data Anonimization.ipynb",
      "provenance": [],
      "collapsed_sections": [
        "r13PQFDpmCQk"
      ],
      "mount_file_id": "1kOHIO-Z2N7zf06lBIc2nIhZswCg9yzIq",
      "authorship_tag": "ABX9TyMdV3j6sN3AmCwwUPmn6g7P",
      "include_colab_link": true
    },
    "kernelspec": {
      "name": "python3",
      "display_name": "Python 3"
    },
    "language_info": {
      "name": "python"
    }
  },
  "cells": [
    {
      "cell_type": "markdown",
      "metadata": {
        "id": "view-in-github",
        "colab_type": "text"
      },
      "source": [
        "<a href=\"https://colab.research.google.com/github/ZeroOFBright/Data-Anonymization/blob/main/Test_Data_Anonimization.ipynb\" target=\"_parent\"><img src=\"https://colab.research.google.com/assets/colab-badge.svg\" alt=\"Open In Colab\"/></a>"
      ]
    },
    {
      "cell_type": "markdown",
      "metadata": {
        "id": "q96xpQBVL-Ty"
      },
      "source": [
        "# import Data"
      ]
    },
    {
      "cell_type": "code",
      "metadata": {
        "id": "AAGsqe33rAZu"
      },
      "source": [
        "import pandas as pd\n",
        "import numpy as np "
      ],
      "execution_count": null,
      "outputs": []
    },
    {
      "cell_type": "code",
      "metadata": {
        "id": "h7LasqAvhyMO"
      },
      "source": [
        "df = pd.read_csv(\"/content/drive/MyDrive/Dataset/patients.csv\")"
      ],
      "execution_count": null,
      "outputs": []
    },
    {
      "cell_type": "markdown",
      "metadata": {
        "id": "EYgs9_lyr_au"
      },
      "source": [
        "Data Encryption: FIRST + LAST \n",
        "\n",
        "Masking: SSN (ขอแบบสามารถกำหนด position (single + multiple positions) \n",
        "ในการ Masking ได้ด้วยนะคะ)\n",
        "\n",
        "Generalization: BIRTHDATE"
      ]
    },
    {
      "cell_type": "code",
      "metadata": {
        "colab": {
          "base_uri": "https://localhost:8080/",
          "height": 932
        },
        "id": "mr3O_N4Ph6Zo",
        "outputId": "06f762ca-f56c-4d64-b5a5-6dca4d94f91a"
      },
      "source": [
        "df"
      ],
      "execution_count": null,
      "outputs": [
        {
          "output_type": "execute_result",
          "data": {
            "text/html": [
              "<div>\n",
              "<style scoped>\n",
              "    .dataframe tbody tr th:only-of-type {\n",
              "        vertical-align: middle;\n",
              "    }\n",
              "\n",
              "    .dataframe tbody tr th {\n",
              "        vertical-align: top;\n",
              "    }\n",
              "\n",
              "    .dataframe thead th {\n",
              "        text-align: right;\n",
              "    }\n",
              "</style>\n",
              "<table border=\"1\" class=\"dataframe\">\n",
              "  <thead>\n",
              "    <tr style=\"text-align: right;\">\n",
              "      <th></th>\n",
              "      <th>Id</th>\n",
              "      <th>BIRTHDATE</th>\n",
              "      <th>DEATHDATE</th>\n",
              "      <th>SSN</th>\n",
              "      <th>DRIVERS</th>\n",
              "      <th>PASSPORT</th>\n",
              "      <th>PREFIX</th>\n",
              "      <th>FIRST</th>\n",
              "      <th>LAST</th>\n",
              "      <th>SUFFIX</th>\n",
              "      <th>MAIDEN</th>\n",
              "      <th>MARITAL</th>\n",
              "      <th>RACE</th>\n",
              "      <th>ETHNICITY</th>\n",
              "      <th>GENDER</th>\n",
              "      <th>BIRTHPLACE</th>\n",
              "      <th>ADDRESS</th>\n",
              "      <th>CITY</th>\n",
              "      <th>STATE</th>\n",
              "      <th>COUNTY</th>\n",
              "      <th>ZIP</th>\n",
              "      <th>LAT</th>\n",
              "      <th>LON</th>\n",
              "      <th>HEALTHCARE_EXPENSES</th>\n",
              "      <th>HEALTHCARE_COVERAGE</th>\n",
              "    </tr>\n",
              "  </thead>\n",
              "  <tbody>\n",
              "    <tr>\n",
              "      <th>0</th>\n",
              "      <td>f0f3bc8d-ef38-49ce-a2bd-dfdda982b271</td>\n",
              "      <td>2017-08-24</td>\n",
              "      <td>NaN</td>\n",
              "      <td>999-68-6630</td>\n",
              "      <td>NaN</td>\n",
              "      <td>NaN</td>\n",
              "      <td>NaN</td>\n",
              "      <td>Jacinto644</td>\n",
              "      <td>Kris249</td>\n",
              "      <td>NaN</td>\n",
              "      <td>NaN</td>\n",
              "      <td>NaN</td>\n",
              "      <td>white</td>\n",
              "      <td>nonhispanic</td>\n",
              "      <td>M</td>\n",
              "      <td>Beverly  Massachusetts  US</td>\n",
              "      <td>888 Hickle Ferry Suite 38</td>\n",
              "      <td>Springfield</td>\n",
              "      <td>Massachusetts</td>\n",
              "      <td>Hampden County</td>\n",
              "      <td>1106.0</td>\n",
              "      <td>42.151961</td>\n",
              "      <td>-72.598959</td>\n",
              "      <td>8446.49</td>\n",
              "      <td>1499.08</td>\n",
              "    </tr>\n",
              "    <tr>\n",
              "      <th>1</th>\n",
              "      <td>067318a4-db8f-447f-8b6e-f2f61e9baaa5</td>\n",
              "      <td>2016-08-01</td>\n",
              "      <td>NaN</td>\n",
              "      <td>999-15-5895</td>\n",
              "      <td>NaN</td>\n",
              "      <td>NaN</td>\n",
              "      <td>NaN</td>\n",
              "      <td>Alva958</td>\n",
              "      <td>Krajcik437</td>\n",
              "      <td>NaN</td>\n",
              "      <td>NaN</td>\n",
              "      <td>NaN</td>\n",
              "      <td>white</td>\n",
              "      <td>nonhispanic</td>\n",
              "      <td>F</td>\n",
              "      <td>Boston  Massachusetts  US</td>\n",
              "      <td>1048 Skiles Trailer</td>\n",
              "      <td>Walpole</td>\n",
              "      <td>Massachusetts</td>\n",
              "      <td>Norfolk County</td>\n",
              "      <td>2081.0</td>\n",
              "      <td>42.177370</td>\n",
              "      <td>-71.281353</td>\n",
              "      <td>89893.40</td>\n",
              "      <td>1845.72</td>\n",
              "    </tr>\n",
              "    <tr>\n",
              "      <th>2</th>\n",
              "      <td>ae9efba3-ddc4-43f9-a781-f72019388548</td>\n",
              "      <td>1992-06-30</td>\n",
              "      <td>NaN</td>\n",
              "      <td>999-27-3385</td>\n",
              "      <td>S99971451</td>\n",
              "      <td>X53218815X</td>\n",
              "      <td>Mr.</td>\n",
              "      <td>Jayson808</td>\n",
              "      <td>Fadel536</td>\n",
              "      <td>NaN</td>\n",
              "      <td>NaN</td>\n",
              "      <td>S</td>\n",
              "      <td>white</td>\n",
              "      <td>nonhispanic</td>\n",
              "      <td>M</td>\n",
              "      <td>Springfield  Massachusetts  US</td>\n",
              "      <td>1056 Harris Lane Suite 70</td>\n",
              "      <td>Chicopee</td>\n",
              "      <td>Massachusetts</td>\n",
              "      <td>Hampden County</td>\n",
              "      <td>1020.0</td>\n",
              "      <td>42.181642</td>\n",
              "      <td>-72.608842</td>\n",
              "      <td>577445.86</td>\n",
              "      <td>3528.84</td>\n",
              "    </tr>\n",
              "    <tr>\n",
              "      <th>3</th>\n",
              "      <td>199c586f-af16-4091-9998-ee4cfc02ee7a</td>\n",
              "      <td>2004-01-09</td>\n",
              "      <td>NaN</td>\n",
              "      <td>999-73-2461</td>\n",
              "      <td>S99956432</td>\n",
              "      <td>NaN</td>\n",
              "      <td>NaN</td>\n",
              "      <td>Jimmie93</td>\n",
              "      <td>Harris789</td>\n",
              "      <td>NaN</td>\n",
              "      <td>NaN</td>\n",
              "      <td>NaN</td>\n",
              "      <td>white</td>\n",
              "      <td>nonhispanic</td>\n",
              "      <td>F</td>\n",
              "      <td>Worcester  Massachusetts  US</td>\n",
              "      <td>201 Mitchell Lodge Unit 67</td>\n",
              "      <td>Pembroke</td>\n",
              "      <td>Massachusetts</td>\n",
              "      <td>Plymouth County</td>\n",
              "      <td>NaN</td>\n",
              "      <td>42.075292</td>\n",
              "      <td>-70.757035</td>\n",
              "      <td>336701.72</td>\n",
              "      <td>2705.64</td>\n",
              "    </tr>\n",
              "    <tr>\n",
              "      <th>4</th>\n",
              "      <td>353016ea-a0ff-4154-85bb-1cf8b6cedf20</td>\n",
              "      <td>1996-11-15</td>\n",
              "      <td>NaN</td>\n",
              "      <td>999-60-7372</td>\n",
              "      <td>S99917327</td>\n",
              "      <td>X58903159X</td>\n",
              "      <td>Mr.</td>\n",
              "      <td>Gregorio366</td>\n",
              "      <td>Auer97</td>\n",
              "      <td>NaN</td>\n",
              "      <td>NaN</td>\n",
              "      <td>NaN</td>\n",
              "      <td>white</td>\n",
              "      <td>nonhispanic</td>\n",
              "      <td>M</td>\n",
              "      <td>Patras  Achaea  GR</td>\n",
              "      <td>1050 Lindgren Extension Apt 38</td>\n",
              "      <td>Boston</td>\n",
              "      <td>Massachusetts</td>\n",
              "      <td>Suffolk County</td>\n",
              "      <td>2135.0</td>\n",
              "      <td>42.352434</td>\n",
              "      <td>-71.028610</td>\n",
              "      <td>484076.34</td>\n",
              "      <td>3043.04</td>\n",
              "    </tr>\n",
              "    <tr>\n",
              "      <th>...</th>\n",
              "      <td>...</td>\n",
              "      <td>...</td>\n",
              "      <td>...</td>\n",
              "      <td>...</td>\n",
              "      <td>...</td>\n",
              "      <td>...</td>\n",
              "      <td>...</td>\n",
              "      <td>...</td>\n",
              "      <td>...</td>\n",
              "      <td>...</td>\n",
              "      <td>...</td>\n",
              "      <td>...</td>\n",
              "      <td>...</td>\n",
              "      <td>...</td>\n",
              "      <td>...</td>\n",
              "      <td>...</td>\n",
              "      <td>...</td>\n",
              "      <td>...</td>\n",
              "      <td>...</td>\n",
              "      <td>...</td>\n",
              "      <td>...</td>\n",
              "      <td>...</td>\n",
              "      <td>...</td>\n",
              "      <td>...</td>\n",
              "      <td>...</td>\n",
              "    </tr>\n",
              "    <tr>\n",
              "      <th>12347</th>\n",
              "      <td>eec72396-d10e-4b8e-8fb6-25fc1e396031</td>\n",
              "      <td>1962-08-17</td>\n",
              "      <td>NaN</td>\n",
              "      <td>999-52-5112</td>\n",
              "      <td>S99981543</td>\n",
              "      <td>X65879689X</td>\n",
              "      <td>Mrs.</td>\n",
              "      <td>Althea11</td>\n",
              "      <td>O'Hara248</td>\n",
              "      <td>NaN</td>\n",
              "      <td>Swaniawski813</td>\n",
              "      <td>M</td>\n",
              "      <td>asian</td>\n",
              "      <td>nonhispanic</td>\n",
              "      <td>F</td>\n",
              "      <td>Delhi  Delhi  IN</td>\n",
              "      <td>682 Koss Trafficway Apt 65</td>\n",
              "      <td>Wellesley</td>\n",
              "      <td>Massachusetts</td>\n",
              "      <td>Norfolk County</td>\n",
              "      <td>2457.0</td>\n",
              "      <td>42.294175</td>\n",
              "      <td>-71.259364</td>\n",
              "      <td>1332256.08</td>\n",
              "      <td>7157.90</td>\n",
              "    </tr>\n",
              "    <tr>\n",
              "      <th>12348</th>\n",
              "      <td>3daf2b90-c439-469f-bb44-fb6109c6a8a7</td>\n",
              "      <td>1918-10-20</td>\n",
              "      <td>1999-11-01</td>\n",
              "      <td>999-25-1153</td>\n",
              "      <td>S99951005</td>\n",
              "      <td>X1374154X</td>\n",
              "      <td>Mrs.</td>\n",
              "      <td>Tarah156</td>\n",
              "      <td>Shields502</td>\n",
              "      <td>NaN</td>\n",
              "      <td>Keeling57</td>\n",
              "      <td>M</td>\n",
              "      <td>white</td>\n",
              "      <td>nonhispanic</td>\n",
              "      <td>F</td>\n",
              "      <td>New Bedford  Massachusetts  US</td>\n",
              "      <td>308 Huels Grove Apt 18</td>\n",
              "      <td>Waltham</td>\n",
              "      <td>Massachusetts</td>\n",
              "      <td>Middlesex County</td>\n",
              "      <td>2453.0</td>\n",
              "      <td>42.372663</td>\n",
              "      <td>-71.209053</td>\n",
              "      <td>1557234.62</td>\n",
              "      <td>27214.48</td>\n",
              "    </tr>\n",
              "    <tr>\n",
              "      <th>12349</th>\n",
              "      <td>cb03d88e-7f08-46a1-be78-70d9fe8262a7</td>\n",
              "      <td>1918-10-20</td>\n",
              "      <td>2009-08-07</td>\n",
              "      <td>999-41-7538</td>\n",
              "      <td>S99938113</td>\n",
              "      <td>X29702266X</td>\n",
              "      <td>Mrs.</td>\n",
              "      <td>Penny812</td>\n",
              "      <td>Pacocha935</td>\n",
              "      <td>NaN</td>\n",
              "      <td>Koelpin146</td>\n",
              "      <td>M</td>\n",
              "      <td>white</td>\n",
              "      <td>nonhispanic</td>\n",
              "      <td>F</td>\n",
              "      <td>Marshfield  Massachusetts  US</td>\n",
              "      <td>349 Breitenberg Walk Suite 26</td>\n",
              "      <td>Waltham</td>\n",
              "      <td>Massachusetts</td>\n",
              "      <td>Middlesex County</td>\n",
              "      <td>2452.0</td>\n",
              "      <td>42.396186</td>\n",
              "      <td>-71.217928</td>\n",
              "      <td>1347930.08</td>\n",
              "      <td>26001.41</td>\n",
              "    </tr>\n",
              "    <tr>\n",
              "      <th>12350</th>\n",
              "      <td>435be43f-cb57-442f-aeb2-51018b030ed0</td>\n",
              "      <td>1918-10-20</td>\n",
              "      <td>NaN</td>\n",
              "      <td>999-26-4571</td>\n",
              "      <td>S99995011</td>\n",
              "      <td>X51104300X</td>\n",
              "      <td>Ms.</td>\n",
              "      <td>Cherlyn665</td>\n",
              "      <td>Quitzon246</td>\n",
              "      <td>NaN</td>\n",
              "      <td>NaN</td>\n",
              "      <td>S</td>\n",
              "      <td>white</td>\n",
              "      <td>nonhispanic</td>\n",
              "      <td>F</td>\n",
              "      <td>Holyoke  Massachusetts  US</td>\n",
              "      <td>237 Miller Avenue</td>\n",
              "      <td>Waltham</td>\n",
              "      <td>Massachusetts</td>\n",
              "      <td>Middlesex County</td>\n",
              "      <td>2452.0</td>\n",
              "      <td>42.366768</td>\n",
              "      <td>-71.196715</td>\n",
              "      <td>1585631.29</td>\n",
              "      <td>32006.97</td>\n",
              "    </tr>\n",
              "    <tr>\n",
              "      <th>12351</th>\n",
              "      <td>2712205f-755e-4897-acb3-926895b7d635</td>\n",
              "      <td>1941-02-11</td>\n",
              "      <td>NaN</td>\n",
              "      <td>999-57-4019</td>\n",
              "      <td>S99932976</td>\n",
              "      <td>X25566175X</td>\n",
              "      <td>Mr.</td>\n",
              "      <td>Emory494</td>\n",
              "      <td>Turcotte120</td>\n",
              "      <td>NaN</td>\n",
              "      <td>NaN</td>\n",
              "      <td>S</td>\n",
              "      <td>white</td>\n",
              "      <td>nonhispanic</td>\n",
              "      <td>M</td>\n",
              "      <td>Medford  Massachusetts  US</td>\n",
              "      <td>595 Zulauf Parade Suite 56</td>\n",
              "      <td>Bourne</td>\n",
              "      <td>Massachusetts</td>\n",
              "      <td>Barnstable County</td>\n",
              "      <td>2532.0</td>\n",
              "      <td>41.721661</td>\n",
              "      <td>-70.587214</td>\n",
              "      <td>1689239.58</td>\n",
              "      <td>790451.35</td>\n",
              "    </tr>\n",
              "  </tbody>\n",
              "</table>\n",
              "<p>12352 rows × 25 columns</p>\n",
              "</div>"
            ],
            "text/plain": [
              "                                         Id  ... HEALTHCARE_COVERAGE\n",
              "0      f0f3bc8d-ef38-49ce-a2bd-dfdda982b271  ...             1499.08\n",
              "1      067318a4-db8f-447f-8b6e-f2f61e9baaa5  ...             1845.72\n",
              "2      ae9efba3-ddc4-43f9-a781-f72019388548  ...             3528.84\n",
              "3      199c586f-af16-4091-9998-ee4cfc02ee7a  ...             2705.64\n",
              "4      353016ea-a0ff-4154-85bb-1cf8b6cedf20  ...             3043.04\n",
              "...                                     ...  ...                 ...\n",
              "12347  eec72396-d10e-4b8e-8fb6-25fc1e396031  ...             7157.90\n",
              "12348  3daf2b90-c439-469f-bb44-fb6109c6a8a7  ...            27214.48\n",
              "12349  cb03d88e-7f08-46a1-be78-70d9fe8262a7  ...            26001.41\n",
              "12350  435be43f-cb57-442f-aeb2-51018b030ed0  ...            32006.97\n",
              "12351  2712205f-755e-4897-acb3-926895b7d635  ...           790451.35\n",
              "\n",
              "[12352 rows x 25 columns]"
            ]
          },
          "metadata": {
            "tags": []
          },
          "execution_count": 7
        }
      ]
    },
    {
      "cell_type": "code",
      "metadata": {
        "id": "PzlN2rndUyRs"
      },
      "source": [
        "a2 = df[:4500]"
      ],
      "execution_count": null,
      "outputs": []
    },
    {
      "cell_type": "code",
      "metadata": {
        "id": "XDLrNYpBZ-sZ"
      },
      "source": [
        "a2.to_csv(\"test.csv\")"
      ],
      "execution_count": null,
      "outputs": []
    },
    {
      "cell_type": "markdown",
      "metadata": {
        "id": "hCazB_uGaBRP"
      },
      "source": [
        "# Data Masking"
      ]
    },
    {
      "cell_type": "markdown",
      "metadata": {
        "id": "k1o3DbaIrQZD"
      },
      "source": [
        "\n",
        "\n",
        "```\n",
        "\n",
        "Data Masking - ปกปิดข้อมูลด้วยตัวอักษรที่สุ่มขึ้นมา ทำให้ยากในการหาข้อมูลที่ถูกปกปิดไป\n",
        "\n",
        "เช่น บัตร ATM -> XXXX XXXX XXX 1234 (แสดงแค่เลข4ตัวสุดท้าย)\n",
        "\n",
        "    Email -> XXXXnarXXXX@gmail.com  (แสดงบางส่วน)\n",
        "\n",
        "    Hashing  Surasee -> asdfhsadfjasldlfasdfneradf\n",
        "\n",
        "\n",
        "\n",
        "\n"
      ]
    },
    {
      "cell_type": "code",
      "metadata": {
        "id": "YGhm3CnDPEVq"
      },
      "source": [
        "from time import process_time\n"
      ],
      "execution_count": null,
      "outputs": []
    },
    {
      "cell_type": "code",
      "metadata": {
        "colab": {
          "base_uri": "https://localhost:8080/"
        },
        "id": "a2c9nXjAHMIV",
        "outputId": "3373e644-41e5-45f5-c431-f74fa8fb6151"
      },
      "source": [
        "a = \"999-68-6630\"\n",
        "mask = a[:-4]\n",
        "nomask = a[-4:]\n",
        "alphabet = ['0','1','2','3','4','5','6','7','8','9','a','b','c','d','e','f','g','h','i','j','k','l','m','n','o','p','q','r','s','t','u','v','w','x','y','z','A','B','C','D','E','F','G','H','I','J','K','L','M','N','O','P','Q','R','S','T','U','V','W','X','Y','Z']\n",
        "start = process_time()\n",
        "for ch in alphabet :\n",
        "  mask = mask.replace(ch,\"X\")\n",
        "masked = mask+nomask\n",
        "stop = process_time()\n",
        "\n",
        "print(masked, \"process time is :\", stop-start)\n",
        "\n",
        "\n",
        "\n"
      ],
      "execution_count": null,
      "outputs": [
        {
          "output_type": "stream",
          "text": [
            "XXX-XX-6630 process time is : 0.00011403699999990025\n"
          ],
          "name": "stdout"
        }
      ]
    },
    {
      "cell_type": "code",
      "metadata": {
        "colab": {
          "base_uri": "https://localhost:8080/"
        },
        "id": "LALhyUYBMsXF",
        "outputId": "82dc79d4-865a-41e1-c0bd-5719af397d2f"
      },
      "source": [
        "b = \"999-68-6630\"\n",
        "mask = b[:-4]\n",
        "nomask = b[-4:]\n",
        "start = process_time()\n",
        "for i in mask :   # if and for loop detect A-Z a-z and 0-9\n",
        "  if (ord(\"A\") <= ord(i) <= ord(\"Z\") ) or (ord(\"a\") <= ord(i) <= ord(\"z\")) or (ord(\"0\") <= ord(i) <= ord(\"9\")) :\n",
        "    mask = mask.replace(i,\"X\")\n",
        "\n",
        "masked = mask+nomask\n",
        "\n",
        "stop = process_time()\n",
        "\n",
        "print(masked, \"process time is :\", stop-start)\n"
      ],
      "execution_count": null,
      "outputs": [
        {
          "output_type": "stream",
          "text": [
            "XXX-XX-6630 process time is : 0.000249693999999856\n"
          ],
          "name": "stdout"
        }
      ]
    },
    {
      "cell_type": "code",
      "metadata": {
        "colab": {
          "base_uri": "https://localhost:8080/"
        },
        "id": "fJAfH5msTvLE",
        "outputId": "eb832a50-7336-48fc-d663-6db3bab8b4a6"
      },
      "source": [
        "c = \"999-68-6630\"\n",
        "mask = c[:-4]\n",
        "nomask = c[-4:]\n",
        "alphabet2 = \"0123456789abcdefghijklmnopqrstuvwxyzABCDEFGHIJKLMNOPQRSTUVWXYZ\"\n",
        "to =  \"XXXXXXXXXXXXXXXXXXXXXXXXXXXXXXXXXXXXXXXXXXXXXXXXXXXXXXXXXXXXXX\"\n",
        "start = process_time()  \n",
        "trantab = mask.maketrans(alphabet2,to)  \n",
        "masked = mask.translate(trantab) + nomask  #use maketrans and translate function\n",
        "stop = process_time()\n",
        "print(masked, \"process time is :\", stop-start)\n"
      ],
      "execution_count": null,
      "outputs": [
        {
          "output_type": "stream",
          "text": [
            "XXX-XX-6630 process time is : 0.00010163799999984846\n"
          ],
          "name": "stdout"
        }
      ]
    },
    {
      "cell_type": "code",
      "metadata": {
        "colab": {
          "base_uri": "https://localhost:8080/"
        },
        "id": "zfA0P_m4Z_am",
        "outputId": "4f953ea2-1d24-47b9-b69a-8da380614235"
      },
      "source": [
        "d = \"999-68-6630\"\n",
        "mask = d[:-4]\n",
        "nomask = d[-4:]\n",
        "start = process_time()\n",
        "for i in mask :   # if and for loop detect - \n",
        "  if (i != \"-\") :\n",
        "    mask = mask.replace(i,\"X\")\n",
        "\n",
        "masked = mask+nomask\n",
        "stop = process_time()\n",
        "\n",
        "print(masked, \"process time is :\", stop-start)\n"
      ],
      "execution_count": null,
      "outputs": [
        {
          "output_type": "stream",
          "text": [
            "XXX-XX-6630 process time is : 0.0001235729999997659\n"
          ],
          "name": "stdout"
        }
      ]
    },
    {
      "cell_type": "markdown",
      "metadata": {
        "id": "1iQn-WNPubbg"
      },
      "source": [
        "**Data masking Function**"
      ]
    },
    {
      "cell_type": "code",
      "metadata": {
        "id": "vND89lt0rJny"
      },
      "source": [
        "def masking(input):\n",
        "  string = input\n",
        "  mask = string[:-4]\n",
        "  nomask = string[-4:]\n",
        "  alphabet = \"0123456789abcdefghijklmnopqrstuvwxyzABCDEFGHIJKLMNOPQRSTUVWXYZ\"\n",
        "  to =  \"XXXXXXXXXXXXXXXXXXXXXXXXXXXXXXXXXXXXXXXXXXXXXXXXXXXXXXXXXXXXXX\"\n",
        "  trantab = mask.maketrans(alphabet,to)\n",
        "  return mask.translate(trantab) + nomask\n",
        "\n",
        "def masking2( input ,start = 0 , stop = 0 ):   \n",
        "  string = str(input)\n",
        "  if start == 0 and stop == 0:    # if no position set \n",
        "    mask = string[start : -(len(string)//3 +(len(string)%3>0) )]   # masked the 2/3 of the string length // round up  \n",
        "    nomask1 = string[:start]\n",
        "    nomask2 = string[-(len(string)//3 + (len(string)%3>0)) : ] \n",
        "  else :\n",
        "      mask = string[start:stop]\n",
        "      nomask1 = string[:start]\n",
        "      nomask2 = string[stop:]\n",
        "\n",
        "  alphabet = \"0123456789abcdefghijklmnopqrstuvwxyzABCDEFGHIJKLMNOPQRSTUVWXYZ\"\n",
        "  to =  \"XXXXXXXXXXXXXXXXXXXXXXXXXXXXXXXXXXXXXXXXXXXXXXXXXXXXXXXXXXXXXX\"\n",
        "  trantab = mask.maketrans(alphabet,to)\n",
        "  return nomask1 + mask.translate(trantab) + nomask2\n",
        "\n",
        "\n",
        "\n",
        "def maskingDataframe(dataframe,column):\n",
        "  df = dataframe.copy()\n",
        "  df[\"SSN-MASK\"] = df.apply(lambda row: masking2(row[column]), axis=1)\n",
        "\n",
        "  return df "
      ],
      "execution_count": null,
      "outputs": []
    },
    {
      "cell_type": "code",
      "metadata": {
        "id": "Ry-zDGgVkMBw"
      },
      "source": [
        "anonymize = maskingDataframe(df,\"SSN\")"
      ],
      "execution_count": null,
      "outputs": []
    },
    {
      "cell_type": "code",
      "metadata": {
        "colab": {
          "base_uri": "https://localhost:8080/",
          "height": 479
        },
        "id": "-YoOj6RVslSi",
        "outputId": "6c0d5922-0df4-47ea-ff29-f13240256c3b"
      },
      "source": [
        "anonymize.head()"
      ],
      "execution_count": null,
      "outputs": [
        {
          "output_type": "execute_result",
          "data": {
            "text/html": [
              "<div>\n",
              "<style scoped>\n",
              "    .dataframe tbody tr th:only-of-type {\n",
              "        vertical-align: middle;\n",
              "    }\n",
              "\n",
              "    .dataframe tbody tr th {\n",
              "        vertical-align: top;\n",
              "    }\n",
              "\n",
              "    .dataframe thead th {\n",
              "        text-align: right;\n",
              "    }\n",
              "</style>\n",
              "<table border=\"1\" class=\"dataframe\">\n",
              "  <thead>\n",
              "    <tr style=\"text-align: right;\">\n",
              "      <th></th>\n",
              "      <th>Id</th>\n",
              "      <th>BIRTHDATE</th>\n",
              "      <th>DEATHDATE</th>\n",
              "      <th>SSN</th>\n",
              "      <th>DRIVERS</th>\n",
              "      <th>PASSPORT</th>\n",
              "      <th>PREFIX</th>\n",
              "      <th>FIRST</th>\n",
              "      <th>LAST</th>\n",
              "      <th>SUFFIX</th>\n",
              "      <th>MAIDEN</th>\n",
              "      <th>MARITAL</th>\n",
              "      <th>RACE</th>\n",
              "      <th>ETHNICITY</th>\n",
              "      <th>GENDER</th>\n",
              "      <th>BIRTHPLACE</th>\n",
              "      <th>ADDRESS</th>\n",
              "      <th>CITY</th>\n",
              "      <th>STATE</th>\n",
              "      <th>COUNTY</th>\n",
              "      <th>ZIP</th>\n",
              "      <th>LAT</th>\n",
              "      <th>LON</th>\n",
              "      <th>HEALTHCARE_EXPENSES</th>\n",
              "      <th>HEALTHCARE_COVERAGE</th>\n",
              "    </tr>\n",
              "  </thead>\n",
              "  <tbody>\n",
              "    <tr>\n",
              "      <th>0</th>\n",
              "      <td>f0f3bc8d-ef38-49ce-a2bd-dfdda982b271</td>\n",
              "      <td>2017-08-24</td>\n",
              "      <td>NaN</td>\n",
              "      <td>XXX-XX-6630</td>\n",
              "      <td>NaN</td>\n",
              "      <td>NaN</td>\n",
              "      <td>NaN</td>\n",
              "      <td>Jacinto644</td>\n",
              "      <td>Kris249</td>\n",
              "      <td>NaN</td>\n",
              "      <td>NaN</td>\n",
              "      <td>NaN</td>\n",
              "      <td>white</td>\n",
              "      <td>nonhispanic</td>\n",
              "      <td>M</td>\n",
              "      <td>Beverly  Massachusetts  US</td>\n",
              "      <td>888 Hickle Ferry Suite 38</td>\n",
              "      <td>Springfield</td>\n",
              "      <td>Massachusetts</td>\n",
              "      <td>Hampden County</td>\n",
              "      <td>1106.0</td>\n",
              "      <td>42.151961</td>\n",
              "      <td>-72.598959</td>\n",
              "      <td>8446.49</td>\n",
              "      <td>1499.08</td>\n",
              "    </tr>\n",
              "    <tr>\n",
              "      <th>1</th>\n",
              "      <td>067318a4-db8f-447f-8b6e-f2f61e9baaa5</td>\n",
              "      <td>2016-08-01</td>\n",
              "      <td>NaN</td>\n",
              "      <td>XXX-XX-5895</td>\n",
              "      <td>NaN</td>\n",
              "      <td>NaN</td>\n",
              "      <td>NaN</td>\n",
              "      <td>Alva958</td>\n",
              "      <td>Krajcik437</td>\n",
              "      <td>NaN</td>\n",
              "      <td>NaN</td>\n",
              "      <td>NaN</td>\n",
              "      <td>white</td>\n",
              "      <td>nonhispanic</td>\n",
              "      <td>F</td>\n",
              "      <td>Boston  Massachusetts  US</td>\n",
              "      <td>1048 Skiles Trailer</td>\n",
              "      <td>Walpole</td>\n",
              "      <td>Massachusetts</td>\n",
              "      <td>Norfolk County</td>\n",
              "      <td>2081.0</td>\n",
              "      <td>42.177370</td>\n",
              "      <td>-71.281353</td>\n",
              "      <td>89893.40</td>\n",
              "      <td>1845.72</td>\n",
              "    </tr>\n",
              "    <tr>\n",
              "      <th>2</th>\n",
              "      <td>ae9efba3-ddc4-43f9-a781-f72019388548</td>\n",
              "      <td>1992-06-30</td>\n",
              "      <td>NaN</td>\n",
              "      <td>XXX-XX-3385</td>\n",
              "      <td>S99971451</td>\n",
              "      <td>X53218815X</td>\n",
              "      <td>Mr.</td>\n",
              "      <td>Jayson808</td>\n",
              "      <td>Fadel536</td>\n",
              "      <td>NaN</td>\n",
              "      <td>NaN</td>\n",
              "      <td>S</td>\n",
              "      <td>white</td>\n",
              "      <td>nonhispanic</td>\n",
              "      <td>M</td>\n",
              "      <td>Springfield  Massachusetts  US</td>\n",
              "      <td>1056 Harris Lane Suite 70</td>\n",
              "      <td>Chicopee</td>\n",
              "      <td>Massachusetts</td>\n",
              "      <td>Hampden County</td>\n",
              "      <td>1020.0</td>\n",
              "      <td>42.181642</td>\n",
              "      <td>-72.608842</td>\n",
              "      <td>577445.86</td>\n",
              "      <td>3528.84</td>\n",
              "    </tr>\n",
              "    <tr>\n",
              "      <th>3</th>\n",
              "      <td>199c586f-af16-4091-9998-ee4cfc02ee7a</td>\n",
              "      <td>2004-01-09</td>\n",
              "      <td>NaN</td>\n",
              "      <td>XXX-XX-2461</td>\n",
              "      <td>S99956432</td>\n",
              "      <td>NaN</td>\n",
              "      <td>NaN</td>\n",
              "      <td>Jimmie93</td>\n",
              "      <td>Harris789</td>\n",
              "      <td>NaN</td>\n",
              "      <td>NaN</td>\n",
              "      <td>NaN</td>\n",
              "      <td>white</td>\n",
              "      <td>nonhispanic</td>\n",
              "      <td>F</td>\n",
              "      <td>Worcester  Massachusetts  US</td>\n",
              "      <td>201 Mitchell Lodge Unit 67</td>\n",
              "      <td>Pembroke</td>\n",
              "      <td>Massachusetts</td>\n",
              "      <td>Plymouth County</td>\n",
              "      <td>NaN</td>\n",
              "      <td>42.075292</td>\n",
              "      <td>-70.757035</td>\n",
              "      <td>336701.72</td>\n",
              "      <td>2705.64</td>\n",
              "    </tr>\n",
              "    <tr>\n",
              "      <th>4</th>\n",
              "      <td>353016ea-a0ff-4154-85bb-1cf8b6cedf20</td>\n",
              "      <td>1996-11-15</td>\n",
              "      <td>NaN</td>\n",
              "      <td>XXX-XX-7372</td>\n",
              "      <td>S99917327</td>\n",
              "      <td>X58903159X</td>\n",
              "      <td>Mr.</td>\n",
              "      <td>Gregorio366</td>\n",
              "      <td>Auer97</td>\n",
              "      <td>NaN</td>\n",
              "      <td>NaN</td>\n",
              "      <td>NaN</td>\n",
              "      <td>white</td>\n",
              "      <td>nonhispanic</td>\n",
              "      <td>M</td>\n",
              "      <td>Patras  Achaea  GR</td>\n",
              "      <td>1050 Lindgren Extension Apt 38</td>\n",
              "      <td>Boston</td>\n",
              "      <td>Massachusetts</td>\n",
              "      <td>Suffolk County</td>\n",
              "      <td>2135.0</td>\n",
              "      <td>42.352434</td>\n",
              "      <td>-71.028610</td>\n",
              "      <td>484076.34</td>\n",
              "      <td>3043.04</td>\n",
              "    </tr>\n",
              "  </tbody>\n",
              "</table>\n",
              "</div>"
            ],
            "text/plain": [
              "                                     Id  ... HEALTHCARE_COVERAGE\n",
              "0  f0f3bc8d-ef38-49ce-a2bd-dfdda982b271  ...             1499.08\n",
              "1  067318a4-db8f-447f-8b6e-f2f61e9baaa5  ...             1845.72\n",
              "2  ae9efba3-ddc4-43f9-a781-f72019388548  ...             3528.84\n",
              "3  199c586f-af16-4091-9998-ee4cfc02ee7a  ...             2705.64\n",
              "4  353016ea-a0ff-4154-85bb-1cf8b6cedf20  ...             3043.04\n",
              "\n",
              "[5 rows x 25 columns]"
            ]
          },
          "metadata": {
            "tags": []
          },
          "execution_count": 13
        }
      ]
    },
    {
      "cell_type": "code",
      "metadata": {
        "id": "IJahjypo-Pg2"
      },
      "source": [
        ""
      ],
      "execution_count": null,
      "outputs": []
    },
    {
      "cell_type": "markdown",
      "metadata": {
        "id": "kiVqoW8HuluX"
      },
      "source": [
        "# Hashing"
      ]
    },
    {
      "cell_type": "markdown",
      "metadata": {
        "id": "DvoIvhVlPmIa"
      },
      "source": [
        "\n",
        "\n",
        "```\n",
        "#  เป็นเทคนิค Data Masking ปกปิดข้อมูลด้วยฟังก์ชั่นคณิตศาสตร์  \n",
        "\n",
        "ฟังก์ชั่น hash เช่น MD5 , SHA-1 SHA-2 SHA-256 \n",
        "```\n",
        "\n"
      ]
    },
    {
      "cell_type": "code",
      "metadata": {
        "id": "aKKEuZyEuqIL"
      },
      "source": [
        "import hashlib"
      ],
      "execution_count": null,
      "outputs": []
    },
    {
      "cell_type": "code",
      "metadata": {
        "colab": {
          "base_uri": "https://localhost:8080/"
        },
        "id": "MOsPiQnO_dn2",
        "outputId": "acdcc14b-bbf6-4a36-8c74-2b390810f3a4"
      },
      "source": [
        "name = \"Mark Zuckerberg\"\n",
        "print(hashlib.sha1(b\"Mark Zuckerberg\").hexdigest())"
      ],
      "execution_count": null,
      "outputs": [
        {
          "output_type": "stream",
          "text": [
            "2106b0b5ffc557b63f062a3249b9e1e568ea88d9\n"
          ],
          "name": "stdout"
        }
      ]
    },
    {
      "cell_type": "code",
      "metadata": {
        "colab": {
          "base_uri": "https://localhost:8080/"
        },
        "id": "98YdS-7yH1Xa",
        "outputId": "78891058-ac70-491c-d05c-43e69262baca"
      },
      "source": [
        "name = \"Mark Zuckerberg\"\n",
        "print(hashlib.sha1(name.encode()).hexdigest())"
      ],
      "execution_count": null,
      "outputs": [
        {
          "output_type": "stream",
          "text": [
            "2106b0b5ffc557b63f062a3249b9e1e568ea88d9\n"
          ],
          "name": "stdout"
        }
      ]
    },
    {
      "cell_type": "code",
      "metadata": {
        "id": "9ruMrr4WTFvv"
      },
      "source": [
        "def hashingDataframe(dataframe,column):\n",
        "  df = dataframe.copy()\n",
        "  hashName = column + \"-hash\"\n",
        "  df[hashName] = df.apply(lambda row : hashlib.sha1(row[column].encode()).hexdigest(), axis=1 )\n",
        "  hashTable = df[[column,hashName]]\n",
        "  df = df.drop(column,axis=1)\n",
        "  return df ,hashTable"
      ],
      "execution_count": null,
      "outputs": []
    },
    {
      "cell_type": "code",
      "metadata": {
        "colab": {
          "base_uri": "https://localhost:8080/",
          "height": 479
        },
        "id": "8SolhwuGH-bZ",
        "outputId": "1309103e-8ca0-4a89-9fe2-0c2a95dfdf97"
      },
      "source": [
        "anonymize[\"NAME\"] = anonymize[\"FIRST\"] + anonymize[\"LAST\"]\n",
        "anonymize = anonymize.drop([\"FIRST\" , \"LAST\"],axis=1)\n",
        "\n",
        "anonymize.head()\n"
      ],
      "execution_count": null,
      "outputs": [
        {
          "output_type": "execute_result",
          "data": {
            "text/html": [
              "<div>\n",
              "<style scoped>\n",
              "    .dataframe tbody tr th:only-of-type {\n",
              "        vertical-align: middle;\n",
              "    }\n",
              "\n",
              "    .dataframe tbody tr th {\n",
              "        vertical-align: top;\n",
              "    }\n",
              "\n",
              "    .dataframe thead th {\n",
              "        text-align: right;\n",
              "    }\n",
              "</style>\n",
              "<table border=\"1\" class=\"dataframe\">\n",
              "  <thead>\n",
              "    <tr style=\"text-align: right;\">\n",
              "      <th></th>\n",
              "      <th>Id</th>\n",
              "      <th>BIRTHDATE</th>\n",
              "      <th>DEATHDATE</th>\n",
              "      <th>SSN</th>\n",
              "      <th>DRIVERS</th>\n",
              "      <th>PASSPORT</th>\n",
              "      <th>PREFIX</th>\n",
              "      <th>SUFFIX</th>\n",
              "      <th>MAIDEN</th>\n",
              "      <th>MARITAL</th>\n",
              "      <th>RACE</th>\n",
              "      <th>ETHNICITY</th>\n",
              "      <th>GENDER</th>\n",
              "      <th>BIRTHPLACE</th>\n",
              "      <th>ADDRESS</th>\n",
              "      <th>CITY</th>\n",
              "      <th>STATE</th>\n",
              "      <th>COUNTY</th>\n",
              "      <th>ZIP</th>\n",
              "      <th>LAT</th>\n",
              "      <th>LON</th>\n",
              "      <th>HEALTHCARE_EXPENSES</th>\n",
              "      <th>HEALTHCARE_COVERAGE</th>\n",
              "      <th>NAME</th>\n",
              "    </tr>\n",
              "  </thead>\n",
              "  <tbody>\n",
              "    <tr>\n",
              "      <th>0</th>\n",
              "      <td>f0f3bc8d-ef38-49ce-a2bd-dfdda982b271</td>\n",
              "      <td>2017-08-24</td>\n",
              "      <td>NaN</td>\n",
              "      <td>XXX-XX-6630</td>\n",
              "      <td>NaN</td>\n",
              "      <td>NaN</td>\n",
              "      <td>NaN</td>\n",
              "      <td>NaN</td>\n",
              "      <td>NaN</td>\n",
              "      <td>NaN</td>\n",
              "      <td>white</td>\n",
              "      <td>nonhispanic</td>\n",
              "      <td>M</td>\n",
              "      <td>Beverly  Massachusetts  US</td>\n",
              "      <td>888 Hickle Ferry Suite 38</td>\n",
              "      <td>Springfield</td>\n",
              "      <td>Massachusetts</td>\n",
              "      <td>Hampden County</td>\n",
              "      <td>1106.0</td>\n",
              "      <td>42.151961</td>\n",
              "      <td>-72.598959</td>\n",
              "      <td>8446.49</td>\n",
              "      <td>1499.08</td>\n",
              "      <td>Jacinto644Kris249</td>\n",
              "    </tr>\n",
              "    <tr>\n",
              "      <th>1</th>\n",
              "      <td>067318a4-db8f-447f-8b6e-f2f61e9baaa5</td>\n",
              "      <td>2016-08-01</td>\n",
              "      <td>NaN</td>\n",
              "      <td>XXX-XX-5895</td>\n",
              "      <td>NaN</td>\n",
              "      <td>NaN</td>\n",
              "      <td>NaN</td>\n",
              "      <td>NaN</td>\n",
              "      <td>NaN</td>\n",
              "      <td>NaN</td>\n",
              "      <td>white</td>\n",
              "      <td>nonhispanic</td>\n",
              "      <td>F</td>\n",
              "      <td>Boston  Massachusetts  US</td>\n",
              "      <td>1048 Skiles Trailer</td>\n",
              "      <td>Walpole</td>\n",
              "      <td>Massachusetts</td>\n",
              "      <td>Norfolk County</td>\n",
              "      <td>2081.0</td>\n",
              "      <td>42.177370</td>\n",
              "      <td>-71.281353</td>\n",
              "      <td>89893.40</td>\n",
              "      <td>1845.72</td>\n",
              "      <td>Alva958Krajcik437</td>\n",
              "    </tr>\n",
              "    <tr>\n",
              "      <th>2</th>\n",
              "      <td>ae9efba3-ddc4-43f9-a781-f72019388548</td>\n",
              "      <td>1992-06-30</td>\n",
              "      <td>NaN</td>\n",
              "      <td>XXX-XX-3385</td>\n",
              "      <td>S99971451</td>\n",
              "      <td>X53218815X</td>\n",
              "      <td>Mr.</td>\n",
              "      <td>NaN</td>\n",
              "      <td>NaN</td>\n",
              "      <td>S</td>\n",
              "      <td>white</td>\n",
              "      <td>nonhispanic</td>\n",
              "      <td>M</td>\n",
              "      <td>Springfield  Massachusetts  US</td>\n",
              "      <td>1056 Harris Lane Suite 70</td>\n",
              "      <td>Chicopee</td>\n",
              "      <td>Massachusetts</td>\n",
              "      <td>Hampden County</td>\n",
              "      <td>1020.0</td>\n",
              "      <td>42.181642</td>\n",
              "      <td>-72.608842</td>\n",
              "      <td>577445.86</td>\n",
              "      <td>3528.84</td>\n",
              "      <td>Jayson808Fadel536</td>\n",
              "    </tr>\n",
              "    <tr>\n",
              "      <th>3</th>\n",
              "      <td>199c586f-af16-4091-9998-ee4cfc02ee7a</td>\n",
              "      <td>2004-01-09</td>\n",
              "      <td>NaN</td>\n",
              "      <td>XXX-XX-2461</td>\n",
              "      <td>S99956432</td>\n",
              "      <td>NaN</td>\n",
              "      <td>NaN</td>\n",
              "      <td>NaN</td>\n",
              "      <td>NaN</td>\n",
              "      <td>NaN</td>\n",
              "      <td>white</td>\n",
              "      <td>nonhispanic</td>\n",
              "      <td>F</td>\n",
              "      <td>Worcester  Massachusetts  US</td>\n",
              "      <td>201 Mitchell Lodge Unit 67</td>\n",
              "      <td>Pembroke</td>\n",
              "      <td>Massachusetts</td>\n",
              "      <td>Plymouth County</td>\n",
              "      <td>NaN</td>\n",
              "      <td>42.075292</td>\n",
              "      <td>-70.757035</td>\n",
              "      <td>336701.72</td>\n",
              "      <td>2705.64</td>\n",
              "      <td>Jimmie93Harris789</td>\n",
              "    </tr>\n",
              "    <tr>\n",
              "      <th>4</th>\n",
              "      <td>353016ea-a0ff-4154-85bb-1cf8b6cedf20</td>\n",
              "      <td>1996-11-15</td>\n",
              "      <td>NaN</td>\n",
              "      <td>XXX-XX-7372</td>\n",
              "      <td>S99917327</td>\n",
              "      <td>X58903159X</td>\n",
              "      <td>Mr.</td>\n",
              "      <td>NaN</td>\n",
              "      <td>NaN</td>\n",
              "      <td>NaN</td>\n",
              "      <td>white</td>\n",
              "      <td>nonhispanic</td>\n",
              "      <td>M</td>\n",
              "      <td>Patras  Achaea  GR</td>\n",
              "      <td>1050 Lindgren Extension Apt 38</td>\n",
              "      <td>Boston</td>\n",
              "      <td>Massachusetts</td>\n",
              "      <td>Suffolk County</td>\n",
              "      <td>2135.0</td>\n",
              "      <td>42.352434</td>\n",
              "      <td>-71.028610</td>\n",
              "      <td>484076.34</td>\n",
              "      <td>3043.04</td>\n",
              "      <td>Gregorio366Auer97</td>\n",
              "    </tr>\n",
              "  </tbody>\n",
              "</table>\n",
              "</div>"
            ],
            "text/plain": [
              "                                     Id  ...               NAME\n",
              "0  f0f3bc8d-ef38-49ce-a2bd-dfdda982b271  ...  Jacinto644Kris249\n",
              "1  067318a4-db8f-447f-8b6e-f2f61e9baaa5  ...  Alva958Krajcik437\n",
              "2  ae9efba3-ddc4-43f9-a781-f72019388548  ...  Jayson808Fadel536\n",
              "3  199c586f-af16-4091-9998-ee4cfc02ee7a  ...  Jimmie93Harris789\n",
              "4  353016ea-a0ff-4154-85bb-1cf8b6cedf20  ...  Gregorio366Auer97\n",
              "\n",
              "[5 rows x 24 columns]"
            ]
          },
          "metadata": {
            "tags": []
          },
          "execution_count": 18
        }
      ]
    },
    {
      "cell_type": "code",
      "metadata": {
        "colab": {
          "base_uri": "https://localhost:8080/",
          "height": 479
        },
        "id": "wNePI7ucUH8N",
        "outputId": "c94e7090-8470-4d5c-99fb-0a8d68809a2b"
      },
      "source": [
        "anonymize , hashTable = hashingDataframe(anonymize,\"NAME\")\n",
        "anonymize.head()"
      ],
      "execution_count": null,
      "outputs": [
        {
          "output_type": "execute_result",
          "data": {
            "text/html": [
              "<div>\n",
              "<style scoped>\n",
              "    .dataframe tbody tr th:only-of-type {\n",
              "        vertical-align: middle;\n",
              "    }\n",
              "\n",
              "    .dataframe tbody tr th {\n",
              "        vertical-align: top;\n",
              "    }\n",
              "\n",
              "    .dataframe thead th {\n",
              "        text-align: right;\n",
              "    }\n",
              "</style>\n",
              "<table border=\"1\" class=\"dataframe\">\n",
              "  <thead>\n",
              "    <tr style=\"text-align: right;\">\n",
              "      <th></th>\n",
              "      <th>Id</th>\n",
              "      <th>BIRTHDATE</th>\n",
              "      <th>DEATHDATE</th>\n",
              "      <th>SSN</th>\n",
              "      <th>DRIVERS</th>\n",
              "      <th>PASSPORT</th>\n",
              "      <th>PREFIX</th>\n",
              "      <th>SUFFIX</th>\n",
              "      <th>MAIDEN</th>\n",
              "      <th>MARITAL</th>\n",
              "      <th>RACE</th>\n",
              "      <th>ETHNICITY</th>\n",
              "      <th>GENDER</th>\n",
              "      <th>BIRTHPLACE</th>\n",
              "      <th>ADDRESS</th>\n",
              "      <th>CITY</th>\n",
              "      <th>STATE</th>\n",
              "      <th>COUNTY</th>\n",
              "      <th>ZIP</th>\n",
              "      <th>LAT</th>\n",
              "      <th>LON</th>\n",
              "      <th>HEALTHCARE_EXPENSES</th>\n",
              "      <th>HEALTHCARE_COVERAGE</th>\n",
              "      <th>NAME-hash</th>\n",
              "    </tr>\n",
              "  </thead>\n",
              "  <tbody>\n",
              "    <tr>\n",
              "      <th>0</th>\n",
              "      <td>f0f3bc8d-ef38-49ce-a2bd-dfdda982b271</td>\n",
              "      <td>2017-08-24</td>\n",
              "      <td>NaN</td>\n",
              "      <td>XXX-XX-6630</td>\n",
              "      <td>NaN</td>\n",
              "      <td>NaN</td>\n",
              "      <td>NaN</td>\n",
              "      <td>NaN</td>\n",
              "      <td>NaN</td>\n",
              "      <td>NaN</td>\n",
              "      <td>white</td>\n",
              "      <td>nonhispanic</td>\n",
              "      <td>M</td>\n",
              "      <td>Beverly  Massachusetts  US</td>\n",
              "      <td>888 Hickle Ferry Suite 38</td>\n",
              "      <td>Springfield</td>\n",
              "      <td>Massachusetts</td>\n",
              "      <td>Hampden County</td>\n",
              "      <td>1106.0</td>\n",
              "      <td>42.151961</td>\n",
              "      <td>-72.598959</td>\n",
              "      <td>8446.49</td>\n",
              "      <td>1499.08</td>\n",
              "      <td>0fba5d64abfabc75e21b691fd04760c8108d815d</td>\n",
              "    </tr>\n",
              "    <tr>\n",
              "      <th>1</th>\n",
              "      <td>067318a4-db8f-447f-8b6e-f2f61e9baaa5</td>\n",
              "      <td>2016-08-01</td>\n",
              "      <td>NaN</td>\n",
              "      <td>XXX-XX-5895</td>\n",
              "      <td>NaN</td>\n",
              "      <td>NaN</td>\n",
              "      <td>NaN</td>\n",
              "      <td>NaN</td>\n",
              "      <td>NaN</td>\n",
              "      <td>NaN</td>\n",
              "      <td>white</td>\n",
              "      <td>nonhispanic</td>\n",
              "      <td>F</td>\n",
              "      <td>Boston  Massachusetts  US</td>\n",
              "      <td>1048 Skiles Trailer</td>\n",
              "      <td>Walpole</td>\n",
              "      <td>Massachusetts</td>\n",
              "      <td>Norfolk County</td>\n",
              "      <td>2081.0</td>\n",
              "      <td>42.177370</td>\n",
              "      <td>-71.281353</td>\n",
              "      <td>89893.40</td>\n",
              "      <td>1845.72</td>\n",
              "      <td>deebcefd284e87cf50650db8a675ae15aac011b1</td>\n",
              "    </tr>\n",
              "    <tr>\n",
              "      <th>2</th>\n",
              "      <td>ae9efba3-ddc4-43f9-a781-f72019388548</td>\n",
              "      <td>1992-06-30</td>\n",
              "      <td>NaN</td>\n",
              "      <td>XXX-XX-3385</td>\n",
              "      <td>S99971451</td>\n",
              "      <td>X53218815X</td>\n",
              "      <td>Mr.</td>\n",
              "      <td>NaN</td>\n",
              "      <td>NaN</td>\n",
              "      <td>S</td>\n",
              "      <td>white</td>\n",
              "      <td>nonhispanic</td>\n",
              "      <td>M</td>\n",
              "      <td>Springfield  Massachusetts  US</td>\n",
              "      <td>1056 Harris Lane Suite 70</td>\n",
              "      <td>Chicopee</td>\n",
              "      <td>Massachusetts</td>\n",
              "      <td>Hampden County</td>\n",
              "      <td>1020.0</td>\n",
              "      <td>42.181642</td>\n",
              "      <td>-72.608842</td>\n",
              "      <td>577445.86</td>\n",
              "      <td>3528.84</td>\n",
              "      <td>bfe354e209874d1d8013f055bb8a28553f05166e</td>\n",
              "    </tr>\n",
              "    <tr>\n",
              "      <th>3</th>\n",
              "      <td>199c586f-af16-4091-9998-ee4cfc02ee7a</td>\n",
              "      <td>2004-01-09</td>\n",
              "      <td>NaN</td>\n",
              "      <td>XXX-XX-2461</td>\n",
              "      <td>S99956432</td>\n",
              "      <td>NaN</td>\n",
              "      <td>NaN</td>\n",
              "      <td>NaN</td>\n",
              "      <td>NaN</td>\n",
              "      <td>NaN</td>\n",
              "      <td>white</td>\n",
              "      <td>nonhispanic</td>\n",
              "      <td>F</td>\n",
              "      <td>Worcester  Massachusetts  US</td>\n",
              "      <td>201 Mitchell Lodge Unit 67</td>\n",
              "      <td>Pembroke</td>\n",
              "      <td>Massachusetts</td>\n",
              "      <td>Plymouth County</td>\n",
              "      <td>NaN</td>\n",
              "      <td>42.075292</td>\n",
              "      <td>-70.757035</td>\n",
              "      <td>336701.72</td>\n",
              "      <td>2705.64</td>\n",
              "      <td>9602fdeaad88b53e34c33431549af224cfed63ca</td>\n",
              "    </tr>\n",
              "    <tr>\n",
              "      <th>4</th>\n",
              "      <td>353016ea-a0ff-4154-85bb-1cf8b6cedf20</td>\n",
              "      <td>1996-11-15</td>\n",
              "      <td>NaN</td>\n",
              "      <td>XXX-XX-7372</td>\n",
              "      <td>S99917327</td>\n",
              "      <td>X58903159X</td>\n",
              "      <td>Mr.</td>\n",
              "      <td>NaN</td>\n",
              "      <td>NaN</td>\n",
              "      <td>NaN</td>\n",
              "      <td>white</td>\n",
              "      <td>nonhispanic</td>\n",
              "      <td>M</td>\n",
              "      <td>Patras  Achaea  GR</td>\n",
              "      <td>1050 Lindgren Extension Apt 38</td>\n",
              "      <td>Boston</td>\n",
              "      <td>Massachusetts</td>\n",
              "      <td>Suffolk County</td>\n",
              "      <td>2135.0</td>\n",
              "      <td>42.352434</td>\n",
              "      <td>-71.028610</td>\n",
              "      <td>484076.34</td>\n",
              "      <td>3043.04</td>\n",
              "      <td>1508df7e77411847d59eb4571114353433f4d669</td>\n",
              "    </tr>\n",
              "  </tbody>\n",
              "</table>\n",
              "</div>"
            ],
            "text/plain": [
              "                                     Id  ...                                 NAME-hash\n",
              "0  f0f3bc8d-ef38-49ce-a2bd-dfdda982b271  ...  0fba5d64abfabc75e21b691fd04760c8108d815d\n",
              "1  067318a4-db8f-447f-8b6e-f2f61e9baaa5  ...  deebcefd284e87cf50650db8a675ae15aac011b1\n",
              "2  ae9efba3-ddc4-43f9-a781-f72019388548  ...  bfe354e209874d1d8013f055bb8a28553f05166e\n",
              "3  199c586f-af16-4091-9998-ee4cfc02ee7a  ...  9602fdeaad88b53e34c33431549af224cfed63ca\n",
              "4  353016ea-a0ff-4154-85bb-1cf8b6cedf20  ...  1508df7e77411847d59eb4571114353433f4d669\n",
              "\n",
              "[5 rows x 24 columns]"
            ]
          },
          "metadata": {
            "tags": []
          },
          "execution_count": 19
        }
      ]
    },
    {
      "cell_type": "markdown",
      "metadata": {
        "id": "SZy66WqshRW0"
      },
      "source": [
        "# Generalization"
      ]
    },
    {
      "cell_type": "markdown",
      "metadata": {
        "id": "PeQVo7e4Melk"
      },
      "source": [
        "\n",
        "\n",
        "```\n",
        "# generalization =เปลี่ยนรูปข้อมูลให้อยู่ในรูปทั่วไป เพื่อเพิ่มความยากในการหาความเฉพาะ\n",
        "\n",
        "เช่น อายุ 24 -> ช่วง 20 - 30\n",
        "วดป เกิด 11/02/1995 ->  02/1995 , 1995 \n",
        "ข้อมูลบ้านเลขที่ 1/1 ซ.กระเพรา ... กรุงเทพ 10520 ->  10520\n",
        "\n",
        "``` **ทำข้อความเป็นตัวหนา**\n",
        "\n"
      ]
    },
    {
      "cell_type": "markdown",
      "metadata": {
        "id": "qE8kxtKQVwGN"
      },
      "source": [
        "**Test Algorithm**"
      ]
    },
    {
      "cell_type": "code",
      "metadata": {
        "colab": {
          "base_uri": "https://localhost:8080/"
        },
        "id": "yWaubTk1hVG4",
        "outputId": "bbaed360-296f-4b2e-f01a-5f28aeadc38a"
      },
      "source": [
        "pd.DatetimeIndex(df[\"BIRTHDATE\"]).year"
      ],
      "execution_count": null,
      "outputs": [
        {
          "output_type": "execute_result",
          "data": {
            "text/plain": [
              "Int64Index([2017, 2016, 1992, 2004, 1996, 2019, 1983, 1989, 1991, 2005,\n",
              "            ...\n",
              "            1960, 1975, 1980, 1990, 1960, 1962, 1918, 1918, 1918, 1941],\n",
              "           dtype='int64', name='BIRTHDATE', length=12352)"
            ]
          },
          "metadata": {
            "tags": []
          },
          "execution_count": 21
        }
      ]
    },
    {
      "cell_type": "code",
      "metadata": {
        "colab": {
          "base_uri": "https://localhost:8080/"
        },
        "id": "6bmWBtIXg45D",
        "outputId": "081c6c4e-19df-4ff7-e7f8-3c4c6a6dcb94"
      },
      "source": [
        "pd.to_datetime(df['BIRTHDATE']).dt.strftime('%Y-%m')"
      ],
      "execution_count": null,
      "outputs": [
        {
          "output_type": "execute_result",
          "data": {
            "text/plain": [
              "0        2017-08\n",
              "1        2016-08\n",
              "2        1992-06\n",
              "3        2004-01\n",
              "4        1996-11\n",
              "          ...   \n",
              "12347    1962-08\n",
              "12348    1918-10\n",
              "12349    1918-10\n",
              "12350    1918-10\n",
              "12351    1941-02\n",
              "Name: BIRTHDATE, Length: 12352, dtype: object"
            ]
          },
          "metadata": {
            "tags": []
          },
          "execution_count": 22
        }
      ]
    },
    {
      "cell_type": "code",
      "metadata": {
        "colab": {
          "base_uri": "https://localhost:8080/"
        },
        "id": "zmK2QWChxJPb",
        "outputId": "d104574d-34e1-48c0-9697-63a9d2a4f894"
      },
      "source": [
        "pd.to_datetime(df['BIRTHDATE']).dt.year + pd.to_datetime(df['BIRTHDATE']).dt.month"
      ],
      "execution_count": null,
      "outputs": [
        {
          "output_type": "execute_result",
          "data": {
            "text/plain": [
              "0        2025\n",
              "1        2024\n",
              "2        1998\n",
              "3        2005\n",
              "4        2007\n",
              "         ... \n",
              "12347    1970\n",
              "12348    1928\n",
              "12349    1928\n",
              "12350    1928\n",
              "12351    1943\n",
              "Name: BIRTHDATE, Length: 12352, dtype: int64"
            ]
          },
          "metadata": {
            "tags": []
          },
          "execution_count": 23
        }
      ]
    },
    {
      "cell_type": "code",
      "metadata": {
        "id": "kAMFV2iQzGI1"
      },
      "source": [
        "anonymize[\"BIRTHDATE\"] =  df.apply(lambda row : pd.to_datetime(row[\"BIRTHDATE\"]).strftime('%Y-%m') ,axis = 1 )"
      ],
      "execution_count": null,
      "outputs": []
    },
    {
      "cell_type": "code",
      "metadata": {
        "colab": {
          "base_uri": "https://localhost:8080/",
          "height": 479
        },
        "id": "7wD2Zn7qiPXe",
        "outputId": "a0b8c1d7-4f80-4a64-91f1-f2786e59ff29"
      },
      "source": [
        "gen_year = df.copy()\n",
        "gen_year[\"BIRTHDATE\"] =  df.apply(lambda row : pd.to_datetime(row[\"BIRTHDATE\"]).year ,axis = 1 )\n",
        "gen_year.head()"
      ],
      "execution_count": null,
      "outputs": [
        {
          "output_type": "execute_result",
          "data": {
            "text/html": [
              "<div>\n",
              "<style scoped>\n",
              "    .dataframe tbody tr th:only-of-type {\n",
              "        vertical-align: middle;\n",
              "    }\n",
              "\n",
              "    .dataframe tbody tr th {\n",
              "        vertical-align: top;\n",
              "    }\n",
              "\n",
              "    .dataframe thead th {\n",
              "        text-align: right;\n",
              "    }\n",
              "</style>\n",
              "<table border=\"1\" class=\"dataframe\">\n",
              "  <thead>\n",
              "    <tr style=\"text-align: right;\">\n",
              "      <th></th>\n",
              "      <th>Id</th>\n",
              "      <th>BIRTHDATE</th>\n",
              "      <th>DEATHDATE</th>\n",
              "      <th>SSN</th>\n",
              "      <th>DRIVERS</th>\n",
              "      <th>PASSPORT</th>\n",
              "      <th>PREFIX</th>\n",
              "      <th>FIRST</th>\n",
              "      <th>LAST</th>\n",
              "      <th>SUFFIX</th>\n",
              "      <th>MAIDEN</th>\n",
              "      <th>MARITAL</th>\n",
              "      <th>RACE</th>\n",
              "      <th>ETHNICITY</th>\n",
              "      <th>GENDER</th>\n",
              "      <th>BIRTHPLACE</th>\n",
              "      <th>ADDRESS</th>\n",
              "      <th>CITY</th>\n",
              "      <th>STATE</th>\n",
              "      <th>COUNTY</th>\n",
              "      <th>ZIP</th>\n",
              "      <th>LAT</th>\n",
              "      <th>LON</th>\n",
              "      <th>HEALTHCARE_EXPENSES</th>\n",
              "      <th>HEALTHCARE_COVERAGE</th>\n",
              "    </tr>\n",
              "  </thead>\n",
              "  <tbody>\n",
              "    <tr>\n",
              "      <th>0</th>\n",
              "      <td>f0f3bc8d-ef38-49ce-a2bd-dfdda982b271</td>\n",
              "      <td>2017</td>\n",
              "      <td>NaN</td>\n",
              "      <td>999-68-6630</td>\n",
              "      <td>NaN</td>\n",
              "      <td>NaN</td>\n",
              "      <td>NaN</td>\n",
              "      <td>Jacinto644</td>\n",
              "      <td>Kris249</td>\n",
              "      <td>NaN</td>\n",
              "      <td>NaN</td>\n",
              "      <td>NaN</td>\n",
              "      <td>white</td>\n",
              "      <td>nonhispanic</td>\n",
              "      <td>M</td>\n",
              "      <td>Beverly  Massachusetts  US</td>\n",
              "      <td>888 Hickle Ferry Suite 38</td>\n",
              "      <td>Springfield</td>\n",
              "      <td>Massachusetts</td>\n",
              "      <td>Hampden County</td>\n",
              "      <td>1106.0</td>\n",
              "      <td>42.151961</td>\n",
              "      <td>-72.598959</td>\n",
              "      <td>8446.49</td>\n",
              "      <td>1499.08</td>\n",
              "    </tr>\n",
              "    <tr>\n",
              "      <th>1</th>\n",
              "      <td>067318a4-db8f-447f-8b6e-f2f61e9baaa5</td>\n",
              "      <td>2016</td>\n",
              "      <td>NaN</td>\n",
              "      <td>999-15-5895</td>\n",
              "      <td>NaN</td>\n",
              "      <td>NaN</td>\n",
              "      <td>NaN</td>\n",
              "      <td>Alva958</td>\n",
              "      <td>Krajcik437</td>\n",
              "      <td>NaN</td>\n",
              "      <td>NaN</td>\n",
              "      <td>NaN</td>\n",
              "      <td>white</td>\n",
              "      <td>nonhispanic</td>\n",
              "      <td>F</td>\n",
              "      <td>Boston  Massachusetts  US</td>\n",
              "      <td>1048 Skiles Trailer</td>\n",
              "      <td>Walpole</td>\n",
              "      <td>Massachusetts</td>\n",
              "      <td>Norfolk County</td>\n",
              "      <td>2081.0</td>\n",
              "      <td>42.177370</td>\n",
              "      <td>-71.281353</td>\n",
              "      <td>89893.40</td>\n",
              "      <td>1845.72</td>\n",
              "    </tr>\n",
              "    <tr>\n",
              "      <th>2</th>\n",
              "      <td>ae9efba3-ddc4-43f9-a781-f72019388548</td>\n",
              "      <td>1992</td>\n",
              "      <td>NaN</td>\n",
              "      <td>999-27-3385</td>\n",
              "      <td>S99971451</td>\n",
              "      <td>X53218815X</td>\n",
              "      <td>Mr.</td>\n",
              "      <td>Jayson808</td>\n",
              "      <td>Fadel536</td>\n",
              "      <td>NaN</td>\n",
              "      <td>NaN</td>\n",
              "      <td>S</td>\n",
              "      <td>white</td>\n",
              "      <td>nonhispanic</td>\n",
              "      <td>M</td>\n",
              "      <td>Springfield  Massachusetts  US</td>\n",
              "      <td>1056 Harris Lane Suite 70</td>\n",
              "      <td>Chicopee</td>\n",
              "      <td>Massachusetts</td>\n",
              "      <td>Hampden County</td>\n",
              "      <td>1020.0</td>\n",
              "      <td>42.181642</td>\n",
              "      <td>-72.608842</td>\n",
              "      <td>577445.86</td>\n",
              "      <td>3528.84</td>\n",
              "    </tr>\n",
              "    <tr>\n",
              "      <th>3</th>\n",
              "      <td>199c586f-af16-4091-9998-ee4cfc02ee7a</td>\n",
              "      <td>2004</td>\n",
              "      <td>NaN</td>\n",
              "      <td>999-73-2461</td>\n",
              "      <td>S99956432</td>\n",
              "      <td>NaN</td>\n",
              "      <td>NaN</td>\n",
              "      <td>Jimmie93</td>\n",
              "      <td>Harris789</td>\n",
              "      <td>NaN</td>\n",
              "      <td>NaN</td>\n",
              "      <td>NaN</td>\n",
              "      <td>white</td>\n",
              "      <td>nonhispanic</td>\n",
              "      <td>F</td>\n",
              "      <td>Worcester  Massachusetts  US</td>\n",
              "      <td>201 Mitchell Lodge Unit 67</td>\n",
              "      <td>Pembroke</td>\n",
              "      <td>Massachusetts</td>\n",
              "      <td>Plymouth County</td>\n",
              "      <td>NaN</td>\n",
              "      <td>42.075292</td>\n",
              "      <td>-70.757035</td>\n",
              "      <td>336701.72</td>\n",
              "      <td>2705.64</td>\n",
              "    </tr>\n",
              "    <tr>\n",
              "      <th>4</th>\n",
              "      <td>353016ea-a0ff-4154-85bb-1cf8b6cedf20</td>\n",
              "      <td>1996</td>\n",
              "      <td>NaN</td>\n",
              "      <td>999-60-7372</td>\n",
              "      <td>S99917327</td>\n",
              "      <td>X58903159X</td>\n",
              "      <td>Mr.</td>\n",
              "      <td>Gregorio366</td>\n",
              "      <td>Auer97</td>\n",
              "      <td>NaN</td>\n",
              "      <td>NaN</td>\n",
              "      <td>NaN</td>\n",
              "      <td>white</td>\n",
              "      <td>nonhispanic</td>\n",
              "      <td>M</td>\n",
              "      <td>Patras  Achaea  GR</td>\n",
              "      <td>1050 Lindgren Extension Apt 38</td>\n",
              "      <td>Boston</td>\n",
              "      <td>Massachusetts</td>\n",
              "      <td>Suffolk County</td>\n",
              "      <td>2135.0</td>\n",
              "      <td>42.352434</td>\n",
              "      <td>-71.028610</td>\n",
              "      <td>484076.34</td>\n",
              "      <td>3043.04</td>\n",
              "    </tr>\n",
              "  </tbody>\n",
              "</table>\n",
              "</div>"
            ],
            "text/plain": [
              "                                     Id  ...  HEALTHCARE_COVERAGE\n",
              "0  f0f3bc8d-ef38-49ce-a2bd-dfdda982b271  ...              1499.08\n",
              "1  067318a4-db8f-447f-8b6e-f2f61e9baaa5  ...              1845.72\n",
              "2  ae9efba3-ddc4-43f9-a781-f72019388548  ...              3528.84\n",
              "3  199c586f-af16-4091-9998-ee4cfc02ee7a  ...              2705.64\n",
              "4  353016ea-a0ff-4154-85bb-1cf8b6cedf20  ...              3043.04\n",
              "\n",
              "[5 rows x 25 columns]"
            ]
          },
          "metadata": {
            "tags": []
          },
          "execution_count": 25
        }
      ]
    },
    {
      "cell_type": "code",
      "metadata": {
        "id": "rBLcTp5Nt7SE",
        "colab": {
          "base_uri": "https://localhost:8080/",
          "height": 479
        },
        "outputId": "47272131-1cb6-4247-a08b-a9a15187c5b3"
      },
      "source": [
        "anonymize.head()"
      ],
      "execution_count": null,
      "outputs": [
        {
          "output_type": "execute_result",
          "data": {
            "text/html": [
              "<div>\n",
              "<style scoped>\n",
              "    .dataframe tbody tr th:only-of-type {\n",
              "        vertical-align: middle;\n",
              "    }\n",
              "\n",
              "    .dataframe tbody tr th {\n",
              "        vertical-align: top;\n",
              "    }\n",
              "\n",
              "    .dataframe thead th {\n",
              "        text-align: right;\n",
              "    }\n",
              "</style>\n",
              "<table border=\"1\" class=\"dataframe\">\n",
              "  <thead>\n",
              "    <tr style=\"text-align: right;\">\n",
              "      <th></th>\n",
              "      <th>Id</th>\n",
              "      <th>BIRTHDATE</th>\n",
              "      <th>DEATHDATE</th>\n",
              "      <th>SSN</th>\n",
              "      <th>DRIVERS</th>\n",
              "      <th>PASSPORT</th>\n",
              "      <th>PREFIX</th>\n",
              "      <th>SUFFIX</th>\n",
              "      <th>MAIDEN</th>\n",
              "      <th>MARITAL</th>\n",
              "      <th>RACE</th>\n",
              "      <th>ETHNICITY</th>\n",
              "      <th>GENDER</th>\n",
              "      <th>BIRTHPLACE</th>\n",
              "      <th>ADDRESS</th>\n",
              "      <th>CITY</th>\n",
              "      <th>STATE</th>\n",
              "      <th>COUNTY</th>\n",
              "      <th>ZIP</th>\n",
              "      <th>LAT</th>\n",
              "      <th>LON</th>\n",
              "      <th>HEALTHCARE_EXPENSES</th>\n",
              "      <th>HEALTHCARE_COVERAGE</th>\n",
              "      <th>NAME-hash</th>\n",
              "    </tr>\n",
              "  </thead>\n",
              "  <tbody>\n",
              "    <tr>\n",
              "      <th>0</th>\n",
              "      <td>f0f3bc8d-ef38-49ce-a2bd-dfdda982b271</td>\n",
              "      <td>2017-08</td>\n",
              "      <td>NaN</td>\n",
              "      <td>XXX-XX-6630</td>\n",
              "      <td>NaN</td>\n",
              "      <td>NaN</td>\n",
              "      <td>NaN</td>\n",
              "      <td>NaN</td>\n",
              "      <td>NaN</td>\n",
              "      <td>NaN</td>\n",
              "      <td>white</td>\n",
              "      <td>nonhispanic</td>\n",
              "      <td>M</td>\n",
              "      <td>Beverly  Massachusetts  US</td>\n",
              "      <td>888 Hickle Ferry Suite 38</td>\n",
              "      <td>Springfield</td>\n",
              "      <td>Massachusetts</td>\n",
              "      <td>Hampden County</td>\n",
              "      <td>1106.0</td>\n",
              "      <td>42.151961</td>\n",
              "      <td>-72.598959</td>\n",
              "      <td>8446.49</td>\n",
              "      <td>1499.08</td>\n",
              "      <td>0fba5d64abfabc75e21b691fd04760c8108d815d</td>\n",
              "    </tr>\n",
              "    <tr>\n",
              "      <th>1</th>\n",
              "      <td>067318a4-db8f-447f-8b6e-f2f61e9baaa5</td>\n",
              "      <td>2016-08</td>\n",
              "      <td>NaN</td>\n",
              "      <td>XXX-XX-5895</td>\n",
              "      <td>NaN</td>\n",
              "      <td>NaN</td>\n",
              "      <td>NaN</td>\n",
              "      <td>NaN</td>\n",
              "      <td>NaN</td>\n",
              "      <td>NaN</td>\n",
              "      <td>white</td>\n",
              "      <td>nonhispanic</td>\n",
              "      <td>F</td>\n",
              "      <td>Boston  Massachusetts  US</td>\n",
              "      <td>1048 Skiles Trailer</td>\n",
              "      <td>Walpole</td>\n",
              "      <td>Massachusetts</td>\n",
              "      <td>Norfolk County</td>\n",
              "      <td>2081.0</td>\n",
              "      <td>42.177370</td>\n",
              "      <td>-71.281353</td>\n",
              "      <td>89893.40</td>\n",
              "      <td>1845.72</td>\n",
              "      <td>deebcefd284e87cf50650db8a675ae15aac011b1</td>\n",
              "    </tr>\n",
              "    <tr>\n",
              "      <th>2</th>\n",
              "      <td>ae9efba3-ddc4-43f9-a781-f72019388548</td>\n",
              "      <td>1992-06</td>\n",
              "      <td>NaN</td>\n",
              "      <td>XXX-XX-3385</td>\n",
              "      <td>S99971451</td>\n",
              "      <td>X53218815X</td>\n",
              "      <td>Mr.</td>\n",
              "      <td>NaN</td>\n",
              "      <td>NaN</td>\n",
              "      <td>S</td>\n",
              "      <td>white</td>\n",
              "      <td>nonhispanic</td>\n",
              "      <td>M</td>\n",
              "      <td>Springfield  Massachusetts  US</td>\n",
              "      <td>1056 Harris Lane Suite 70</td>\n",
              "      <td>Chicopee</td>\n",
              "      <td>Massachusetts</td>\n",
              "      <td>Hampden County</td>\n",
              "      <td>1020.0</td>\n",
              "      <td>42.181642</td>\n",
              "      <td>-72.608842</td>\n",
              "      <td>577445.86</td>\n",
              "      <td>3528.84</td>\n",
              "      <td>bfe354e209874d1d8013f055bb8a28553f05166e</td>\n",
              "    </tr>\n",
              "    <tr>\n",
              "      <th>3</th>\n",
              "      <td>199c586f-af16-4091-9998-ee4cfc02ee7a</td>\n",
              "      <td>2004-01</td>\n",
              "      <td>NaN</td>\n",
              "      <td>XXX-XX-2461</td>\n",
              "      <td>S99956432</td>\n",
              "      <td>NaN</td>\n",
              "      <td>NaN</td>\n",
              "      <td>NaN</td>\n",
              "      <td>NaN</td>\n",
              "      <td>NaN</td>\n",
              "      <td>white</td>\n",
              "      <td>nonhispanic</td>\n",
              "      <td>F</td>\n",
              "      <td>Worcester  Massachusetts  US</td>\n",
              "      <td>201 Mitchell Lodge Unit 67</td>\n",
              "      <td>Pembroke</td>\n",
              "      <td>Massachusetts</td>\n",
              "      <td>Plymouth County</td>\n",
              "      <td>NaN</td>\n",
              "      <td>42.075292</td>\n",
              "      <td>-70.757035</td>\n",
              "      <td>336701.72</td>\n",
              "      <td>2705.64</td>\n",
              "      <td>9602fdeaad88b53e34c33431549af224cfed63ca</td>\n",
              "    </tr>\n",
              "    <tr>\n",
              "      <th>4</th>\n",
              "      <td>353016ea-a0ff-4154-85bb-1cf8b6cedf20</td>\n",
              "      <td>1996-11</td>\n",
              "      <td>NaN</td>\n",
              "      <td>XXX-XX-7372</td>\n",
              "      <td>S99917327</td>\n",
              "      <td>X58903159X</td>\n",
              "      <td>Mr.</td>\n",
              "      <td>NaN</td>\n",
              "      <td>NaN</td>\n",
              "      <td>NaN</td>\n",
              "      <td>white</td>\n",
              "      <td>nonhispanic</td>\n",
              "      <td>M</td>\n",
              "      <td>Patras  Achaea  GR</td>\n",
              "      <td>1050 Lindgren Extension Apt 38</td>\n",
              "      <td>Boston</td>\n",
              "      <td>Massachusetts</td>\n",
              "      <td>Suffolk County</td>\n",
              "      <td>2135.0</td>\n",
              "      <td>42.352434</td>\n",
              "      <td>-71.028610</td>\n",
              "      <td>484076.34</td>\n",
              "      <td>3043.04</td>\n",
              "      <td>1508df7e77411847d59eb4571114353433f4d669</td>\n",
              "    </tr>\n",
              "  </tbody>\n",
              "</table>\n",
              "</div>"
            ],
            "text/plain": [
              "                                     Id  ...                                 NAME-hash\n",
              "0  f0f3bc8d-ef38-49ce-a2bd-dfdda982b271  ...  0fba5d64abfabc75e21b691fd04760c8108d815d\n",
              "1  067318a4-db8f-447f-8b6e-f2f61e9baaa5  ...  deebcefd284e87cf50650db8a675ae15aac011b1\n",
              "2  ae9efba3-ddc4-43f9-a781-f72019388548  ...  bfe354e209874d1d8013f055bb8a28553f05166e\n",
              "3  199c586f-af16-4091-9998-ee4cfc02ee7a  ...  9602fdeaad88b53e34c33431549af224cfed63ca\n",
              "4  353016ea-a0ff-4154-85bb-1cf8b6cedf20  ...  1508df7e77411847d59eb4571114353433f4d669\n",
              "\n",
              "[5 rows x 24 columns]"
            ]
          },
          "metadata": {
            "tags": []
          },
          "execution_count": 26
        }
      ]
    },
    {
      "cell_type": "code",
      "metadata": {
        "id": "eUU_iWIEuXgW"
      },
      "source": [
        "def bd_to_lifeAge(dataframe,column):\n",
        "  current_year = 2021\n",
        "  df = dataframe.copy()\n",
        "\n",
        "  df[column] = np.where(current_year - pd.DatetimeIndex(df[column]).year < 14, \"Child\" ,\n",
        "                    np.where(current_year - pd.DatetimeIndex(df[column]).year < 24,  \"Youth\",\n",
        "                    np.where(current_year - pd.DatetimeIndex(df[column]).year < 64 , \"Adult\", \"Elder\"  )))\n",
        "\n",
        "\n",
        "  return df"
      ],
      "execution_count": null,
      "outputs": []
    },
    {
      "cell_type": "code",
      "metadata": {
        "colab": {
          "base_uri": "https://localhost:8080/",
          "height": 479
        },
        "id": "I7HceUXVXbDc",
        "outputId": "7f5c9cef-93c5-4529-8160-667999855435"
      },
      "source": [
        "test = bd_to_lifeAge(anonymize,\"BIRTHDATE\")\n",
        "test.head()"
      ],
      "execution_count": null,
      "outputs": [
        {
          "output_type": "execute_result",
          "data": {
            "text/html": [
              "<div>\n",
              "<style scoped>\n",
              "    .dataframe tbody tr th:only-of-type {\n",
              "        vertical-align: middle;\n",
              "    }\n",
              "\n",
              "    .dataframe tbody tr th {\n",
              "        vertical-align: top;\n",
              "    }\n",
              "\n",
              "    .dataframe thead th {\n",
              "        text-align: right;\n",
              "    }\n",
              "</style>\n",
              "<table border=\"1\" class=\"dataframe\">\n",
              "  <thead>\n",
              "    <tr style=\"text-align: right;\">\n",
              "      <th></th>\n",
              "      <th>Id</th>\n",
              "      <th>BIRTHDATE</th>\n",
              "      <th>DEATHDATE</th>\n",
              "      <th>SSN</th>\n",
              "      <th>DRIVERS</th>\n",
              "      <th>PASSPORT</th>\n",
              "      <th>PREFIX</th>\n",
              "      <th>SUFFIX</th>\n",
              "      <th>MAIDEN</th>\n",
              "      <th>MARITAL</th>\n",
              "      <th>RACE</th>\n",
              "      <th>ETHNICITY</th>\n",
              "      <th>GENDER</th>\n",
              "      <th>BIRTHPLACE</th>\n",
              "      <th>ADDRESS</th>\n",
              "      <th>CITY</th>\n",
              "      <th>STATE</th>\n",
              "      <th>COUNTY</th>\n",
              "      <th>ZIP</th>\n",
              "      <th>LAT</th>\n",
              "      <th>LON</th>\n",
              "      <th>HEALTHCARE_EXPENSES</th>\n",
              "      <th>HEALTHCARE_COVERAGE</th>\n",
              "      <th>NAME-hash</th>\n",
              "    </tr>\n",
              "  </thead>\n",
              "  <tbody>\n",
              "    <tr>\n",
              "      <th>0</th>\n",
              "      <td>f0f3bc8d-ef38-49ce-a2bd-dfdda982b271</td>\n",
              "      <td>Child</td>\n",
              "      <td>NaN</td>\n",
              "      <td>XXX-XX-6630</td>\n",
              "      <td>NaN</td>\n",
              "      <td>NaN</td>\n",
              "      <td>NaN</td>\n",
              "      <td>NaN</td>\n",
              "      <td>NaN</td>\n",
              "      <td>NaN</td>\n",
              "      <td>white</td>\n",
              "      <td>nonhispanic</td>\n",
              "      <td>M</td>\n",
              "      <td>Beverly  Massachusetts  US</td>\n",
              "      <td>888 Hickle Ferry Suite 38</td>\n",
              "      <td>Springfield</td>\n",
              "      <td>Massachusetts</td>\n",
              "      <td>Hampden County</td>\n",
              "      <td>1106.0</td>\n",
              "      <td>42.151961</td>\n",
              "      <td>-72.598959</td>\n",
              "      <td>8446.49</td>\n",
              "      <td>1499.08</td>\n",
              "      <td>0fba5d64abfabc75e21b691fd04760c8108d815d</td>\n",
              "    </tr>\n",
              "    <tr>\n",
              "      <th>1</th>\n",
              "      <td>067318a4-db8f-447f-8b6e-f2f61e9baaa5</td>\n",
              "      <td>Child</td>\n",
              "      <td>NaN</td>\n",
              "      <td>XXX-XX-5895</td>\n",
              "      <td>NaN</td>\n",
              "      <td>NaN</td>\n",
              "      <td>NaN</td>\n",
              "      <td>NaN</td>\n",
              "      <td>NaN</td>\n",
              "      <td>NaN</td>\n",
              "      <td>white</td>\n",
              "      <td>nonhispanic</td>\n",
              "      <td>F</td>\n",
              "      <td>Boston  Massachusetts  US</td>\n",
              "      <td>1048 Skiles Trailer</td>\n",
              "      <td>Walpole</td>\n",
              "      <td>Massachusetts</td>\n",
              "      <td>Norfolk County</td>\n",
              "      <td>2081.0</td>\n",
              "      <td>42.177370</td>\n",
              "      <td>-71.281353</td>\n",
              "      <td>89893.40</td>\n",
              "      <td>1845.72</td>\n",
              "      <td>deebcefd284e87cf50650db8a675ae15aac011b1</td>\n",
              "    </tr>\n",
              "    <tr>\n",
              "      <th>2</th>\n",
              "      <td>ae9efba3-ddc4-43f9-a781-f72019388548</td>\n",
              "      <td>Adult</td>\n",
              "      <td>NaN</td>\n",
              "      <td>XXX-XX-3385</td>\n",
              "      <td>S99971451</td>\n",
              "      <td>X53218815X</td>\n",
              "      <td>Mr.</td>\n",
              "      <td>NaN</td>\n",
              "      <td>NaN</td>\n",
              "      <td>S</td>\n",
              "      <td>white</td>\n",
              "      <td>nonhispanic</td>\n",
              "      <td>M</td>\n",
              "      <td>Springfield  Massachusetts  US</td>\n",
              "      <td>1056 Harris Lane Suite 70</td>\n",
              "      <td>Chicopee</td>\n",
              "      <td>Massachusetts</td>\n",
              "      <td>Hampden County</td>\n",
              "      <td>1020.0</td>\n",
              "      <td>42.181642</td>\n",
              "      <td>-72.608842</td>\n",
              "      <td>577445.86</td>\n",
              "      <td>3528.84</td>\n",
              "      <td>bfe354e209874d1d8013f055bb8a28553f05166e</td>\n",
              "    </tr>\n",
              "    <tr>\n",
              "      <th>3</th>\n",
              "      <td>199c586f-af16-4091-9998-ee4cfc02ee7a</td>\n",
              "      <td>Youth</td>\n",
              "      <td>NaN</td>\n",
              "      <td>XXX-XX-2461</td>\n",
              "      <td>S99956432</td>\n",
              "      <td>NaN</td>\n",
              "      <td>NaN</td>\n",
              "      <td>NaN</td>\n",
              "      <td>NaN</td>\n",
              "      <td>NaN</td>\n",
              "      <td>white</td>\n",
              "      <td>nonhispanic</td>\n",
              "      <td>F</td>\n",
              "      <td>Worcester  Massachusetts  US</td>\n",
              "      <td>201 Mitchell Lodge Unit 67</td>\n",
              "      <td>Pembroke</td>\n",
              "      <td>Massachusetts</td>\n",
              "      <td>Plymouth County</td>\n",
              "      <td>NaN</td>\n",
              "      <td>42.075292</td>\n",
              "      <td>-70.757035</td>\n",
              "      <td>336701.72</td>\n",
              "      <td>2705.64</td>\n",
              "      <td>9602fdeaad88b53e34c33431549af224cfed63ca</td>\n",
              "    </tr>\n",
              "    <tr>\n",
              "      <th>4</th>\n",
              "      <td>353016ea-a0ff-4154-85bb-1cf8b6cedf20</td>\n",
              "      <td>Adult</td>\n",
              "      <td>NaN</td>\n",
              "      <td>XXX-XX-7372</td>\n",
              "      <td>S99917327</td>\n",
              "      <td>X58903159X</td>\n",
              "      <td>Mr.</td>\n",
              "      <td>NaN</td>\n",
              "      <td>NaN</td>\n",
              "      <td>NaN</td>\n",
              "      <td>white</td>\n",
              "      <td>nonhispanic</td>\n",
              "      <td>M</td>\n",
              "      <td>Patras  Achaea  GR</td>\n",
              "      <td>1050 Lindgren Extension Apt 38</td>\n",
              "      <td>Boston</td>\n",
              "      <td>Massachusetts</td>\n",
              "      <td>Suffolk County</td>\n",
              "      <td>2135.0</td>\n",
              "      <td>42.352434</td>\n",
              "      <td>-71.028610</td>\n",
              "      <td>484076.34</td>\n",
              "      <td>3043.04</td>\n",
              "      <td>1508df7e77411847d59eb4571114353433f4d669</td>\n",
              "    </tr>\n",
              "  </tbody>\n",
              "</table>\n",
              "</div>"
            ],
            "text/plain": [
              "                                     Id  ...                                 NAME-hash\n",
              "0  f0f3bc8d-ef38-49ce-a2bd-dfdda982b271  ...  0fba5d64abfabc75e21b691fd04760c8108d815d\n",
              "1  067318a4-db8f-447f-8b6e-f2f61e9baaa5  ...  deebcefd284e87cf50650db8a675ae15aac011b1\n",
              "2  ae9efba3-ddc4-43f9-a781-f72019388548  ...  bfe354e209874d1d8013f055bb8a28553f05166e\n",
              "3  199c586f-af16-4091-9998-ee4cfc02ee7a  ...  9602fdeaad88b53e34c33431549af224cfed63ca\n",
              "4  353016ea-a0ff-4154-85bb-1cf8b6cedf20  ...  1508df7e77411847d59eb4571114353433f4d669\n",
              "\n",
              "[5 rows x 24 columns]"
            ]
          },
          "metadata": {
            "tags": []
          },
          "execution_count": 28
        }
      ]
    },
    {
      "cell_type": "markdown",
      "metadata": {
        "id": "-s4rpZ2DbDNa"
      },
      "source": [
        "# Shuffling "
      ]
    },
    {
      "cell_type": "markdown",
      "metadata": {
        "id": "neM1rdzzpz1s"
      },
      "source": [
        "\n",
        "\n",
        "```\n",
        "# Shuffling  - สลับข้อมูลในแถวเพื่อไม่ให้สามารถนำ non-direct identifier มาตามรอยได้\n",
        "```\n",
        "\n"
      ]
    },
    {
      "cell_type": "code",
      "metadata": {
        "id": "rFxt91FHgUY8"
      },
      "source": [
        "def shuffle(df, n=1, axis=0):     \n",
        "        df = df.copy()\n",
        "        for _ in range(n):\n",
        "            df.apply(np.random.shuffle, axis=axis)\n",
        "        return df"
      ],
      "execution_count": null,
      "outputs": []
    },
    {
      "cell_type": "code",
      "metadata": {
        "colab": {
          "base_uri": "https://localhost:8080/",
          "height": 359
        },
        "id": "DUXUlsGhltYN",
        "outputId": "f75c2c27-611c-4206-b0cf-f692076de92b"
      },
      "source": [
        "test3 = pd.DataFrame({'A':range(10), 'B':range(10)})\n",
        "test3"
      ],
      "execution_count": null,
      "outputs": [
        {
          "output_type": "execute_result",
          "data": {
            "text/html": [
              "<div>\n",
              "<style scoped>\n",
              "    .dataframe tbody tr th:only-of-type {\n",
              "        vertical-align: middle;\n",
              "    }\n",
              "\n",
              "    .dataframe tbody tr th {\n",
              "        vertical-align: top;\n",
              "    }\n",
              "\n",
              "    .dataframe thead th {\n",
              "        text-align: right;\n",
              "    }\n",
              "</style>\n",
              "<table border=\"1\" class=\"dataframe\">\n",
              "  <thead>\n",
              "    <tr style=\"text-align: right;\">\n",
              "      <th></th>\n",
              "      <th>A</th>\n",
              "      <th>B</th>\n",
              "    </tr>\n",
              "  </thead>\n",
              "  <tbody>\n",
              "    <tr>\n",
              "      <th>0</th>\n",
              "      <td>0</td>\n",
              "      <td>0</td>\n",
              "    </tr>\n",
              "    <tr>\n",
              "      <th>1</th>\n",
              "      <td>1</td>\n",
              "      <td>1</td>\n",
              "    </tr>\n",
              "    <tr>\n",
              "      <th>2</th>\n",
              "      <td>2</td>\n",
              "      <td>2</td>\n",
              "    </tr>\n",
              "    <tr>\n",
              "      <th>3</th>\n",
              "      <td>3</td>\n",
              "      <td>3</td>\n",
              "    </tr>\n",
              "    <tr>\n",
              "      <th>4</th>\n",
              "      <td>4</td>\n",
              "      <td>4</td>\n",
              "    </tr>\n",
              "    <tr>\n",
              "      <th>5</th>\n",
              "      <td>5</td>\n",
              "      <td>5</td>\n",
              "    </tr>\n",
              "    <tr>\n",
              "      <th>6</th>\n",
              "      <td>6</td>\n",
              "      <td>6</td>\n",
              "    </tr>\n",
              "    <tr>\n",
              "      <th>7</th>\n",
              "      <td>7</td>\n",
              "      <td>7</td>\n",
              "    </tr>\n",
              "    <tr>\n",
              "      <th>8</th>\n",
              "      <td>8</td>\n",
              "      <td>8</td>\n",
              "    </tr>\n",
              "    <tr>\n",
              "      <th>9</th>\n",
              "      <td>9</td>\n",
              "      <td>9</td>\n",
              "    </tr>\n",
              "  </tbody>\n",
              "</table>\n",
              "</div>"
            ],
            "text/plain": [
              "   A  B\n",
              "0  0  0\n",
              "1  1  1\n",
              "2  2  2\n",
              "3  3  3\n",
              "4  4  4\n",
              "5  5  5\n",
              "6  6  6\n",
              "7  7  7\n",
              "8  8  8\n",
              "9  9  9"
            ]
          },
          "metadata": {
            "tags": []
          },
          "execution_count": 30
        }
      ]
    },
    {
      "cell_type": "code",
      "metadata": {
        "colab": {
          "base_uri": "https://localhost:8080/",
          "height": 359
        },
        "id": "nEIELWqunwty",
        "outputId": "430e2f7b-c979-4313-cc49-314db5a3bb71"
      },
      "source": [
        "test3 = shuffle(test3,1)\n",
        "test3"
      ],
      "execution_count": null,
      "outputs": [
        {
          "output_type": "execute_result",
          "data": {
            "text/html": [
              "<div>\n",
              "<style scoped>\n",
              "    .dataframe tbody tr th:only-of-type {\n",
              "        vertical-align: middle;\n",
              "    }\n",
              "\n",
              "    .dataframe tbody tr th {\n",
              "        vertical-align: top;\n",
              "    }\n",
              "\n",
              "    .dataframe thead th {\n",
              "        text-align: right;\n",
              "    }\n",
              "</style>\n",
              "<table border=\"1\" class=\"dataframe\">\n",
              "  <thead>\n",
              "    <tr style=\"text-align: right;\">\n",
              "      <th></th>\n",
              "      <th>A</th>\n",
              "      <th>B</th>\n",
              "    </tr>\n",
              "  </thead>\n",
              "  <tbody>\n",
              "    <tr>\n",
              "      <th>0</th>\n",
              "      <td>6</td>\n",
              "      <td>0</td>\n",
              "    </tr>\n",
              "    <tr>\n",
              "      <th>1</th>\n",
              "      <td>5</td>\n",
              "      <td>5</td>\n",
              "    </tr>\n",
              "    <tr>\n",
              "      <th>2</th>\n",
              "      <td>0</td>\n",
              "      <td>4</td>\n",
              "    </tr>\n",
              "    <tr>\n",
              "      <th>3</th>\n",
              "      <td>2</td>\n",
              "      <td>1</td>\n",
              "    </tr>\n",
              "    <tr>\n",
              "      <th>4</th>\n",
              "      <td>8</td>\n",
              "      <td>9</td>\n",
              "    </tr>\n",
              "    <tr>\n",
              "      <th>5</th>\n",
              "      <td>1</td>\n",
              "      <td>8</td>\n",
              "    </tr>\n",
              "    <tr>\n",
              "      <th>6</th>\n",
              "      <td>4</td>\n",
              "      <td>7</td>\n",
              "    </tr>\n",
              "    <tr>\n",
              "      <th>7</th>\n",
              "      <td>9</td>\n",
              "      <td>3</td>\n",
              "    </tr>\n",
              "    <tr>\n",
              "      <th>8</th>\n",
              "      <td>3</td>\n",
              "      <td>6</td>\n",
              "    </tr>\n",
              "    <tr>\n",
              "      <th>9</th>\n",
              "      <td>7</td>\n",
              "      <td>2</td>\n",
              "    </tr>\n",
              "  </tbody>\n",
              "</table>\n",
              "</div>"
            ],
            "text/plain": [
              "   A  B\n",
              "0  6  0\n",
              "1  5  5\n",
              "2  0  4\n",
              "3  2  1\n",
              "4  8  9\n",
              "5  1  8\n",
              "6  4  7\n",
              "7  9  3\n",
              "8  3  6\n",
              "9  7  2"
            ]
          },
          "metadata": {
            "tags": []
          },
          "execution_count": 31
        }
      ]
    },
    {
      "cell_type": "markdown",
      "metadata": {
        "id": "4xA6FCXy0OzA"
      },
      "source": [
        "# Data Visualize"
      ]
    },
    {
      "cell_type": "code",
      "metadata": {
        "colab": {
          "base_uri": "https://localhost:8080/"
        },
        "id": "L4C-aQpv_--p",
        "outputId": "9541d80b-6f3f-4fa2-9be5-137a20f73596"
      },
      "source": [
        "df[\"BIRTHDATE\"].nunique()  # จำนวนค่าที่ไม่ซ้ำกัน ของแถว BIRTHDATE "
      ],
      "execution_count": null,
      "outputs": [
        {
          "output_type": "execute_result",
          "data": {
            "text/plain": [
              "8571"
            ]
          },
          "metadata": {
            "tags": []
          },
          "execution_count": 32
        }
      ]
    },
    {
      "cell_type": "code",
      "metadata": {
        "colab": {
          "base_uri": "https://localhost:8080/"
        },
        "id": "B_HhF6vyLGI9",
        "outputId": "bf0cf4b5-cedc-4c2b-af32-a9cbee27c5af"
      },
      "source": [
        "anonymize[\"BIRTHDATE\"].nunique()"
      ],
      "execution_count": null,
      "outputs": [
        {
          "output_type": "execute_result",
          "data": {
            "text/plain": [
              "1193"
            ]
          },
          "metadata": {
            "tags": []
          },
          "execution_count": 33
        }
      ]
    },
    {
      "cell_type": "code",
      "metadata": {
        "colab": {
          "base_uri": "https://localhost:8080/"
        },
        "id": "08IMShElsFul",
        "outputId": "11e9a4e1-b3d2-46fc-c095-8ef826eb3bc1"
      },
      "source": [
        "anonymize[\"BIRTHDATE\"].value_counts()"
      ],
      "execution_count": null,
      "outputs": [
        {
          "output_type": "execute_result",
          "data": {
            "text/plain": [
              "1914-06    33\n",
              "1969-05    28\n",
              "1936-01    25\n",
              "1964-11    25\n",
              "1956-11    25\n",
              "           ..\n",
              "1921-09     1\n",
              "1917-05     1\n",
              "1918-04     1\n",
              "1919-05     1\n",
              "1918-05     1\n",
              "Name: BIRTHDATE, Length: 1193, dtype: int64"
            ]
          },
          "metadata": {
            "tags": []
          },
          "execution_count": 34
        }
      ]
    },
    {
      "cell_type": "code",
      "metadata": {
        "colab": {
          "base_uri": "https://localhost:8080/",
          "height": 282
        },
        "id": "7vzs_ubCRNnN",
        "outputId": "acea8632-da67-447a-ef94-4dd3327e1286"
      },
      "source": [
        "anonymize[\"BIRTHDATE\"].value_counts().hist()  # แสดงผลจำนวน data ที่มี Year-month จำนวนต่างๆ  จะเห็นได้ว่าถึงแม้จะ generalization ไปแล้วก็ยังไม่เพียงพอ"
      ],
      "execution_count": null,
      "outputs": [
        {
          "output_type": "execute_result",
          "data": {
            "text/plain": [
              "<matplotlib.axes._subplots.AxesSubplot at 0x7fdabd021410>"
            ]
          },
          "metadata": {
            "tags": []
          },
          "execution_count": 35
        },
        {
          "output_type": "display_data",
          "data": {
            "image/png": "[encoded data removed]",
            "text/plain": [
              "<Figure size 432x288 with 1 Axes>"
            ]
          },
          "metadata": {
            "tags": [],
            "needs_background": "light"
          }
        }
      ]
    },
    {
      "cell_type": "code",
      "metadata": {
        "colab": {
          "base_uri": "https://localhost:8080/"
        },
        "id": "kGn3SSs-uiux",
        "outputId": "e7c173d7-d2df-482b-f1dd-f56e4142d466"
      },
      "source": [
        "gen_year[\"BIRTHDATE\"].value_counts()"
      ],
      "execution_count": null,
      "outputs": [
        {
          "output_type": "execute_result",
          "data": {
            "text/plain": [
              "1969    190\n",
              "1962    183\n",
              "1961    182\n",
              "1967    181\n",
              "1964    174\n",
              "       ... \n",
              "1911     30\n",
              "1918     29\n",
              "1926     22\n",
              "1919     13\n",
              "1909      4\n",
              "Name: BIRTHDATE, Length: 112, dtype: int64"
            ]
          },
          "metadata": {
            "tags": []
          },
          "execution_count": 36
        }
      ]
    },
    {
      "cell_type": "code",
      "metadata": {
        "colab": {
          "base_uri": "https://localhost:8080/",
          "height": 282
        },
        "id": "Mkd7bhMEtwIm",
        "outputId": "f36cf3cb-b9d6-47fb-914c-e4d080b28c4f"
      },
      "source": [
        "gen_year[\"BIRTHDATE\"].value_counts().hist() "
      ],
      "execution_count": null,
      "outputs": [
        {
          "output_type": "execute_result",
          "data": {
            "text/plain": [
              "<matplotlib.axes._subplots.AxesSubplot at 0x7fdabc79cd10>"
            ]
          },
          "metadata": {
            "tags": []
          },
          "execution_count": 37
        },
        {
          "output_type": "display_data",
          "data": {
            "image/png": "[encoded data removed]",
            "text/plain": [
              "<Figure size 432x288 with 1 Axes>"
            ]
          },
          "metadata": {
            "tags": [],
            "needs_background": "light"
          }
        }
      ]
    },
    {
      "cell_type": "code",
      "metadata": {
        "colab": {
          "base_uri": "https://localhost:8080/",
          "height": 282
        },
        "id": "Jxt_m6Nr914Q",
        "outputId": "50ff9109-208b-4061-c13f-2098ff6da74b"
      },
      "source": [
        "test[\"BIRTHDATE\"].hist()"
      ],
      "execution_count": null,
      "outputs": [
        {
          "output_type": "execute_result",
          "data": {
            "text/plain": [
              "<matplotlib.axes._subplots.AxesSubplot at 0x7fdabd0e3cd0>"
            ]
          },
          "metadata": {
            "tags": []
          },
          "execution_count": 38
        },
        {
          "output_type": "display_data",
          "data": {
            "image/png": "[encoded data removed]",
            "text/plain": [
              "<Figure size 432x288 with 1 Axes>"
            ]
          },
          "metadata": {
            "tags": [],
            "needs_background": "light"
          }
        }
      ]
    },
    {
      "cell_type": "markdown",
      "metadata": {
        "id": "SPF7qyziGJhc"
      },
      "source": [
        "# function Check unique value "
      ]
    },
    {
      "cell_type": "code",
      "metadata": {
        "colab": {
          "base_uri": "https://localhost:8080/",
          "height": 235
        },
        "id": "4eMJ3t06GO4H",
        "outputId": "fd9f1d0c-c8c2-4a21-86eb-3aaf7e8ad893"
      },
      "source": [
        "a = pd.DataFrame({'A':[1,2,3,4,5,1], 'B':[1,2,3,4,4,1]})\n",
        "a"
      ],
      "execution_count": null,
      "outputs": [
        {
          "output_type": "execute_result",
          "data": {
            "text/html": [
              "<div>\n",
              "<style scoped>\n",
              "    .dataframe tbody tr th:only-of-type {\n",
              "        vertical-align: middle;\n",
              "    }\n",
              "\n",
              "    .dataframe tbody tr th {\n",
              "        vertical-align: top;\n",
              "    }\n",
              "\n",
              "    .dataframe thead th {\n",
              "        text-align: right;\n",
              "    }\n",
              "</style>\n",
              "<table border=\"1\" class=\"dataframe\">\n",
              "  <thead>\n",
              "    <tr style=\"text-align: right;\">\n",
              "      <th></th>\n",
              "      <th>A</th>\n",
              "      <th>B</th>\n",
              "    </tr>\n",
              "  </thead>\n",
              "  <tbody>\n",
              "    <tr>\n",
              "      <th>0</th>\n",
              "      <td>1</td>\n",
              "      <td>1</td>\n",
              "    </tr>\n",
              "    <tr>\n",
              "      <th>1</th>\n",
              "      <td>2</td>\n",
              "      <td>2</td>\n",
              "    </tr>\n",
              "    <tr>\n",
              "      <th>2</th>\n",
              "      <td>3</td>\n",
              "      <td>3</td>\n",
              "    </tr>\n",
              "    <tr>\n",
              "      <th>3</th>\n",
              "      <td>4</td>\n",
              "      <td>4</td>\n",
              "    </tr>\n",
              "    <tr>\n",
              "      <th>4</th>\n",
              "      <td>5</td>\n",
              "      <td>4</td>\n",
              "    </tr>\n",
              "    <tr>\n",
              "      <th>5</th>\n",
              "      <td>1</td>\n",
              "      <td>1</td>\n",
              "    </tr>\n",
              "  </tbody>\n",
              "</table>\n",
              "</div>"
            ],
            "text/plain": [
              "   A  B\n",
              "0  1  1\n",
              "1  2  2\n",
              "2  3  3\n",
              "3  4  4\n",
              "4  5  4\n",
              "5  1  1"
            ]
          },
          "metadata": {
            "tags": []
          },
          "execution_count": 39
        }
      ]
    },
    {
      "cell_type": "code",
      "metadata": {
        "id": "Jl_xVNg3T-k-"
      },
      "source": [
        "def isOneToOne(df, col1, col2):\n",
        "    first = df.groupby(col1)[col2].count().max()\n",
        "    second = df.groupby(col2)[col1].count().max()\n",
        "    return first + second == 2"
      ],
      "execution_count": null,
      "outputs": []
    },
    {
      "cell_type": "code",
      "metadata": {
        "colab": {
          "base_uri": "https://localhost:8080/"
        },
        "id": "yLKVrwi9VGr6",
        "outputId": "0ac8c52c-4e3f-456e-cb2b-a4cf9e66575a"
      },
      "source": [
        "isOneToOne(a,\"A\",\"B\")"
      ],
      "execution_count": null,
      "outputs": [
        {
          "output_type": "execute_result",
          "data": {
            "text/plain": [
              "False"
            ]
          },
          "metadata": {
            "tags": []
          },
          "execution_count": 41
        }
      ]
    },
    {
      "cell_type": "code",
      "metadata": {
        "id": "gyDZ2DgcXXt2"
      },
      "source": [
        "def isOneToOne2(df, col1, col2):\n",
        "    first = df[col1].nunique()\n",
        "    second = df[col2].nunique()\n",
        "    return first == second"
      ],
      "execution_count": null,
      "outputs": []
    },
    {
      "cell_type": "code",
      "metadata": {
        "id": "GslqNSwuRPWZ"
      },
      "source": [
        "def isOneToOne3(df, col1, col2):\n",
        "    df2 = df.copy()\n",
        "    first = df2[col1].nunique()\n",
        "    second = df2[col2].nunique()\n",
        "    \n",
        "    df2[\"duplicate\"] = df2[col2].duplicated(keep=False)\n",
        "\n",
        "    return df2\n",
        " \n"
      ],
      "execution_count": null,
      "outputs": []
    },
    {
      "cell_type": "code",
      "metadata": {
        "colab": {
          "base_uri": "https://localhost:8080/"
        },
        "id": "dKZxIaQRaT39",
        "outputId": "6f5d9b39-467d-4c52-9b6a-e926d1279d87"
      },
      "source": [
        "isOneToOne2(a,\"A\",\"B\")\n"
      ],
      "execution_count": null,
      "outputs": [
        {
          "output_type": "execute_result",
          "data": {
            "text/plain": [
              "False"
            ]
          },
          "metadata": {
            "tags": []
          },
          "execution_count": 44
        }
      ]
    },
    {
      "cell_type": "code",
      "metadata": {
        "colab": {
          "base_uri": "https://localhost:8080/",
          "height": 235
        },
        "id": "0QT71ZlnK6FR",
        "outputId": "c8e07d90-b2ce-4f47-b3f5-116ba64d7473"
      },
      "source": [
        "b = pd.DataFrame({'A':[1,2,3,4,5,1], 'B':[1,2,3,4,5,1]})\n",
        "b"
      ],
      "execution_count": null,
      "outputs": [
        {
          "output_type": "execute_result",
          "data": {
            "text/html": [
              "<div>\n",
              "<style scoped>\n",
              "    .dataframe tbody tr th:only-of-type {\n",
              "        vertical-align: middle;\n",
              "    }\n",
              "\n",
              "    .dataframe tbody tr th {\n",
              "        vertical-align: top;\n",
              "    }\n",
              "\n",
              "    .dataframe thead th {\n",
              "        text-align: right;\n",
              "    }\n",
              "</style>\n",
              "<table border=\"1\" class=\"dataframe\">\n",
              "  <thead>\n",
              "    <tr style=\"text-align: right;\">\n",
              "      <th></th>\n",
              "      <th>A</th>\n",
              "      <th>B</th>\n",
              "    </tr>\n",
              "  </thead>\n",
              "  <tbody>\n",
              "    <tr>\n",
              "      <th>0</th>\n",
              "      <td>1</td>\n",
              "      <td>1</td>\n",
              "    </tr>\n",
              "    <tr>\n",
              "      <th>1</th>\n",
              "      <td>2</td>\n",
              "      <td>2</td>\n",
              "    </tr>\n",
              "    <tr>\n",
              "      <th>2</th>\n",
              "      <td>3</td>\n",
              "      <td>3</td>\n",
              "    </tr>\n",
              "    <tr>\n",
              "      <th>3</th>\n",
              "      <td>4</td>\n",
              "      <td>4</td>\n",
              "    </tr>\n",
              "    <tr>\n",
              "      <th>4</th>\n",
              "      <td>5</td>\n",
              "      <td>5</td>\n",
              "    </tr>\n",
              "    <tr>\n",
              "      <th>5</th>\n",
              "      <td>1</td>\n",
              "      <td>1</td>\n",
              "    </tr>\n",
              "  </tbody>\n",
              "</table>\n",
              "</div>"
            ],
            "text/plain": [
              "   A  B\n",
              "0  1  1\n",
              "1  2  2\n",
              "2  3  3\n",
              "3  4  4\n",
              "4  5  5\n",
              "5  1  1"
            ]
          },
          "metadata": {
            "tags": []
          },
          "execution_count": 45
        }
      ]
    },
    {
      "cell_type": "code",
      "metadata": {
        "colab": {
          "base_uri": "https://localhost:8080/"
        },
        "id": "wAWEQ6z_LKv0",
        "outputId": "2932e89b-dee0-40f5-b8f0-b1e52d46a0de"
      },
      "source": [
        "isOneToOne(b,\"A\",\"B\")"
      ],
      "execution_count": null,
      "outputs": [
        {
          "output_type": "execute_result",
          "data": {
            "text/plain": [
              "False"
            ]
          },
          "metadata": {
            "tags": []
          },
          "execution_count": 46
        }
      ]
    },
    {
      "cell_type": "code",
      "metadata": {
        "colab": {
          "base_uri": "https://localhost:8080/"
        },
        "id": "GY-lsuzIM77Z",
        "outputId": "a2004f62-dd9f-4787-c626-3fb550cdef0e"
      },
      "source": [
        "isOneToOne2(b,\"A\",\"B\")"
      ],
      "execution_count": null,
      "outputs": [
        {
          "output_type": "execute_result",
          "data": {
            "text/plain": [
              "True"
            ]
          },
          "metadata": {
            "tags": []
          },
          "execution_count": 47
        }
      ]
    },
    {
      "cell_type": "code",
      "metadata": {
        "colab": {
          "base_uri": "https://localhost:8080/",
          "height": 235
        },
        "id": "Rgj3agBuaKJ0",
        "outputId": "b4cad060-2709-44d6-d036-8d6a97bdc873"
      },
      "source": [
        "c = isOneToOne3(b,\"A\",\"B\")\n",
        "c"
      ],
      "execution_count": null,
      "outputs": [
        {
          "output_type": "execute_result",
          "data": {
            "text/html": [
              "<div>\n",
              "<style scoped>\n",
              "    .dataframe tbody tr th:only-of-type {\n",
              "        vertical-align: middle;\n",
              "    }\n",
              "\n",
              "    .dataframe tbody tr th {\n",
              "        vertical-align: top;\n",
              "    }\n",
              "\n",
              "    .dataframe thead th {\n",
              "        text-align: right;\n",
              "    }\n",
              "</style>\n",
              "<table border=\"1\" class=\"dataframe\">\n",
              "  <thead>\n",
              "    <tr style=\"text-align: right;\">\n",
              "      <th></th>\n",
              "      <th>A</th>\n",
              "      <th>B</th>\n",
              "      <th>duplicate</th>\n",
              "    </tr>\n",
              "  </thead>\n",
              "  <tbody>\n",
              "    <tr>\n",
              "      <th>0</th>\n",
              "      <td>1</td>\n",
              "      <td>1</td>\n",
              "      <td>True</td>\n",
              "    </tr>\n",
              "    <tr>\n",
              "      <th>1</th>\n",
              "      <td>2</td>\n",
              "      <td>2</td>\n",
              "      <td>False</td>\n",
              "    </tr>\n",
              "    <tr>\n",
              "      <th>2</th>\n",
              "      <td>3</td>\n",
              "      <td>3</td>\n",
              "      <td>False</td>\n",
              "    </tr>\n",
              "    <tr>\n",
              "      <th>3</th>\n",
              "      <td>4</td>\n",
              "      <td>4</td>\n",
              "      <td>False</td>\n",
              "    </tr>\n",
              "    <tr>\n",
              "      <th>4</th>\n",
              "      <td>5</td>\n",
              "      <td>5</td>\n",
              "      <td>False</td>\n",
              "    </tr>\n",
              "    <tr>\n",
              "      <th>5</th>\n",
              "      <td>1</td>\n",
              "      <td>1</td>\n",
              "      <td>True</td>\n",
              "    </tr>\n",
              "  </tbody>\n",
              "</table>\n",
              "</div>"
            ],
            "text/plain": [
              "   A  B  duplicate\n",
              "0  1  1       True\n",
              "1  2  2      False\n",
              "2  3  3      False\n",
              "3  4  4      False\n",
              "4  5  5      False\n",
              "5  1  1       True"
            ]
          },
          "metadata": {
            "tags": []
          },
          "execution_count": 48
        }
      ]
    },
    {
      "cell_type": "markdown",
      "metadata": {
        "id": "r13PQFDpmCQk"
      },
      "source": [
        "# ARXaaS"
      ]
    },
    {
      "cell_type": "code",
      "metadata": {
        "colab": {
          "base_uri": "https://localhost:8080/",
          "height": 544
        },
        "id": "BwZIAxCumBcr",
        "outputId": "8844c79e-e03b-43ba-a978-8c62b65021bf"
      },
      "source": [
        "!pip install pandas==1.1.0\n",
        "!pip install pyarxaas\n"
      ],
      "execution_count": null,
      "outputs": [
        {
          "output_type": "stream",
          "text": [
            "Requirement already satisfied: pandas==1.1.0 in /usr/local/lib/python3.7/dist-packages (1.1.0)\n",
            "Requirement already satisfied: python-dateutil>=2.7.3 in /usr/local/lib/python3.7/dist-packages (from pandas==1.1.0) (2.8.1)\n",
            "Requirement already satisfied: pytz>=2017.2 in /usr/local/lib/python3.7/dist-packages (from pandas==1.1.0) (2018.9)\n",
            "Requirement already satisfied: numpy>=1.15.4 in /usr/local/lib/python3.7/dist-packages (from pandas==1.1.0) (1.19.5)\n",
            "Requirement already satisfied: six>=1.5 in /usr/local/lib/python3.7/dist-packages (from python-dateutil>=2.7.3->pandas==1.1.0) (1.15.0)\n",
            "Requirement already satisfied: pyarxaas in /usr/local/lib/python3.7/dist-packages (0.5.7)\n",
            "Requirement already satisfied: uplink==0.9.0 in /usr/local/lib/python3.7/dist-packages (from pyarxaas) (0.9.0)\n",
            "Collecting pandas==1.0.1\n",
            "  Using cached https://files.pythonhosted.org/packages/61/af/ceb7523e86753d5643ed00e8c17a42bdcfe819782c3449d9bbbf5d01867a/pandas-1.0.1-cp37-cp37m-manylinux1_x86_64.whl\n",
            "Requirement already satisfied: six>=1.12.0 in /usr/local/lib/python3.7/dist-packages (from uplink==0.9.0->pyarxaas) (1.15.0)\n",
            "Requirement already satisfied: uritemplate>=3.0.0 in /usr/local/lib/python3.7/dist-packages (from uplink==0.9.0->pyarxaas) (3.0.1)\n",
            "Requirement already satisfied: requests>=2.18.0 in /usr/local/lib/python3.7/dist-packages (from uplink==0.9.0->pyarxaas) (2.23.0)\n",
            "Requirement already satisfied: python-dateutil>=2.6.1 in /usr/local/lib/python3.7/dist-packages (from pandas==1.0.1->pyarxaas) (2.8.1)\n",
            "Requirement already satisfied: numpy>=1.13.3 in /usr/local/lib/python3.7/dist-packages (from pandas==1.0.1->pyarxaas) (1.19.5)\n",
            "Requirement already satisfied: pytz>=2017.2 in /usr/local/lib/python3.7/dist-packages (from pandas==1.0.1->pyarxaas) (2018.9)\n",
            "Requirement already satisfied: urllib3!=1.25.0,!=1.25.1,<1.26,>=1.21.1 in /usr/local/lib/python3.7/dist-packages (from requests>=2.18.0->uplink==0.9.0->pyarxaas) (1.24.3)\n",
            "Requirement already satisfied: chardet<4,>=3.0.2 in /usr/local/lib/python3.7/dist-packages (from requests>=2.18.0->uplink==0.9.0->pyarxaas) (3.0.4)\n",
            "Requirement already satisfied: certifi>=2017.4.17 in /usr/local/lib/python3.7/dist-packages (from requests>=2.18.0->uplink==0.9.0->pyarxaas) (2021.5.30)\n",
            "Requirement already satisfied: idna<3,>=2.5 in /usr/local/lib/python3.7/dist-packages (from requests>=2.18.0->uplink==0.9.0->pyarxaas) (2.10)\n",
            "\u001b[31mERROR: google-colab 1.0.0 has requirement pandas~=1.1.0; python_version >= \"3.0\", but you'll have pandas 1.0.1 which is incompatible.\u001b[0m\n",
            "\u001b[31mERROR: fbprophet 0.7.1 has requirement pandas>=1.0.4, but you'll have pandas 1.0.1 which is incompatible.\u001b[0m\n",
            "Installing collected packages: pandas\n",
            "  Found existing installation: pandas 1.1.0\n",
            "    Uninstalling pandas-1.1.0:\n",
            "      Successfully uninstalled pandas-1.1.0\n",
            "Successfully installed pandas-1.0.1\n"
          ],
          "name": "stdout"
        },
        {
          "output_type": "display_data",
          "data": {
            "application/vnd.colab-display-data+json": {
              "pip_warning": {
                "packages": [
                  "pandas"
                ]
              }
            }
          },
          "metadata": {
            "tags": []
          }
        }
      ]
    },
    {
      "cell_type": "code",
      "metadata": {
        "id": "y5CoRTqJm8LU"
      },
      "source": [
        "from pyarxaas import Dataset\n",
        "\n",
        "dataset = Dataset.from_pandas(df)\n",
        "\n"
      ],
      "execution_count": null,
      "outputs": []
    },
    {
      "cell_type": "code",
      "metadata": {
        "id": "8LL7u7RC-U9w"
      },
      "source": [
        "from pyarxaas import AttributeType\n",
        "\n",
        "dataset.set_attribute_type(AttributeType.QUASIIDENTIFYING, 'FIRST', 'GENDER')\n",
        "dataset.set_attribute_type(AttributeType.IDENTIFYING, 'Id')"
      ],
      "execution_count": null,
      "outputs": []
    },
    {
      "cell_type": "code",
      "metadata": {
        "id": "2INYABCCGPQi"
      },
      "source": [
        "from pyarxaas.privacy_models import KAnonymity\n",
        "\n",
        "# creating a privacy_models object\n",
        "kanon = KAnonymity(4)"
      ],
      "execution_count": null,
      "outputs": []
    },
    {
      "cell_type": "code",
      "metadata": {
        "id": "teWo6TskGUtF"
      },
      "source": [
        "# import the aaas module\n",
        "from pyarxaas import ARXaaS\n",
        "\n",
        "# establishing a connection to the ARXaaS service using the URL\n",
        "arxaas = ARXaaS(\"http://localhost:8080\")"
      ],
      "execution_count": null,
      "outputs": []
    },
    {
      "cell_type": "code",
      "metadata": {
        "colab": {
          "base_uri": "https://localhost:8080/",
          "height": 1000
        },
        "id": "FT3EGcCPGYZ6",
        "outputId": "3b9920e2-bb79-4712-b544-6b1f57be357f"
      },
      "source": [
        "# specify the dataset as the first parameter, and privacy model list as the second paramter\n",
        "anonymize_result = arxaas.anonymize(dataset, [kanon])"
      ],
      "execution_count": null,
      "outputs": [
        {
          "output_type": "error",
          "ename": "RequestException",
          "evalue": "ignored",
          "traceback": [
            "\u001b[0;31m---------------------------------------------------------------------------\u001b[0m",
            "\u001b[0;31mRequestException\u001b[0m                          Traceback (most recent call last)",
            "\u001b[0;32m<ipython-input-16-b6162413e3cc>\u001b[0m in \u001b[0;36m<module>\u001b[0;34m()\u001b[0m\n\u001b[1;32m      1\u001b[0m \u001b[0;31m# specify the dataset as the first parameter, and privacy model list as the second paramter\u001b[0m\u001b[0;34m\u001b[0m\u001b[0;34m\u001b[0m\u001b[0;34m\u001b[0m\u001b[0m\n\u001b[0;32m----> 2\u001b[0;31m \u001b[0manonymize_result\u001b[0m \u001b[0;34m=\u001b[0m \u001b[0marxaas\u001b[0m\u001b[0;34m.\u001b[0m\u001b[0manonymize\u001b[0m\u001b[0;34m(\u001b[0m\u001b[0mdataset\u001b[0m\u001b[0;34m,\u001b[0m \u001b[0;34m[\u001b[0m\u001b[0mkanon\u001b[0m\u001b[0;34m]\u001b[0m\u001b[0;34m)\u001b[0m\u001b[0;34m\u001b[0m\u001b[0;34m\u001b[0m\u001b[0m\n\u001b[0m",
            "\u001b[0;32m/usr/local/lib/python3.7/dist-packages/pyarxaas/arxaas.py\u001b[0m in \u001b[0;36manonymize\u001b[0;34m(self, dataset, privacy_models, suppression_limit)\u001b[0m\n\u001b[1;32m     28\u001b[0m         \"\"\"\n\u001b[1;32m     29\u001b[0m         \u001b[0mrequest_payload\u001b[0m \u001b[0;34m=\u001b[0m \u001b[0mself\u001b[0m\u001b[0;34m.\u001b[0m\u001b[0m_anonymize_payload\u001b[0m\u001b[0;34m(\u001b[0m\u001b[0mdataset\u001b[0m\u001b[0;34m,\u001b[0m \u001b[0mprivacy_models\u001b[0m\u001b[0;34m,\u001b[0m \u001b[0msuppression_limit\u001b[0m\u001b[0;34m)\u001b[0m\u001b[0;34m\u001b[0m\u001b[0;34m\u001b[0m\u001b[0m\n\u001b[0;32m---> 30\u001b[0;31m         \u001b[0mresponse\u001b[0m \u001b[0;34m=\u001b[0m \u001b[0mself\u001b[0m\u001b[0;34m.\u001b[0m\u001b[0m_anonymize\u001b[0m\u001b[0;34m(\u001b[0m\u001b[0mrequest_payload\u001b[0m\u001b[0;34m)\u001b[0m\u001b[0;34m\u001b[0m\u001b[0;34m\u001b[0m\u001b[0m\n\u001b[0m\u001b[1;32m     31\u001b[0m         \u001b[0;32mreturn\u001b[0m \u001b[0mself\u001b[0m\u001b[0;34m.\u001b[0m\u001b[0m_anonymize_result\u001b[0m\u001b[0;34m(\u001b[0m\u001b[0mresponse\u001b[0m\u001b[0;34m)\u001b[0m\u001b[0;34m\u001b[0m\u001b[0;34m\u001b[0m\u001b[0m\n\u001b[1;32m     32\u001b[0m \u001b[0;34m\u001b[0m\u001b[0m\n",
            "\u001b[0;32m/usr/local/lib/python3.7/dist-packages/pyarxaas/arxaas.py\u001b[0m in \u001b[0;36m_anonymize\u001b[0;34m(self, payload)\u001b[0m\n\u001b[1;32m     52\u001b[0m         \u001b[0;34m:\u001b[0m\u001b[0;32mreturn\u001b[0m\u001b[0;34m:\u001b[0m\u001b[0;34m\u001b[0m\u001b[0;34m\u001b[0m\u001b[0m\n\u001b[1;32m     53\u001b[0m         \"\"\"\n\u001b[0;32m---> 54\u001b[0;31m         \u001b[0mresponse\u001b[0m \u001b[0;34m=\u001b[0m \u001b[0mself\u001b[0m\u001b[0;34m.\u001b[0m\u001b[0m_connector\u001b[0m\u001b[0;34m.\u001b[0m\u001b[0manonymize_data\u001b[0m\u001b[0;34m(\u001b[0m\u001b[0mpayload\u001b[0m\u001b[0;34m)\u001b[0m\u001b[0;34m\u001b[0m\u001b[0;34m\u001b[0m\u001b[0m\n\u001b[0m\u001b[1;32m     55\u001b[0m         \u001b[0;32mreturn\u001b[0m \u001b[0mresponse\u001b[0m\u001b[0;34m\u001b[0m\u001b[0;34m\u001b[0m\u001b[0m\n\u001b[1;32m     56\u001b[0m \u001b[0;34m\u001b[0m\u001b[0m\n",
            "\u001b[0;32m/usr/local/lib/python3.7/dist-packages/uplink/builder.py\u001b[0m in \u001b[0;36m__call__\u001b[0;34m(self, *args, **kwargs)\u001b[0m\n\u001b[1;32m    105\u001b[0m         return execution.start(\n\u001b[1;32m    106\u001b[0m             \u001b[0;31m# TODO: Create request value object\u001b[0m\u001b[0;34m\u001b[0m\u001b[0;34m\u001b[0m\u001b[0;34m\u001b[0m\u001b[0m\n\u001b[0;32m--> 107\u001b[0;31m             \u001b[0;34m(\u001b[0m\u001b[0mrequest_builder\u001b[0m\u001b[0;34m.\u001b[0m\u001b[0mmethod\u001b[0m\u001b[0;34m,\u001b[0m \u001b[0mrequest_builder\u001b[0m\u001b[0;34m.\u001b[0m\u001b[0murl\u001b[0m\u001b[0;34m,\u001b[0m \u001b[0mrequest_builder\u001b[0m\u001b[0;34m.\u001b[0m\u001b[0minfo\u001b[0m\u001b[0;34m)\u001b[0m\u001b[0;34m\u001b[0m\u001b[0;34m\u001b[0m\u001b[0m\n\u001b[0m\u001b[1;32m    108\u001b[0m         )\n\u001b[1;32m    109\u001b[0m \u001b[0;34m\u001b[0m\u001b[0m\n",
            "\u001b[0;32m/usr/local/lib/python3.7/dist-packages/uplink/clients/io/execution.py\u001b[0m in \u001b[0;36mstart\u001b[0;34m(self, request)\u001b[0m\n\u001b[1;32m     95\u001b[0m     \u001b[0;32mdef\u001b[0m \u001b[0mstart\u001b[0m\u001b[0;34m(\u001b[0m\u001b[0mself\u001b[0m\u001b[0;34m,\u001b[0m \u001b[0mrequest\u001b[0m\u001b[0;34m)\u001b[0m\u001b[0;34m:\u001b[0m\u001b[0;34m\u001b[0m\u001b[0;34m\u001b[0m\u001b[0m\n\u001b[1;32m     96\u001b[0m         \u001b[0mself\u001b[0m\u001b[0;34m.\u001b[0m\u001b[0m_state\u001b[0m \u001b[0;34m=\u001b[0m \u001b[0mstate\u001b[0m\u001b[0;34m.\u001b[0m\u001b[0mBeforeRequest\u001b[0m\u001b[0;34m(\u001b[0m\u001b[0mrequest\u001b[0m\u001b[0;34m)\u001b[0m  \u001b[0;31m# Start state\u001b[0m\u001b[0;34m\u001b[0m\u001b[0;34m\u001b[0m\u001b[0m\n\u001b[0;32m---> 97\u001b[0;31m         \u001b[0;32mreturn\u001b[0m \u001b[0mself\u001b[0m\u001b[0;34m.\u001b[0m\u001b[0m_io\u001b[0m\u001b[0;34m.\u001b[0m\u001b[0mexecute\u001b[0m\u001b[0;34m(\u001b[0m\u001b[0mself\u001b[0m\u001b[0;34m)\u001b[0m\u001b[0;34m\u001b[0m\u001b[0;34m\u001b[0m\u001b[0m\n\u001b[0m\u001b[1;32m     98\u001b[0m \u001b[0;34m\u001b[0m\u001b[0m\n\u001b[1;32m     99\u001b[0m \u001b[0;34m\u001b[0m\u001b[0m\n",
            "\u001b[0;32m/usr/local/lib/python3.7/dist-packages/uplink/clients/io/execution.py\u001b[0m in \u001b[0;36mexecute\u001b[0;34m(self, executable)\u001b[0m\n\u001b[1;32m    120\u001b[0m \u001b[0;34m\u001b[0m\u001b[0m\n\u001b[1;32m    121\u001b[0m     \u001b[0;32mdef\u001b[0m \u001b[0mexecute\u001b[0m\u001b[0;34m(\u001b[0m\u001b[0mself\u001b[0m\u001b[0;34m,\u001b[0m \u001b[0mexecutable\u001b[0m\u001b[0;34m)\u001b[0m\u001b[0;34m:\u001b[0m\u001b[0;34m\u001b[0m\u001b[0;34m\u001b[0m\u001b[0m\n\u001b[0;32m--> 122\u001b[0;31m         \u001b[0;32mreturn\u001b[0m \u001b[0mself\u001b[0m\u001b[0;34m.\u001b[0m\u001b[0m_io\u001b[0m\u001b[0;34m.\u001b[0m\u001b[0mexecute\u001b[0m\u001b[0;34m(\u001b[0m\u001b[0mexecutable\u001b[0m\u001b[0;34m)\u001b[0m\u001b[0;34m\u001b[0m\u001b[0;34m\u001b[0m\u001b[0m\n\u001b[0m\u001b[1;32m    123\u001b[0m \u001b[0;34m\u001b[0m\u001b[0m\n\u001b[1;32m    124\u001b[0m     \u001b[0;32mdef\u001b[0m \u001b[0mfinish\u001b[0m\u001b[0;34m(\u001b[0m\u001b[0mself\u001b[0m\u001b[0;34m,\u001b[0m \u001b[0mresponse\u001b[0m\u001b[0;34m)\u001b[0m\u001b[0;34m:\u001b[0m\u001b[0;34m\u001b[0m\u001b[0;34m\u001b[0m\u001b[0m\n",
            "\u001b[0;32m/usr/local/lib/python3.7/dist-packages/uplink/clients/io/execution.py\u001b[0m in \u001b[0;36mexecute\u001b[0;34m(self, executable)\u001b[0m\n\u001b[1;32m    120\u001b[0m \u001b[0;34m\u001b[0m\u001b[0m\n\u001b[1;32m    121\u001b[0m     \u001b[0;32mdef\u001b[0m \u001b[0mexecute\u001b[0m\u001b[0;34m(\u001b[0m\u001b[0mself\u001b[0m\u001b[0;34m,\u001b[0m \u001b[0mexecutable\u001b[0m\u001b[0;34m)\u001b[0m\u001b[0;34m:\u001b[0m\u001b[0;34m\u001b[0m\u001b[0;34m\u001b[0m\u001b[0m\n\u001b[0;32m--> 122\u001b[0;31m         \u001b[0;32mreturn\u001b[0m \u001b[0mself\u001b[0m\u001b[0;34m.\u001b[0m\u001b[0m_io\u001b[0m\u001b[0;34m.\u001b[0m\u001b[0mexecute\u001b[0m\u001b[0;34m(\u001b[0m\u001b[0mexecutable\u001b[0m\u001b[0;34m)\u001b[0m\u001b[0;34m\u001b[0m\u001b[0;34m\u001b[0m\u001b[0m\n\u001b[0m\u001b[1;32m    123\u001b[0m \u001b[0;34m\u001b[0m\u001b[0m\n\u001b[1;32m    124\u001b[0m     \u001b[0;32mdef\u001b[0m \u001b[0mfinish\u001b[0m\u001b[0;34m(\u001b[0m\u001b[0mself\u001b[0m\u001b[0;34m,\u001b[0m \u001b[0mresponse\u001b[0m\u001b[0;34m)\u001b[0m\u001b[0;34m:\u001b[0m\u001b[0;34m\u001b[0m\u001b[0;34m\u001b[0m\u001b[0m\n",
            "\u001b[0;32m/usr/local/lib/python3.7/dist-packages/uplink/clients/io/execution.py\u001b[0m in \u001b[0;36mexecute\u001b[0;34m(self, executable)\u001b[0m\n\u001b[1;32m    120\u001b[0m \u001b[0;34m\u001b[0m\u001b[0m\n\u001b[1;32m    121\u001b[0m     \u001b[0;32mdef\u001b[0m \u001b[0mexecute\u001b[0m\u001b[0;34m(\u001b[0m\u001b[0mself\u001b[0m\u001b[0;34m,\u001b[0m \u001b[0mexecutable\u001b[0m\u001b[0;34m)\u001b[0m\u001b[0;34m:\u001b[0m\u001b[0;34m\u001b[0m\u001b[0;34m\u001b[0m\u001b[0m\n\u001b[0;32m--> 122\u001b[0;31m         \u001b[0;32mreturn\u001b[0m \u001b[0mself\u001b[0m\u001b[0;34m.\u001b[0m\u001b[0m_io\u001b[0m\u001b[0;34m.\u001b[0m\u001b[0mexecute\u001b[0m\u001b[0;34m(\u001b[0m\u001b[0mexecutable\u001b[0m\u001b[0;34m)\u001b[0m\u001b[0;34m\u001b[0m\u001b[0;34m\u001b[0m\u001b[0m\n\u001b[0m\u001b[1;32m    123\u001b[0m \u001b[0;34m\u001b[0m\u001b[0m\n\u001b[1;32m    124\u001b[0m     \u001b[0;32mdef\u001b[0m \u001b[0mfinish\u001b[0m\u001b[0;34m(\u001b[0m\u001b[0mself\u001b[0m\u001b[0;34m,\u001b[0m \u001b[0mresponse\u001b[0m\u001b[0;34m)\u001b[0m\u001b[0;34m:\u001b[0m\u001b[0;34m\u001b[0m\u001b[0;34m\u001b[0m\u001b[0m\n",
            "\u001b[0;32m/usr/local/lib/python3.7/dist-packages/uplink/clients/io/blocking_strategy.py\u001b[0m in \u001b[0;36mexecute\u001b[0;34m(self, executable)\u001b[0m\n\u001b[1;32m     29\u001b[0m \u001b[0;34m\u001b[0m\u001b[0m\n\u001b[1;32m     30\u001b[0m     \u001b[0;32mdef\u001b[0m \u001b[0mexecute\u001b[0m\u001b[0;34m(\u001b[0m\u001b[0mself\u001b[0m\u001b[0;34m,\u001b[0m \u001b[0mexecutable\u001b[0m\u001b[0;34m)\u001b[0m\u001b[0;34m:\u001b[0m\u001b[0;34m\u001b[0m\u001b[0;34m\u001b[0m\u001b[0m\n\u001b[0;32m---> 31\u001b[0;31m         \u001b[0;32mreturn\u001b[0m \u001b[0mexecutable\u001b[0m\u001b[0;34m.\u001b[0m\u001b[0mexecute\u001b[0m\u001b[0;34m(\u001b[0m\u001b[0;34m)\u001b[0m\u001b[0;34m\u001b[0m\u001b[0;34m\u001b[0m\u001b[0m\n\u001b[0m",
            "\u001b[0;32m/usr/local/lib/python3.7/dist-packages/uplink/clients/io/execution.py\u001b[0m in \u001b[0;36mexecute\u001b[0;34m(self)\u001b[0m\n\u001b[1;32m     91\u001b[0m \u001b[0;34m\u001b[0m\u001b[0m\n\u001b[1;32m     92\u001b[0m     \u001b[0;32mdef\u001b[0m \u001b[0mexecute\u001b[0m\u001b[0;34m(\u001b[0m\u001b[0mself\u001b[0m\u001b[0;34m)\u001b[0m\u001b[0;34m:\u001b[0m\u001b[0;34m\u001b[0m\u001b[0;34m\u001b[0m\u001b[0m\n\u001b[0;32m---> 93\u001b[0;31m         \u001b[0;32mreturn\u001b[0m \u001b[0mself\u001b[0m\u001b[0;34m.\u001b[0m\u001b[0mstate\u001b[0m\u001b[0;34m.\u001b[0m\u001b[0mexecute\u001b[0m\u001b[0;34m(\u001b[0m\u001b[0mself\u001b[0m\u001b[0;34m)\u001b[0m\u001b[0;34m\u001b[0m\u001b[0;34m\u001b[0m\u001b[0m\n\u001b[0m\u001b[1;32m     94\u001b[0m \u001b[0;34m\u001b[0m\u001b[0m\n\u001b[1;32m     95\u001b[0m     \u001b[0;32mdef\u001b[0m \u001b[0mstart\u001b[0m\u001b[0;34m(\u001b[0m\u001b[0mself\u001b[0m\u001b[0;34m,\u001b[0m \u001b[0mrequest\u001b[0m\u001b[0;34m)\u001b[0m\u001b[0;34m:\u001b[0m\u001b[0;34m\u001b[0m\u001b[0;34m\u001b[0m\u001b[0m\n",
            "\u001b[0;32m/usr/local/lib/python3.7/dist-packages/uplink/clients/io/state.py\u001b[0m in \u001b[0;36mexecute\u001b[0;34m(self, execution)\u001b[0m\n\u001b[1;32m     34\u001b[0m \u001b[0;32mclass\u001b[0m \u001b[0mBeforeRequest\u001b[0m\u001b[0;34m(\u001b[0m\u001b[0m_BaseState\u001b[0m\u001b[0;34m)\u001b[0m\u001b[0;34m:\u001b[0m\u001b[0;34m\u001b[0m\u001b[0;34m\u001b[0m\u001b[0m\n\u001b[1;32m     35\u001b[0m     \u001b[0;32mdef\u001b[0m \u001b[0mexecute\u001b[0m\u001b[0;34m(\u001b[0m\u001b[0mself\u001b[0m\u001b[0;34m,\u001b[0m \u001b[0mexecution\u001b[0m\u001b[0;34m)\u001b[0m\u001b[0;34m:\u001b[0m\u001b[0;34m\u001b[0m\u001b[0;34m\u001b[0m\u001b[0m\n\u001b[0;32m---> 36\u001b[0;31m         \u001b[0;32mreturn\u001b[0m \u001b[0mexecution\u001b[0m\u001b[0;34m.\u001b[0m\u001b[0mbefore_request\u001b[0m\u001b[0;34m(\u001b[0m\u001b[0mself\u001b[0m\u001b[0;34m.\u001b[0m\u001b[0m_request\u001b[0m\u001b[0;34m)\u001b[0m\u001b[0;34m\u001b[0m\u001b[0;34m\u001b[0m\u001b[0m\n\u001b[0m\u001b[1;32m     37\u001b[0m \u001b[0;34m\u001b[0m\u001b[0m\n\u001b[1;32m     38\u001b[0m     \u001b[0;32mdef\u001b[0m \u001b[0m__eq__\u001b[0m\u001b[0;34m(\u001b[0m\u001b[0mself\u001b[0m\u001b[0;34m,\u001b[0m \u001b[0mother\u001b[0m\u001b[0;34m)\u001b[0m\u001b[0;34m:\u001b[0m\u001b[0;34m\u001b[0m\u001b[0;34m\u001b[0m\u001b[0m\n",
            "\u001b[0;32m/usr/local/lib/python3.7/dist-packages/uplink/clients/io/execution.py\u001b[0m in \u001b[0;36mbefore_request\u001b[0;34m(self, request)\u001b[0m\n\u001b[1;32m     54\u001b[0m         \u001b[0mnext_state\u001b[0m \u001b[0;34m=\u001b[0m \u001b[0maction\u001b[0m\u001b[0;34m(\u001b[0m\u001b[0mself\u001b[0m\u001b[0;34m.\u001b[0m\u001b[0m_state\u001b[0m\u001b[0;34m)\u001b[0m\u001b[0;34m\u001b[0m\u001b[0;34m\u001b[0m\u001b[0m\n\u001b[1;32m     55\u001b[0m         \u001b[0mself\u001b[0m\u001b[0;34m.\u001b[0m\u001b[0m_state\u001b[0m \u001b[0;34m=\u001b[0m \u001b[0mnext_state\u001b[0m\u001b[0;34m\u001b[0m\u001b[0;34m\u001b[0m\u001b[0m\n\u001b[0;32m---> 56\u001b[0;31m         \u001b[0;32mreturn\u001b[0m \u001b[0mself\u001b[0m\u001b[0;34m.\u001b[0m\u001b[0mexecute\u001b[0m\u001b[0;34m(\u001b[0m\u001b[0;34m)\u001b[0m\u001b[0;34m\u001b[0m\u001b[0;34m\u001b[0m\u001b[0m\n\u001b[0m\u001b[1;32m     57\u001b[0m \u001b[0;34m\u001b[0m\u001b[0m\n\u001b[1;32m     58\u001b[0m     \u001b[0;32mdef\u001b[0m \u001b[0mafter_response\u001b[0m\u001b[0;34m(\u001b[0m\u001b[0mself\u001b[0m\u001b[0;34m,\u001b[0m \u001b[0mrequest\u001b[0m\u001b[0;34m,\u001b[0m \u001b[0mresponse\u001b[0m\u001b[0;34m)\u001b[0m\u001b[0;34m:\u001b[0m\u001b[0;34m\u001b[0m\u001b[0;34m\u001b[0m\u001b[0m\n",
            "\u001b[0;32m/usr/local/lib/python3.7/dist-packages/uplink/clients/io/execution.py\u001b[0m in \u001b[0;36mexecute\u001b[0;34m(self)\u001b[0m\n\u001b[1;32m     91\u001b[0m \u001b[0;34m\u001b[0m\u001b[0m\n\u001b[1;32m     92\u001b[0m     \u001b[0;32mdef\u001b[0m \u001b[0mexecute\u001b[0m\u001b[0;34m(\u001b[0m\u001b[0mself\u001b[0m\u001b[0;34m)\u001b[0m\u001b[0;34m:\u001b[0m\u001b[0;34m\u001b[0m\u001b[0;34m\u001b[0m\u001b[0m\n\u001b[0;32m---> 93\u001b[0;31m         \u001b[0;32mreturn\u001b[0m \u001b[0mself\u001b[0m\u001b[0;34m.\u001b[0m\u001b[0mstate\u001b[0m\u001b[0;34m.\u001b[0m\u001b[0mexecute\u001b[0m\u001b[0;34m(\u001b[0m\u001b[0mself\u001b[0m\u001b[0;34m)\u001b[0m\u001b[0;34m\u001b[0m\u001b[0;34m\u001b[0m\u001b[0m\n\u001b[0m\u001b[1;32m     94\u001b[0m \u001b[0;34m\u001b[0m\u001b[0m\n\u001b[1;32m     95\u001b[0m     \u001b[0;32mdef\u001b[0m \u001b[0mstart\u001b[0m\u001b[0;34m(\u001b[0m\u001b[0mself\u001b[0m\u001b[0;34m,\u001b[0m \u001b[0mrequest\u001b[0m\u001b[0;34m)\u001b[0m\u001b[0;34m:\u001b[0m\u001b[0;34m\u001b[0m\u001b[0;34m\u001b[0m\u001b[0m\n",
            "\u001b[0;32m/usr/local/lib/python3.7/dist-packages/uplink/clients/io/state.py\u001b[0m in \u001b[0;36mexecute\u001b[0;34m(self, execution)\u001b[0m\n\u001b[1;32m    104\u001b[0m     \u001b[0;32mdef\u001b[0m \u001b[0mexecute\u001b[0m\u001b[0;34m(\u001b[0m\u001b[0mself\u001b[0m\u001b[0;34m,\u001b[0m \u001b[0mexecution\u001b[0m\u001b[0;34m)\u001b[0m\u001b[0;34m:\u001b[0m\u001b[0;34m\u001b[0m\u001b[0;34m\u001b[0m\u001b[0m\n\u001b[1;32m    105\u001b[0m         return execution.send(\n\u001b[0;32m--> 106\u001b[0;31m             \u001b[0mself\u001b[0m\u001b[0;34m.\u001b[0m\u001b[0m_request\u001b[0m\u001b[0;34m,\u001b[0m \u001b[0mself\u001b[0m\u001b[0;34m.\u001b[0m\u001b[0mSendCallback\u001b[0m\u001b[0;34m(\u001b[0m\u001b[0mexecution\u001b[0m\u001b[0;34m,\u001b[0m \u001b[0mself\u001b[0m\u001b[0;34m.\u001b[0m\u001b[0m_request\u001b[0m\u001b[0;34m)\u001b[0m\u001b[0;34m\u001b[0m\u001b[0;34m\u001b[0m\u001b[0m\n\u001b[0m\u001b[1;32m    107\u001b[0m         )\n\u001b[1;32m    108\u001b[0m \u001b[0;34m\u001b[0m\u001b[0m\n",
            "\u001b[0;32m/usr/local/lib/python3.7/dist-packages/uplink/clients/io/execution.py\u001b[0m in \u001b[0;36msend\u001b[0;34m(self, request, callback)\u001b[0m\n\u001b[1;32m     71\u001b[0m \u001b[0;34m\u001b[0m\u001b[0m\n\u001b[1;32m     72\u001b[0m     \u001b[0;32mdef\u001b[0m \u001b[0msend\u001b[0m\u001b[0;34m(\u001b[0m\u001b[0mself\u001b[0m\u001b[0;34m,\u001b[0m \u001b[0mrequest\u001b[0m\u001b[0;34m,\u001b[0m \u001b[0mcallback\u001b[0m\u001b[0;34m)\u001b[0m\u001b[0;34m:\u001b[0m\u001b[0;34m\u001b[0m\u001b[0;34m\u001b[0m\u001b[0m\n\u001b[0;32m---> 73\u001b[0;31m         \u001b[0;32mreturn\u001b[0m \u001b[0mself\u001b[0m\u001b[0;34m.\u001b[0m\u001b[0m_io\u001b[0m\u001b[0;34m.\u001b[0m\u001b[0minvoke\u001b[0m\u001b[0;34m(\u001b[0m\u001b[0mself\u001b[0m\u001b[0;34m.\u001b[0m\u001b[0m_client\u001b[0m\u001b[0;34m.\u001b[0m\u001b[0msend\u001b[0m\u001b[0;34m,\u001b[0m \u001b[0;34m(\u001b[0m\u001b[0mrequest\u001b[0m\u001b[0;34m,\u001b[0m\u001b[0;34m)\u001b[0m\u001b[0;34m,\u001b[0m \u001b[0;34m{\u001b[0m\u001b[0;34m}\u001b[0m\u001b[0;34m,\u001b[0m \u001b[0mcallback\u001b[0m\u001b[0;34m)\u001b[0m\u001b[0;34m\u001b[0m\u001b[0;34m\u001b[0m\u001b[0m\n\u001b[0m\u001b[1;32m     74\u001b[0m \u001b[0;34m\u001b[0m\u001b[0m\n\u001b[1;32m     75\u001b[0m     \u001b[0;32mdef\u001b[0m \u001b[0msleep\u001b[0m\u001b[0;34m(\u001b[0m\u001b[0mself\u001b[0m\u001b[0;34m,\u001b[0m \u001b[0mduration\u001b[0m\u001b[0;34m,\u001b[0m \u001b[0mcallback\u001b[0m\u001b[0;34m)\u001b[0m\u001b[0;34m:\u001b[0m\u001b[0;34m\u001b[0m\u001b[0;34m\u001b[0m\u001b[0m\n",
            "\u001b[0;32m/usr/local/lib/python3.7/dist-packages/uplink/clients/io/execution.py\u001b[0m in \u001b[0;36minvoke\u001b[0;34m(self, func, args, kwargs, callback)\u001b[0m\n\u001b[1;32m    114\u001b[0m \u001b[0;34m\u001b[0m\u001b[0m\n\u001b[1;32m    115\u001b[0m     \u001b[0;32mdef\u001b[0m \u001b[0minvoke\u001b[0m\u001b[0;34m(\u001b[0m\u001b[0mself\u001b[0m\u001b[0;34m,\u001b[0m \u001b[0mfunc\u001b[0m\u001b[0;34m,\u001b[0m \u001b[0margs\u001b[0m\u001b[0;34m,\u001b[0m \u001b[0mkwargs\u001b[0m\u001b[0;34m,\u001b[0m \u001b[0mcallback\u001b[0m\u001b[0;34m)\u001b[0m\u001b[0;34m:\u001b[0m\u001b[0;34m\u001b[0m\u001b[0;34m\u001b[0m\u001b[0m\n\u001b[0;32m--> 116\u001b[0;31m         \u001b[0;32mreturn\u001b[0m \u001b[0mself\u001b[0m\u001b[0;34m.\u001b[0m\u001b[0m_io\u001b[0m\u001b[0;34m.\u001b[0m\u001b[0minvoke\u001b[0m\u001b[0;34m(\u001b[0m\u001b[0mfunc\u001b[0m\u001b[0;34m,\u001b[0m \u001b[0margs\u001b[0m\u001b[0;34m,\u001b[0m \u001b[0mkwargs\u001b[0m\u001b[0;34m,\u001b[0m \u001b[0mcallback\u001b[0m\u001b[0;34m)\u001b[0m\u001b[0;34m\u001b[0m\u001b[0;34m\u001b[0m\u001b[0m\n\u001b[0m\u001b[1;32m    117\u001b[0m \u001b[0;34m\u001b[0m\u001b[0m\n\u001b[1;32m    118\u001b[0m     \u001b[0;32mdef\u001b[0m \u001b[0msleep\u001b[0m\u001b[0;34m(\u001b[0m\u001b[0mself\u001b[0m\u001b[0;34m,\u001b[0m \u001b[0mduration\u001b[0m\u001b[0;34m,\u001b[0m \u001b[0mcallback\u001b[0m\u001b[0;34m)\u001b[0m\u001b[0;34m:\u001b[0m\u001b[0;34m\u001b[0m\u001b[0;34m\u001b[0m\u001b[0m\n",
            "\u001b[0;32m/usr/local/lib/python3.7/dist-packages/uplink/clients/io/execution.py\u001b[0m in \u001b[0;36minvoke\u001b[0;34m(self, func, args, kwargs, callback)\u001b[0m\n\u001b[1;32m    114\u001b[0m \u001b[0;34m\u001b[0m\u001b[0m\n\u001b[1;32m    115\u001b[0m     \u001b[0;32mdef\u001b[0m \u001b[0minvoke\u001b[0m\u001b[0;34m(\u001b[0m\u001b[0mself\u001b[0m\u001b[0;34m,\u001b[0m \u001b[0mfunc\u001b[0m\u001b[0;34m,\u001b[0m \u001b[0margs\u001b[0m\u001b[0;34m,\u001b[0m \u001b[0mkwargs\u001b[0m\u001b[0;34m,\u001b[0m \u001b[0mcallback\u001b[0m\u001b[0;34m)\u001b[0m\u001b[0;34m:\u001b[0m\u001b[0;34m\u001b[0m\u001b[0;34m\u001b[0m\u001b[0m\n\u001b[0;32m--> 116\u001b[0;31m         \u001b[0;32mreturn\u001b[0m \u001b[0mself\u001b[0m\u001b[0;34m.\u001b[0m\u001b[0m_io\u001b[0m\u001b[0;34m.\u001b[0m\u001b[0minvoke\u001b[0m\u001b[0;34m(\u001b[0m\u001b[0mfunc\u001b[0m\u001b[0;34m,\u001b[0m \u001b[0margs\u001b[0m\u001b[0;34m,\u001b[0m \u001b[0mkwargs\u001b[0m\u001b[0;34m,\u001b[0m \u001b[0mcallback\u001b[0m\u001b[0;34m)\u001b[0m\u001b[0;34m\u001b[0m\u001b[0;34m\u001b[0m\u001b[0m\n\u001b[0m\u001b[1;32m    117\u001b[0m \u001b[0;34m\u001b[0m\u001b[0m\n\u001b[1;32m    118\u001b[0m     \u001b[0;32mdef\u001b[0m \u001b[0msleep\u001b[0m\u001b[0;34m(\u001b[0m\u001b[0mself\u001b[0m\u001b[0;34m,\u001b[0m \u001b[0mduration\u001b[0m\u001b[0;34m,\u001b[0m \u001b[0mcallback\u001b[0m\u001b[0;34m)\u001b[0m\u001b[0;34m:\u001b[0m\u001b[0;34m\u001b[0m\u001b[0;34m\u001b[0m\u001b[0m\n",
            "\u001b[0;32m/usr/local/lib/python3.7/dist-packages/uplink/clients/io/execution.py\u001b[0m in \u001b[0;36minvoke\u001b[0;34m(self, func, args, kwargs, callback)\u001b[0m\n\u001b[1;32m    114\u001b[0m \u001b[0;34m\u001b[0m\u001b[0m\n\u001b[1;32m    115\u001b[0m     \u001b[0;32mdef\u001b[0m \u001b[0minvoke\u001b[0m\u001b[0;34m(\u001b[0m\u001b[0mself\u001b[0m\u001b[0;34m,\u001b[0m \u001b[0mfunc\u001b[0m\u001b[0;34m,\u001b[0m \u001b[0margs\u001b[0m\u001b[0;34m,\u001b[0m \u001b[0mkwargs\u001b[0m\u001b[0;34m,\u001b[0m \u001b[0mcallback\u001b[0m\u001b[0;34m)\u001b[0m\u001b[0;34m:\u001b[0m\u001b[0;34m\u001b[0m\u001b[0;34m\u001b[0m\u001b[0m\n\u001b[0;32m--> 116\u001b[0;31m         \u001b[0;32mreturn\u001b[0m \u001b[0mself\u001b[0m\u001b[0;34m.\u001b[0m\u001b[0m_io\u001b[0m\u001b[0;34m.\u001b[0m\u001b[0minvoke\u001b[0m\u001b[0;34m(\u001b[0m\u001b[0mfunc\u001b[0m\u001b[0;34m,\u001b[0m \u001b[0margs\u001b[0m\u001b[0;34m,\u001b[0m \u001b[0mkwargs\u001b[0m\u001b[0;34m,\u001b[0m \u001b[0mcallback\u001b[0m\u001b[0;34m)\u001b[0m\u001b[0;34m\u001b[0m\u001b[0;34m\u001b[0m\u001b[0m\n\u001b[0m\u001b[1;32m    117\u001b[0m \u001b[0;34m\u001b[0m\u001b[0m\n\u001b[1;32m    118\u001b[0m     \u001b[0;32mdef\u001b[0m \u001b[0msleep\u001b[0m\u001b[0;34m(\u001b[0m\u001b[0mself\u001b[0m\u001b[0;34m,\u001b[0m \u001b[0mduration\u001b[0m\u001b[0;34m,\u001b[0m \u001b[0mcallback\u001b[0m\u001b[0;34m)\u001b[0m\u001b[0;34m:\u001b[0m\u001b[0;34m\u001b[0m\u001b[0;34m\u001b[0m\u001b[0m\n",
            "\u001b[0;32m/usr/local/lib/python3.7/dist-packages/uplink/clients/io/blocking_strategy.py\u001b[0m in \u001b[0;36minvoke\u001b[0;34m(self, func, arg, kwargs, callback)\u001b[0m\n\u001b[1;32m     19\u001b[0m             \u001b[0;32mreturn\u001b[0m \u001b[0mcallback\u001b[0m\u001b[0;34m.\u001b[0m\u001b[0mon_failure\u001b[0m\u001b[0;34m(\u001b[0m\u001b[0mtype\u001b[0m\u001b[0;34m(\u001b[0m\u001b[0merror\u001b[0m\u001b[0;34m)\u001b[0m\u001b[0;34m,\u001b[0m \u001b[0merror\u001b[0m\u001b[0;34m,\u001b[0m \u001b[0mtb\u001b[0m\u001b[0;34m)\u001b[0m\u001b[0;34m\u001b[0m\u001b[0;34m\u001b[0m\u001b[0m\n\u001b[1;32m     20\u001b[0m         \u001b[0;32melse\u001b[0m\u001b[0;34m:\u001b[0m\u001b[0;34m\u001b[0m\u001b[0;34m\u001b[0m\u001b[0m\n\u001b[0;32m---> 21\u001b[0;31m             \u001b[0;32mreturn\u001b[0m \u001b[0mcallback\u001b[0m\u001b[0;34m.\u001b[0m\u001b[0mon_success\u001b[0m\u001b[0;34m(\u001b[0m\u001b[0mresponse\u001b[0m\u001b[0;34m)\u001b[0m\u001b[0;34m\u001b[0m\u001b[0;34m\u001b[0m\u001b[0m\n\u001b[0m\u001b[1;32m     22\u001b[0m \u001b[0;34m\u001b[0m\u001b[0m\n\u001b[1;32m     23\u001b[0m     \u001b[0;32mdef\u001b[0m \u001b[0msleep\u001b[0m\u001b[0;34m(\u001b[0m\u001b[0mself\u001b[0m\u001b[0;34m,\u001b[0m \u001b[0mduration\u001b[0m\u001b[0;34m,\u001b[0m \u001b[0mcallback\u001b[0m\u001b[0;34m)\u001b[0m\u001b[0;34m:\u001b[0m\u001b[0;34m\u001b[0m\u001b[0;34m\u001b[0m\u001b[0m\n",
            "\u001b[0;32m/usr/local/lib/python3.7/dist-packages/uplink/clients/io/state.py\u001b[0m in \u001b[0;36mon_success\u001b[0;34m(self, response)\u001b[0m\n\u001b[1;32m     94\u001b[0m         \u001b[0;32mdef\u001b[0m \u001b[0mon_success\u001b[0m\u001b[0;34m(\u001b[0m\u001b[0mself\u001b[0m\u001b[0;34m,\u001b[0m \u001b[0mresponse\u001b[0m\u001b[0;34m)\u001b[0m\u001b[0;34m:\u001b[0m\u001b[0;34m\u001b[0m\u001b[0;34m\u001b[0m\u001b[0m\n\u001b[1;32m     95\u001b[0m             \u001b[0mself\u001b[0m\u001b[0;34m.\u001b[0m\u001b[0m_context\u001b[0m\u001b[0;34m.\u001b[0m\u001b[0mstate\u001b[0m \u001b[0;34m=\u001b[0m \u001b[0mAfterResponse\u001b[0m\u001b[0;34m(\u001b[0m\u001b[0mself\u001b[0m\u001b[0;34m.\u001b[0m\u001b[0m_request\u001b[0m\u001b[0;34m,\u001b[0m \u001b[0mresponse\u001b[0m\u001b[0;34m)\u001b[0m\u001b[0;34m\u001b[0m\u001b[0;34m\u001b[0m\u001b[0m\n\u001b[0;32m---> 96\u001b[0;31m             \u001b[0;32mreturn\u001b[0m \u001b[0mself\u001b[0m\u001b[0;34m.\u001b[0m\u001b[0m_context\u001b[0m\u001b[0;34m.\u001b[0m\u001b[0mexecute\u001b[0m\u001b[0;34m(\u001b[0m\u001b[0;34m)\u001b[0m\u001b[0;34m\u001b[0m\u001b[0;34m\u001b[0m\u001b[0m\n\u001b[0m\u001b[1;32m     97\u001b[0m \u001b[0;34m\u001b[0m\u001b[0m\n\u001b[1;32m     98\u001b[0m         \u001b[0;32mdef\u001b[0m \u001b[0mon_failure\u001b[0m\u001b[0;34m(\u001b[0m\u001b[0mself\u001b[0m\u001b[0;34m,\u001b[0m \u001b[0mexc_type\u001b[0m\u001b[0;34m,\u001b[0m \u001b[0mexc_val\u001b[0m\u001b[0;34m,\u001b[0m \u001b[0mexc_tb\u001b[0m\u001b[0;34m)\u001b[0m\u001b[0;34m:\u001b[0m\u001b[0;34m\u001b[0m\u001b[0;34m\u001b[0m\u001b[0m\n",
            "\u001b[0;32m/usr/local/lib/python3.7/dist-packages/uplink/clients/io/execution.py\u001b[0m in \u001b[0;36mexecute\u001b[0;34m(self)\u001b[0m\n\u001b[1;32m     91\u001b[0m \u001b[0;34m\u001b[0m\u001b[0m\n\u001b[1;32m     92\u001b[0m     \u001b[0;32mdef\u001b[0m \u001b[0mexecute\u001b[0m\u001b[0;34m(\u001b[0m\u001b[0mself\u001b[0m\u001b[0;34m)\u001b[0m\u001b[0;34m:\u001b[0m\u001b[0;34m\u001b[0m\u001b[0;34m\u001b[0m\u001b[0m\n\u001b[0;32m---> 93\u001b[0;31m         \u001b[0;32mreturn\u001b[0m \u001b[0mself\u001b[0m\u001b[0;34m.\u001b[0m\u001b[0mstate\u001b[0m\u001b[0;34m.\u001b[0m\u001b[0mexecute\u001b[0m\u001b[0;34m(\u001b[0m\u001b[0mself\u001b[0m\u001b[0;34m)\u001b[0m\u001b[0;34m\u001b[0m\u001b[0;34m\u001b[0m\u001b[0m\n\u001b[0m\u001b[1;32m     94\u001b[0m \u001b[0;34m\u001b[0m\u001b[0m\n\u001b[1;32m     95\u001b[0m     \u001b[0;32mdef\u001b[0m \u001b[0mstart\u001b[0m\u001b[0;34m(\u001b[0m\u001b[0mself\u001b[0m\u001b[0;34m,\u001b[0m \u001b[0mrequest\u001b[0m\u001b[0;34m)\u001b[0m\u001b[0;34m:\u001b[0m\u001b[0;34m\u001b[0m\u001b[0;34m\u001b[0m\u001b[0m\n",
            "\u001b[0;32m/usr/local/lib/python3.7/dist-packages/uplink/clients/io/state.py\u001b[0m in \u001b[0;36mexecute\u001b[0;34m(self, execution)\u001b[0m\n\u001b[1;32m    121\u001b[0m \u001b[0;34m\u001b[0m\u001b[0m\n\u001b[1;32m    122\u001b[0m     \u001b[0;32mdef\u001b[0m \u001b[0mexecute\u001b[0m\u001b[0;34m(\u001b[0m\u001b[0mself\u001b[0m\u001b[0;34m,\u001b[0m \u001b[0mexecution\u001b[0m\u001b[0;34m)\u001b[0m\u001b[0;34m:\u001b[0m\u001b[0;34m\u001b[0m\u001b[0;34m\u001b[0m\u001b[0m\n\u001b[0;32m--> 123\u001b[0;31m         \u001b[0;32mreturn\u001b[0m \u001b[0mexecution\u001b[0m\u001b[0;34m.\u001b[0m\u001b[0mafter_response\u001b[0m\u001b[0;34m(\u001b[0m\u001b[0mself\u001b[0m\u001b[0;34m.\u001b[0m\u001b[0m_request\u001b[0m\u001b[0;34m,\u001b[0m \u001b[0mself\u001b[0m\u001b[0;34m.\u001b[0m\u001b[0m_response\u001b[0m\u001b[0;34m)\u001b[0m\u001b[0;34m\u001b[0m\u001b[0;34m\u001b[0m\u001b[0m\n\u001b[0m\u001b[1;32m    124\u001b[0m \u001b[0;34m\u001b[0m\u001b[0m\n\u001b[1;32m    125\u001b[0m     \u001b[0;34m@\u001b[0m\u001b[0mproperty\u001b[0m\u001b[0;34m\u001b[0m\u001b[0;34m\u001b[0m\u001b[0m\n",
            "\u001b[0;32m/usr/local/lib/python3.7/dist-packages/uplink/clients/io/execution.py\u001b[0m in \u001b[0;36mafter_response\u001b[0;34m(self, request, response)\u001b[0m\n\u001b[1;32m     60\u001b[0m         \u001b[0mnext_state\u001b[0m \u001b[0;34m=\u001b[0m \u001b[0maction\u001b[0m\u001b[0;34m(\u001b[0m\u001b[0mself\u001b[0m\u001b[0;34m.\u001b[0m\u001b[0m_state\u001b[0m\u001b[0;34m)\u001b[0m\u001b[0;34m\u001b[0m\u001b[0;34m\u001b[0m\u001b[0m\n\u001b[1;32m     61\u001b[0m         \u001b[0mself\u001b[0m\u001b[0;34m.\u001b[0m\u001b[0m_state\u001b[0m \u001b[0;34m=\u001b[0m \u001b[0mnext_state\u001b[0m\u001b[0;34m\u001b[0m\u001b[0;34m\u001b[0m\u001b[0m\n\u001b[0;32m---> 62\u001b[0;31m         \u001b[0;32mreturn\u001b[0m \u001b[0mself\u001b[0m\u001b[0;34m.\u001b[0m\u001b[0mexecute\u001b[0m\u001b[0;34m(\u001b[0m\u001b[0;34m)\u001b[0m\u001b[0;34m\u001b[0m\u001b[0;34m\u001b[0m\u001b[0m\n\u001b[0m\u001b[1;32m     63\u001b[0m \u001b[0;34m\u001b[0m\u001b[0m\n\u001b[1;32m     64\u001b[0m     \u001b[0;32mdef\u001b[0m \u001b[0mafter_exception\u001b[0m\u001b[0;34m(\u001b[0m\u001b[0mself\u001b[0m\u001b[0;34m,\u001b[0m \u001b[0mrequest\u001b[0m\u001b[0;34m,\u001b[0m \u001b[0mexc_type\u001b[0m\u001b[0;34m,\u001b[0m \u001b[0mexc_val\u001b[0m\u001b[0;34m,\u001b[0m \u001b[0mexc_tb\u001b[0m\u001b[0;34m)\u001b[0m\u001b[0;34m:\u001b[0m\u001b[0;34m\u001b[0m\u001b[0;34m\u001b[0m\u001b[0m\n",
            "\u001b[0;32m/usr/local/lib/python3.7/dist-packages/uplink/clients/io/execution.py\u001b[0m in \u001b[0;36mexecute\u001b[0;34m(self)\u001b[0m\n\u001b[1;32m     91\u001b[0m \u001b[0;34m\u001b[0m\u001b[0m\n\u001b[1;32m     92\u001b[0m     \u001b[0;32mdef\u001b[0m \u001b[0mexecute\u001b[0m\u001b[0;34m(\u001b[0m\u001b[0mself\u001b[0m\u001b[0;34m)\u001b[0m\u001b[0;34m:\u001b[0m\u001b[0;34m\u001b[0m\u001b[0;34m\u001b[0m\u001b[0m\n\u001b[0;32m---> 93\u001b[0;31m         \u001b[0;32mreturn\u001b[0m \u001b[0mself\u001b[0m\u001b[0;34m.\u001b[0m\u001b[0mstate\u001b[0m\u001b[0;34m.\u001b[0m\u001b[0mexecute\u001b[0m\u001b[0;34m(\u001b[0m\u001b[0mself\u001b[0m\u001b[0;34m)\u001b[0m\u001b[0;34m\u001b[0m\u001b[0;34m\u001b[0m\u001b[0m\n\u001b[0m\u001b[1;32m     94\u001b[0m \u001b[0;34m\u001b[0m\u001b[0m\n\u001b[1;32m     95\u001b[0m     \u001b[0;32mdef\u001b[0m \u001b[0mstart\u001b[0m\u001b[0;34m(\u001b[0m\u001b[0mself\u001b[0m\u001b[0;34m,\u001b[0m \u001b[0mrequest\u001b[0m\u001b[0;34m)\u001b[0m\u001b[0;34m:\u001b[0m\u001b[0;34m\u001b[0m\u001b[0;34m\u001b[0m\u001b[0m\n",
            "\u001b[0;32m/usr/local/lib/python3.7/dist-packages/uplink/clients/io/state.py\u001b[0m in \u001b[0;36mexecute\u001b[0;34m(self, execution)\u001b[0m\n\u001b[1;32m    219\u001b[0m \u001b[0;34m\u001b[0m\u001b[0m\n\u001b[1;32m    220\u001b[0m     \u001b[0;32mdef\u001b[0m \u001b[0mexecute\u001b[0m\u001b[0;34m(\u001b[0m\u001b[0mself\u001b[0m\u001b[0;34m,\u001b[0m \u001b[0mexecution\u001b[0m\u001b[0;34m)\u001b[0m\u001b[0;34m:\u001b[0m\u001b[0;34m\u001b[0m\u001b[0;34m\u001b[0m\u001b[0m\n\u001b[0;32m--> 221\u001b[0;31m         \u001b[0;32mreturn\u001b[0m \u001b[0mexecution\u001b[0m\u001b[0;34m.\u001b[0m\u001b[0mfinish\u001b[0m\u001b[0;34m(\u001b[0m\u001b[0mself\u001b[0m\u001b[0;34m.\u001b[0m\u001b[0m_response\u001b[0m\u001b[0;34m)\u001b[0m\u001b[0;34m\u001b[0m\u001b[0;34m\u001b[0m\u001b[0m\n\u001b[0m\u001b[1;32m    222\u001b[0m \u001b[0;34m\u001b[0m\u001b[0m\n\u001b[1;32m    223\u001b[0m     \u001b[0;34m@\u001b[0m\u001b[0mproperty\u001b[0m\u001b[0;34m\u001b[0m\u001b[0;34m\u001b[0m\u001b[0m\n",
            "\u001b[0;32m/usr/local/lib/python3.7/dist-packages/uplink/clients/io/execution.py\u001b[0m in \u001b[0;36mfinish\u001b[0;34m(self, response)\u001b[0m\n\u001b[1;32m     77\u001b[0m \u001b[0;34m\u001b[0m\u001b[0m\n\u001b[1;32m     78\u001b[0m     \u001b[0;32mdef\u001b[0m \u001b[0mfinish\u001b[0m\u001b[0;34m(\u001b[0m\u001b[0mself\u001b[0m\u001b[0;34m,\u001b[0m \u001b[0mresponse\u001b[0m\u001b[0;34m)\u001b[0m\u001b[0;34m:\u001b[0m\u001b[0;34m\u001b[0m\u001b[0;34m\u001b[0m\u001b[0m\n\u001b[0;32m---> 79\u001b[0;31m         \u001b[0;32mreturn\u001b[0m \u001b[0mself\u001b[0m\u001b[0;34m.\u001b[0m\u001b[0m_io\u001b[0m\u001b[0;34m.\u001b[0m\u001b[0mfinish\u001b[0m\u001b[0;34m(\u001b[0m\u001b[0mresponse\u001b[0m\u001b[0;34m)\u001b[0m\u001b[0;34m\u001b[0m\u001b[0;34m\u001b[0m\u001b[0m\n\u001b[0m\u001b[1;32m     80\u001b[0m \u001b[0;34m\u001b[0m\u001b[0m\n\u001b[1;32m     81\u001b[0m     \u001b[0;32mdef\u001b[0m \u001b[0mfail\u001b[0m\u001b[0;34m(\u001b[0m\u001b[0mself\u001b[0m\u001b[0;34m,\u001b[0m \u001b[0mexc_type\u001b[0m\u001b[0;34m,\u001b[0m \u001b[0mexc_val\u001b[0m\u001b[0;34m,\u001b[0m \u001b[0mexc_tb\u001b[0m\u001b[0;34m)\u001b[0m\u001b[0;34m:\u001b[0m\u001b[0;34m\u001b[0m\u001b[0;34m\u001b[0m\u001b[0m\n",
            "\u001b[0;32m/usr/local/lib/python3.7/dist-packages/uplink/clients/io/execution.py\u001b[0m in \u001b[0;36mfinish\u001b[0;34m(self, response)\u001b[0m\n\u001b[1;32m    123\u001b[0m \u001b[0;34m\u001b[0m\u001b[0m\n\u001b[1;32m    124\u001b[0m     \u001b[0;32mdef\u001b[0m \u001b[0mfinish\u001b[0m\u001b[0;34m(\u001b[0m\u001b[0mself\u001b[0m\u001b[0;34m,\u001b[0m \u001b[0mresponse\u001b[0m\u001b[0;34m)\u001b[0m\u001b[0;34m:\u001b[0m\u001b[0;34m\u001b[0m\u001b[0;34m\u001b[0m\u001b[0m\n\u001b[0;32m--> 125\u001b[0;31m         \u001b[0;32mreturn\u001b[0m \u001b[0mself\u001b[0m\u001b[0;34m.\u001b[0m\u001b[0m_io\u001b[0m\u001b[0;34m.\u001b[0m\u001b[0mfinish\u001b[0m\u001b[0;34m(\u001b[0m\u001b[0mresponse\u001b[0m\u001b[0;34m)\u001b[0m\u001b[0;34m\u001b[0m\u001b[0;34m\u001b[0m\u001b[0m\n\u001b[0m\u001b[1;32m    126\u001b[0m \u001b[0;34m\u001b[0m\u001b[0m\n\u001b[1;32m    127\u001b[0m     \u001b[0;32mdef\u001b[0m \u001b[0mfail\u001b[0m\u001b[0;34m(\u001b[0m\u001b[0mself\u001b[0m\u001b[0;34m,\u001b[0m \u001b[0mexc_type\u001b[0m\u001b[0;34m,\u001b[0m \u001b[0mexc_val\u001b[0m\u001b[0;34m,\u001b[0m \u001b[0mexc_tb\u001b[0m\u001b[0;34m)\u001b[0m\u001b[0;34m:\u001b[0m  \u001b[0;31m# pragma: no cover\u001b[0m\u001b[0;34m\u001b[0m\u001b[0;34m\u001b[0m\u001b[0m\n",
            "\u001b[0;32m/usr/local/lib/python3.7/dist-packages/uplink/clients/io/execution.py\u001b[0m in \u001b[0;36mfinish\u001b[0;34m(self, response)\u001b[0m\n\u001b[1;32m    123\u001b[0m \u001b[0;34m\u001b[0m\u001b[0m\n\u001b[1;32m    124\u001b[0m     \u001b[0;32mdef\u001b[0m \u001b[0mfinish\u001b[0m\u001b[0;34m(\u001b[0m\u001b[0mself\u001b[0m\u001b[0;34m,\u001b[0m \u001b[0mresponse\u001b[0m\u001b[0;34m)\u001b[0m\u001b[0;34m:\u001b[0m\u001b[0;34m\u001b[0m\u001b[0;34m\u001b[0m\u001b[0m\n\u001b[0;32m--> 125\u001b[0;31m         \u001b[0;32mreturn\u001b[0m \u001b[0mself\u001b[0m\u001b[0;34m.\u001b[0m\u001b[0m_io\u001b[0m\u001b[0;34m.\u001b[0m\u001b[0mfinish\u001b[0m\u001b[0;34m(\u001b[0m\u001b[0mresponse\u001b[0m\u001b[0;34m)\u001b[0m\u001b[0;34m\u001b[0m\u001b[0;34m\u001b[0m\u001b[0m\n\u001b[0m\u001b[1;32m    126\u001b[0m \u001b[0;34m\u001b[0m\u001b[0m\n\u001b[1;32m    127\u001b[0m     \u001b[0;32mdef\u001b[0m \u001b[0mfail\u001b[0m\u001b[0;34m(\u001b[0m\u001b[0mself\u001b[0m\u001b[0;34m,\u001b[0m \u001b[0mexc_type\u001b[0m\u001b[0;34m,\u001b[0m \u001b[0mexc_val\u001b[0m\u001b[0;34m,\u001b[0m \u001b[0mexc_tb\u001b[0m\u001b[0;34m)\u001b[0m\u001b[0;34m:\u001b[0m  \u001b[0;31m# pragma: no cover\u001b[0m\u001b[0;34m\u001b[0m\u001b[0;34m\u001b[0m\u001b[0m\n",
            "\u001b[0;32m/usr/local/lib/python3.7/dist-packages/uplink/clients/io/execution.py\u001b[0m in \u001b[0;36mfinish\u001b[0;34m(self, response)\u001b[0m\n\u001b[1;32m    142\u001b[0m     \u001b[0;32mdef\u001b[0m \u001b[0mfinish\u001b[0m\u001b[0;34m(\u001b[0m\u001b[0mself\u001b[0m\u001b[0;34m,\u001b[0m \u001b[0mresponse\u001b[0m\u001b[0;34m)\u001b[0m\u001b[0;34m:\u001b[0m\u001b[0;34m\u001b[0m\u001b[0;34m\u001b[0m\u001b[0m\n\u001b[1;32m    143\u001b[0m         return self._invoke(\n\u001b[0;32m--> 144\u001b[0;31m             \u001b[0mself\u001b[0m\u001b[0;34m.\u001b[0m\u001b[0m_client\u001b[0m\u001b[0;34m.\u001b[0m\u001b[0mapply_callback\u001b[0m\u001b[0;34m,\u001b[0m \u001b[0mself\u001b[0m\u001b[0;34m.\u001b[0m\u001b[0m_callback\u001b[0m\u001b[0;34m,\u001b[0m \u001b[0mresponse\u001b[0m\u001b[0;34m\u001b[0m\u001b[0;34m\u001b[0m\u001b[0m\n\u001b[0m\u001b[1;32m    145\u001b[0m         )\n\u001b[1;32m    146\u001b[0m \u001b[0;34m\u001b[0m\u001b[0m\n",
            "\u001b[0;32m/usr/local/lib/python3.7/dist-packages/uplink/clients/io/execution.py\u001b[0m in \u001b[0;36m_invoke\u001b[0;34m(self, func, *args, **kwargs)\u001b[0m\n\u001b[1;32m    131\u001b[0m \u001b[0;32mclass\u001b[0m \u001b[0mFinishingDecorator\u001b[0m\u001b[0;34m(\u001b[0m\u001b[0mIOStrategyDecorator\u001b[0m\u001b[0;34m)\u001b[0m\u001b[0;34m:\u001b[0m\u001b[0;34m\u001b[0m\u001b[0;34m\u001b[0m\u001b[0m\n\u001b[1;32m    132\u001b[0m     \u001b[0;32mdef\u001b[0m \u001b[0m_invoke\u001b[0m\u001b[0;34m(\u001b[0m\u001b[0mself\u001b[0m\u001b[0;34m,\u001b[0m \u001b[0mfunc\u001b[0m\u001b[0;34m,\u001b[0m \u001b[0;34m*\u001b[0m\u001b[0margs\u001b[0m\u001b[0;34m,\u001b[0m \u001b[0;34m**\u001b[0m\u001b[0mkwargs\u001b[0m\u001b[0;34m)\u001b[0m\u001b[0;34m:\u001b[0m\u001b[0;34m\u001b[0m\u001b[0;34m\u001b[0m\u001b[0m\n\u001b[0;32m--> 133\u001b[0;31m         \u001b[0;32mreturn\u001b[0m \u001b[0mself\u001b[0m\u001b[0;34m.\u001b[0m\u001b[0m_io\u001b[0m\u001b[0;34m.\u001b[0m\u001b[0minvoke\u001b[0m\u001b[0;34m(\u001b[0m\u001b[0mfunc\u001b[0m\u001b[0;34m,\u001b[0m \u001b[0margs\u001b[0m\u001b[0;34m,\u001b[0m \u001b[0mkwargs\u001b[0m\u001b[0;34m,\u001b[0m \u001b[0mFinishingCallback\u001b[0m\u001b[0;34m(\u001b[0m\u001b[0mself\u001b[0m\u001b[0;34m.\u001b[0m\u001b[0m_io\u001b[0m\u001b[0;34m)\u001b[0m\u001b[0;34m)\u001b[0m\u001b[0;34m\u001b[0m\u001b[0;34m\u001b[0m\u001b[0m\n\u001b[0m\u001b[1;32m    134\u001b[0m \u001b[0;34m\u001b[0m\u001b[0m\n\u001b[1;32m    135\u001b[0m \u001b[0;34m\u001b[0m\u001b[0m\n",
            "\u001b[0;32m/usr/local/lib/python3.7/dist-packages/uplink/clients/io/blocking_strategy.py\u001b[0m in \u001b[0;36minvoke\u001b[0;34m(self, func, arg, kwargs, callback)\u001b[0m\n\u001b[1;32m     17\u001b[0m         \u001b[0;32mexcept\u001b[0m \u001b[0mException\u001b[0m \u001b[0;32mas\u001b[0m \u001b[0merror\u001b[0m\u001b[0;34m:\u001b[0m\u001b[0;34m\u001b[0m\u001b[0;34m\u001b[0m\u001b[0m\n\u001b[1;32m     18\u001b[0m             \u001b[0mtb\u001b[0m \u001b[0;34m=\u001b[0m \u001b[0msys\u001b[0m\u001b[0;34m.\u001b[0m\u001b[0mexc_info\u001b[0m\u001b[0;34m(\u001b[0m\u001b[0;34m)\u001b[0m\u001b[0;34m[\u001b[0m\u001b[0;36m2\u001b[0m\u001b[0;34m]\u001b[0m\u001b[0;34m\u001b[0m\u001b[0;34m\u001b[0m\u001b[0m\n\u001b[0;32m---> 19\u001b[0;31m             \u001b[0;32mreturn\u001b[0m \u001b[0mcallback\u001b[0m\u001b[0;34m.\u001b[0m\u001b[0mon_failure\u001b[0m\u001b[0;34m(\u001b[0m\u001b[0mtype\u001b[0m\u001b[0;34m(\u001b[0m\u001b[0merror\u001b[0m\u001b[0;34m)\u001b[0m\u001b[0;34m,\u001b[0m \u001b[0merror\u001b[0m\u001b[0;34m,\u001b[0m \u001b[0mtb\u001b[0m\u001b[0;34m)\u001b[0m\u001b[0;34m\u001b[0m\u001b[0;34m\u001b[0m\u001b[0m\n\u001b[0m\u001b[1;32m     20\u001b[0m         \u001b[0;32melse\u001b[0m\u001b[0;34m:\u001b[0m\u001b[0;34m\u001b[0m\u001b[0;34m\u001b[0m\u001b[0m\n\u001b[1;32m     21\u001b[0m             \u001b[0;32mreturn\u001b[0m \u001b[0mcallback\u001b[0m\u001b[0;34m.\u001b[0m\u001b[0mon_success\u001b[0m\u001b[0;34m(\u001b[0m\u001b[0mresponse\u001b[0m\u001b[0;34m)\u001b[0m\u001b[0;34m\u001b[0m\u001b[0;34m\u001b[0m\u001b[0m\n",
            "\u001b[0;32m/usr/local/lib/python3.7/dist-packages/uplink/clients/io/execution.py\u001b[0m in \u001b[0;36mon_failure\u001b[0;34m(self, exc_type, exc_val, exc_tb)\u001b[0m\n\u001b[1;32m    106\u001b[0m \u001b[0;34m\u001b[0m\u001b[0m\n\u001b[1;32m    107\u001b[0m     \u001b[0;32mdef\u001b[0m \u001b[0mon_failure\u001b[0m\u001b[0;34m(\u001b[0m\u001b[0mself\u001b[0m\u001b[0;34m,\u001b[0m \u001b[0mexc_type\u001b[0m\u001b[0;34m,\u001b[0m \u001b[0mexc_val\u001b[0m\u001b[0;34m,\u001b[0m \u001b[0mexc_tb\u001b[0m\u001b[0;34m)\u001b[0m\u001b[0;34m:\u001b[0m\u001b[0;34m\u001b[0m\u001b[0;34m\u001b[0m\u001b[0m\n\u001b[0;32m--> 108\u001b[0;31m         \u001b[0;32mreturn\u001b[0m \u001b[0mself\u001b[0m\u001b[0;34m.\u001b[0m\u001b[0m_io\u001b[0m\u001b[0;34m.\u001b[0m\u001b[0mfail\u001b[0m\u001b[0;34m(\u001b[0m\u001b[0mexc_type\u001b[0m\u001b[0;34m,\u001b[0m \u001b[0mexc_val\u001b[0m\u001b[0;34m,\u001b[0m \u001b[0mexc_tb\u001b[0m\u001b[0;34m)\u001b[0m\u001b[0;34m\u001b[0m\u001b[0;34m\u001b[0m\u001b[0m\n\u001b[0m\u001b[1;32m    109\u001b[0m \u001b[0;34m\u001b[0m\u001b[0m\n\u001b[1;32m    110\u001b[0m \u001b[0;34m\u001b[0m\u001b[0m\n",
            "\u001b[0;32m/usr/local/lib/python3.7/dist-packages/uplink/clients/io/interfaces.py\u001b[0m in \u001b[0;36mfail\u001b[0;34m(self, exc_type, exc_val, exc_tb)\u001b[0m\n\u001b[1;32m    301\u001b[0m             \u001b[0mexc_tb\u001b[0m\u001b[0;34m:\u001b[0m \u001b[0mThe\u001b[0m \u001b[0mexception\u001b[0m\u001b[0;31m'\u001b[0m\u001b[0ms\u001b[0m \u001b[0mstacktrace\u001b[0m\u001b[0;34m.\u001b[0m\u001b[0;34m\u001b[0m\u001b[0;34m\u001b[0m\u001b[0m\n\u001b[1;32m    302\u001b[0m         \"\"\"\n\u001b[0;32m--> 303\u001b[0;31m         \u001b[0mcompat\u001b[0m\u001b[0;34m.\u001b[0m\u001b[0mreraise\u001b[0m\u001b[0;34m(\u001b[0m\u001b[0mexc_type\u001b[0m\u001b[0;34m,\u001b[0m \u001b[0mexc_val\u001b[0m\u001b[0;34m,\u001b[0m \u001b[0mexc_tb\u001b[0m\u001b[0;34m)\u001b[0m\u001b[0;34m\u001b[0m\u001b[0;34m\u001b[0m\u001b[0m\n\u001b[0m\u001b[1;32m    304\u001b[0m \u001b[0;34m\u001b[0m\u001b[0m\n\u001b[1;32m    305\u001b[0m     \u001b[0;32mdef\u001b[0m \u001b[0mexecute\u001b[0m\u001b[0;34m(\u001b[0m\u001b[0mself\u001b[0m\u001b[0;34m,\u001b[0m \u001b[0mexecutable\u001b[0m\u001b[0;34m)\u001b[0m\u001b[0;34m:\u001b[0m\u001b[0;34m\u001b[0m\u001b[0;34m\u001b[0m\u001b[0m\n",
            "\u001b[0;32m/usr/local/lib/python3.7/dist-packages/six.py\u001b[0m in \u001b[0;36mreraise\u001b[0;34m(tp, value, tb)\u001b[0m\n\u001b[1;32m    701\u001b[0m             \u001b[0;32mif\u001b[0m \u001b[0mvalue\u001b[0m\u001b[0;34m.\u001b[0m\u001b[0m__traceback__\u001b[0m \u001b[0;32mis\u001b[0m \u001b[0;32mnot\u001b[0m \u001b[0mtb\u001b[0m\u001b[0;34m:\u001b[0m\u001b[0;34m\u001b[0m\u001b[0;34m\u001b[0m\u001b[0m\n\u001b[1;32m    702\u001b[0m                 \u001b[0;32mraise\u001b[0m \u001b[0mvalue\u001b[0m\u001b[0;34m.\u001b[0m\u001b[0mwith_traceback\u001b[0m\u001b[0;34m(\u001b[0m\u001b[0mtb\u001b[0m\u001b[0;34m)\u001b[0m\u001b[0;34m\u001b[0m\u001b[0;34m\u001b[0m\u001b[0m\n\u001b[0;32m--> 703\u001b[0;31m             \u001b[0;32mraise\u001b[0m \u001b[0mvalue\u001b[0m\u001b[0;34m\u001b[0m\u001b[0;34m\u001b[0m\u001b[0m\n\u001b[0m\u001b[1;32m    704\u001b[0m         \u001b[0;32mfinally\u001b[0m\u001b[0;34m:\u001b[0m\u001b[0;34m\u001b[0m\u001b[0;34m\u001b[0m\u001b[0m\n\u001b[1;32m    705\u001b[0m             \u001b[0mvalue\u001b[0m \u001b[0;34m=\u001b[0m \u001b[0;32mNone\u001b[0m\u001b[0;34m\u001b[0m\u001b[0;34m\u001b[0m\u001b[0m\n",
            "\u001b[0;32m/usr/local/lib/python3.7/dist-packages/uplink/clients/io/blocking_strategy.py\u001b[0m in \u001b[0;36minvoke\u001b[0;34m(self, func, arg, kwargs, callback)\u001b[0m\n\u001b[1;32m     14\u001b[0m     \u001b[0;32mdef\u001b[0m \u001b[0minvoke\u001b[0m\u001b[0;34m(\u001b[0m\u001b[0mself\u001b[0m\u001b[0;34m,\u001b[0m \u001b[0mfunc\u001b[0m\u001b[0;34m,\u001b[0m \u001b[0marg\u001b[0m\u001b[0;34m,\u001b[0m \u001b[0mkwargs\u001b[0m\u001b[0;34m,\u001b[0m \u001b[0mcallback\u001b[0m\u001b[0;34m)\u001b[0m\u001b[0;34m:\u001b[0m\u001b[0;34m\u001b[0m\u001b[0;34m\u001b[0m\u001b[0m\n\u001b[1;32m     15\u001b[0m         \u001b[0;32mtry\u001b[0m\u001b[0;34m:\u001b[0m\u001b[0;34m\u001b[0m\u001b[0;34m\u001b[0m\u001b[0m\n\u001b[0;32m---> 16\u001b[0;31m             \u001b[0mresponse\u001b[0m \u001b[0;34m=\u001b[0m \u001b[0mfunc\u001b[0m\u001b[0;34m(\u001b[0m\u001b[0;34m*\u001b[0m\u001b[0marg\u001b[0m\u001b[0;34m,\u001b[0m \u001b[0;34m**\u001b[0m\u001b[0mkwargs\u001b[0m\u001b[0;34m)\u001b[0m\u001b[0;34m\u001b[0m\u001b[0;34m\u001b[0m\u001b[0m\n\u001b[0m\u001b[1;32m     17\u001b[0m         \u001b[0;32mexcept\u001b[0m \u001b[0mException\u001b[0m \u001b[0;32mas\u001b[0m \u001b[0merror\u001b[0m\u001b[0;34m:\u001b[0m\u001b[0;34m\u001b[0m\u001b[0;34m\u001b[0m\u001b[0m\n\u001b[1;32m     18\u001b[0m             \u001b[0mtb\u001b[0m \u001b[0;34m=\u001b[0m \u001b[0msys\u001b[0m\u001b[0;34m.\u001b[0m\u001b[0mexc_info\u001b[0m\u001b[0;34m(\u001b[0m\u001b[0;34m)\u001b[0m\u001b[0;34m[\u001b[0m\u001b[0;36m2\u001b[0m\u001b[0;34m]\u001b[0m\u001b[0;34m\u001b[0m\u001b[0;34m\u001b[0m\u001b[0m\n",
            "\u001b[0;32m/usr/local/lib/python3.7/dist-packages/uplink/clients/requests_.py\u001b[0m in \u001b[0;36mapply_callback\u001b[0;34m(self, callback, response)\u001b[0m\n\u001b[1;32m     51\u001b[0m \u001b[0;34m\u001b[0m\u001b[0m\n\u001b[1;32m     52\u001b[0m     \u001b[0;32mdef\u001b[0m \u001b[0mapply_callback\u001b[0m\u001b[0;34m(\u001b[0m\u001b[0mself\u001b[0m\u001b[0;34m,\u001b[0m \u001b[0mcallback\u001b[0m\u001b[0;34m,\u001b[0m \u001b[0mresponse\u001b[0m\u001b[0;34m)\u001b[0m\u001b[0;34m:\u001b[0m\u001b[0;34m\u001b[0m\u001b[0;34m\u001b[0m\u001b[0m\n\u001b[0;32m---> 53\u001b[0;31m         \u001b[0;32mreturn\u001b[0m \u001b[0mcallback\u001b[0m\u001b[0;34m(\u001b[0m\u001b[0mresponse\u001b[0m\u001b[0;34m)\u001b[0m\u001b[0;34m\u001b[0m\u001b[0;34m\u001b[0m\u001b[0m\n\u001b[0m\u001b[1;32m     54\u001b[0m \u001b[0;34m\u001b[0m\u001b[0m\n\u001b[1;32m     55\u001b[0m     \u001b[0;34m@\u001b[0m\u001b[0mstaticmethod\u001b[0m\u001b[0;34m\u001b[0m\u001b[0;34m\u001b[0m\u001b[0m\n",
            "\u001b[0;32m/usr/local/lib/python3.7/dist-packages/uplink/hooks.py\u001b[0m in \u001b[0;36mwrapper\u001b[0;34m(_, *args, **kwargs)\u001b[0m\n\u001b[1;32m     18\u001b[0m     \u001b[0;32mdef\u001b[0m \u001b[0mwrapper\u001b[0m\u001b[0;34m(\u001b[0m\u001b[0m_\u001b[0m\u001b[0;34m,\u001b[0m \u001b[0;34m*\u001b[0m\u001b[0margs\u001b[0m\u001b[0;34m,\u001b[0m \u001b[0;34m**\u001b[0m\u001b[0mkwargs\u001b[0m\u001b[0;34m)\u001b[0m\u001b[0;34m:\u001b[0m\u001b[0;34m\u001b[0m\u001b[0;34m\u001b[0m\u001b[0m\n\u001b[1;32m     19\u001b[0m         \u001b[0;31m# Expects that consumer is the first argument\u001b[0m\u001b[0;34m\u001b[0m\u001b[0;34m\u001b[0m\u001b[0;34m\u001b[0m\u001b[0m\n\u001b[0;32m---> 20\u001b[0;31m         \u001b[0;32mreturn\u001b[0m \u001b[0mhook\u001b[0m\u001b[0;34m(\u001b[0m\u001b[0;34m*\u001b[0m\u001b[0margs\u001b[0m\u001b[0;34m,\u001b[0m \u001b[0;34m**\u001b[0m\u001b[0mkwargs\u001b[0m\u001b[0;34m)\u001b[0m\u001b[0;34m\u001b[0m\u001b[0;34m\u001b[0m\u001b[0m\n\u001b[0m\u001b[1;32m     21\u001b[0m \u001b[0;34m\u001b[0m\u001b[0m\n\u001b[1;32m     22\u001b[0m     \u001b[0;32mreturn\u001b[0m \u001b[0mwrapper\u001b[0m\u001b[0;34m\u001b[0m\u001b[0;34m\u001b[0m\u001b[0m\n",
            "\u001b[0;32m/usr/local/lib/python3.7/dist-packages/pyarxaas/arxaas_connector.py\u001b[0m in \u001b[0;36mraise_for_status\u001b[0;34m(response)\u001b[0m\n\u001b[1;32m     14\u001b[0m     \"\"\"\n\u001b[1;32m     15\u001b[0m     \u001b[0;32mif\u001b[0m \u001b[0;36m400\u001b[0m \u001b[0;34m<=\u001b[0m \u001b[0mresponse\u001b[0m\u001b[0;34m.\u001b[0m\u001b[0mstatus_code\u001b[0m \u001b[0;34m<\u001b[0m \u001b[0;36m500\u001b[0m\u001b[0;34m:\u001b[0m\u001b[0;34m\u001b[0m\u001b[0;34m\u001b[0m\u001b[0m\n\u001b[0;32m---> 16\u001b[0;31m         \u001b[0;32mraise\u001b[0m \u001b[0mRequestException\u001b[0m\u001b[0;34m(\u001b[0m\u001b[0mresponse\u001b[0m\u001b[0;34m.\u001b[0m\u001b[0mtext\u001b[0m\u001b[0;34m)\u001b[0m\u001b[0;34m\u001b[0m\u001b[0;34m\u001b[0m\u001b[0m\n\u001b[0m\u001b[1;32m     17\u001b[0m     \u001b[0;32mif\u001b[0m \u001b[0mresponse\u001b[0m\u001b[0;34m.\u001b[0m\u001b[0mstatus_code\u001b[0m \u001b[0;34m>=\u001b[0m \u001b[0;36m500\u001b[0m\u001b[0;34m:\u001b[0m\u001b[0;34m\u001b[0m\u001b[0;34m\u001b[0m\u001b[0m\n\u001b[1;32m     18\u001b[0m         \u001b[0;32mraise\u001b[0m \u001b[0mHTTPError\u001b[0m\u001b[0;34m(\u001b[0m\u001b[0mresponse\u001b[0m\u001b[0;34m.\u001b[0m\u001b[0mtext\u001b[0m\u001b[0;34m)\u001b[0m\u001b[0;34m\u001b[0m\u001b[0;34m\u001b[0m\u001b[0m\n",
            "\u001b[0;31mRequestException\u001b[0m: <!DOCTYPE HTML>\n<html>\n\n<head>\n    <meta charset=\"utf-8\">\n\n    <title>Jupyter Notebook</title>\n    <link id=\"favicon\" rel=\"shortcut icon\" type=\"image/x-icon\" href=\"/static/base/images/favicon.ico?v=97c6417ed01bdc0ae3ef32ae4894fd03\">\n    <meta http-equiv=\"X-UA-Compatible\" content=\"IE=edge\" />\n    <link rel=\"stylesheet\" href=\"/static/components/jquery-ui/themes/smoothness/jquery-ui.min.css?v=9b2c8d3489227115310662a343fce11c\" type=\"text/css\" />\n    <link rel=\"stylesheet\" href=\"/static/components/jquery-typeahead/dist/jquery.typeahead.min.css?v=7afb461de36accb1aa133a1710f5bc56\" type=\"text/css\" />\n    <meta name=\"viewport\" content=\"width=device-width, initial-scale=1.0\">\n    \n    \n\n    <link rel=\"stylesheet\" href=\"/static/style/style.min.css?v=d87994e2e71f4741e4c4e3af747f9875\" type=\"text/css\"/>\n    \n<style type=\"text/css\">\n/* disable initial hide */\ndiv#header, div#site {\n    display: block;\n}\n</style>\n\n    <link rel=\"stylesheet\" href=\"/custom/custom.css\" type=\"text/css\" />\n    <script src=\"/static/components/es6-promise/promise.min.js?v=f004a16cb856e0ff11781d01ec5ca8fe\" type=\"text/javascript\" charset=\"utf-8\"></script>\n    <script src=\"/static/components/preact/index.js?v=5b98fce8b86ce059de89f9e728e16957\" type=\"text/javascript\"></script>\n    <script src=\"/static/components/proptypes/index.js?v=c40890eb04df9811fcc4d47e53a29604\" type=\"text/javascript\"></script>\n    <script src=\"/static/components/preact-compat/index.js?v=d376eb109a00b9b2e8c0d30782eb6df7\" type=\"text/javascript\"></script>\n    <script src=\"/static/components/requirejs/require.js?v=6da8be361b9ee26c5e721e76c6d4afce\" type=\"text/javascript\" charset=\"utf-8\"></script>\n    <script>\n      require.config({\n          \n          urlArgs: \"v=20210701070317\",\n          \n          baseUrl: '/static/',\n          paths: {\n            'auth/js/main': 'auth/js/main.min',\n            custom : '/custom',\n            nbextensions : '/nbextensions',\n            kernelspecs : '/kernelspecs',\n            underscore : 'components/underscore/underscore-min',\n            backbone : 'components/backbone/backbone-min',\n            jed: 'components/jed/jed',\n            jquery: 'components/jquery/jquery.min',\n            json: 'components/requirejs-plugins/src/json',\n            text: 'components/requirejs-text/text',\n            bootstrap: 'components/bootstrap/js/bootstrap.min',\n            bootstraptour: 'components/bootstrap-tour/build/js/bootstrap-tour.min',\n            'jquery-ui': 'components/jquery-ui/ui/minified/jquery-ui.min',\n            moment: 'components/moment/min/moment-with-locales',\n            codemirror: 'components/codemirror',\n            termjs: 'components/xterm.js/dist/xterm',\n            typeahead: 'components/jquery-typeahead/dist/jquery.typeahead.min',\n          },\n          map: { // for backward compatibility\n              \"*\": {\n                  \"jqueryui\": \"jquery-ui\",\n              }\n          },\n          shim: {\n            typeahead: {\n              deps: [\"jquery\"],\n              exports: \"typeahead\"\n            },\n            underscore: {\n              exports: '_'\n            },\n            backbone: {\n              deps: [\"underscore\", \"jquery\"],\n              exports: \"Backbone\"\n            },\n            bootstrap: {\n              deps: [\"jquery\"],\n              exports: \"bootstrap\"\n            },\n            bootstraptour: {\n              deps: [\"bootstrap\"],\n              exports: \"Tour\"\n            },\n            \"jquery-ui\": {\n              deps: [\"jquery\"],\n              exports: \"$\"\n            }\n          },\n          waitSeconds: 30,\n      });\n\n      require.config({\n          map: {\n              '*':{\n                'contents': 'services/contents',\n              }\n          }\n      });\n\n      // error-catching custom.js shim.\n      define(\"custom\", function (require, exports, module) {\n          try {\n              var custom = require('custom/custom');\n              console.debug('loaded custom.js');\n              return custom;\n          } catch (e) {\n              console.error(\"error loading custom.js\", e);\n              return {};\n          }\n      })\n    </script>\n\n    \n    \n\n</head>\n\n<body class=\"\"\n \n  \n \ndir=\"ltr\">\n\n<noscript>\n    <div id='noscript'>\n      Jupyter Notebook requires JavaScript.<br>\n      Please enable it to proceed. \n  </div>\n</noscript>\n\n<div id=\"header\">\n  <div id=\"header-container\" class=\"container\">\n  <div id=\"ipython_notebook\" class=\"nav navbar-brand\"><a href=\"/tree\" title='dashboard'>\n      <img src='/static/base/images/logo.png?v=641991992878ee24c6f3826e81054a0f' alt='Jupyter Notebook'/>\n  </a></div>\n\n  \n  \n  \n  \n  \n  \n\n\n  \n  \n  </div>\n  <div class=\"header-bar\"></div>\n\n  \n  \n</div>\n\n<div id=\"site\">\n\n\n<div class=\"error\">\n    \n    <h1>404 : Not Found</h1>\n    \n    \n<p>You are requesting a page that does not exist!</p>\n\n</header>\n\n\n</div>\n\n\n\n\n\n\n\n<script type='text/javascript'>\nrequire(['jquery'], function($) {\n  // scroll long tracebacks to the bottom\n  var tb = $(\".traceback\")[0];\n  tb.scrollTop = tb.scrollHeight;\n});\n</script>\n\n\n<script type='text/javascript'>\n  function _remove_token_from_url() {\n    if (window.location.search.length <= 1) {\n      return;\n    }\n    var search_parameters = window.location.search.slice(1).split('&');\n    for (var i = 0; i < search_parameters.length; i++) {\n      if (search_parameters[i].split('=')[0] === 'token') {\n        // remote token from search parameters\n        search_parameters.splice(i, 1);\n        var new_search = '';\n        if (search_parameters.length) {\n          new_search = '?' + search_parameters.join('&');\n        }\n        var new_url = window.location.origin + \n                      window.location.pathname + \n                      new_search + \n                      window.location.hash;\n        window.history.replaceState({}, \"\", new_url);\n        return;\n      }\n    }\n  }\n  _remove_token_from_url();\n</script>\n</body>\n\n</html>"
          ]
        }
      ]
    },
    {
      "cell_type": "code",
      "metadata": {
        "id": "YQkUaVOlGcxS"
      },
      "source": [
        "# get the new dataset\n",
        "anonymized_dataset = anonymize_result.dataset\n",
        "anon_dataframe = anonymized_dataset.to_dataframe()\n",
        "\n",
        "# get the risk profile for the new dataset\n",
        "anon_risk_profile = anonymize_result.risk_profile\n",
        "\n",
        "# get risk metrics as a dictionary\n",
        "re_indentifiation_risk = anon_risk_profile.re_identification_risk\n",
        "distribution_of_risk = anon_risk_profile.distribution_of_risk\n",
        "\n",
        "# get risk metrivs as pandas.DataFrame\n",
        "re_i_risk_df = anon_risk_profile.distribution_of_risk_dataframe()\n",
        "dist_risk_df = anon_risk_profile.distribution_of_risk_dataframe()\n",
        "\n",
        "# get the anonymiztion metrics\n",
        "anon_metrics = anonymize_result.anonymization_metrics"
      ],
      "execution_count": null,
      "outputs": []
    },
    {
      "cell_type": "markdown",
      "metadata": {
        "id": "_LGHD29T4V2J"
      },
      "source": [
        "# Anonymizedf"
      ]
    },
    {
      "cell_type": "code",
      "metadata": {
        "colab": {
          "base_uri": "https://localhost:8080/"
        },
        "id": "_obXHJXN4aNN",
        "outputId": "f870e488-d248-40b4-f2e4-47afdfe785e5"
      },
      "source": [
        "!pip install anonymizedf\n",
        "from anonymizedf.anonymizedf import anonymize\n"
      ],
      "execution_count": null,
      "outputs": [
        {
          "output_type": "stream",
          "text": [
            "Collecting anonymizedf\n",
            "  Downloading https://files.pythonhosted.org/packages/d1/1f/54b8001c141b23e4fdb28769c9bf131ad7e94a2455e178bcc99a68ec695e/anonymizedf-1.0.1-py3-none-any.whl\n",
            "Collecting faker\n",
            "\u001b[?25l  Downloading https://files.pythonhosted.org/packages/3f/a1/27de04bffda1ae74e71223ba751e33bc5893cf071731f9620ad6af012e5d/Faker-8.9.0-py3-none-any.whl (1.2MB)\n",
            "\u001b[K     |████████████████████████████████| 1.2MB 6.3MB/s \n",
            "\u001b[?25hRequirement already satisfied: pandas in /usr/local/lib/python3.7/dist-packages (from anonymizedf) (1.1.5)\n",
            "Requirement already satisfied: python-dateutil>=2.4 in /usr/local/lib/python3.7/dist-packages (from faker->anonymizedf) (2.8.1)\n",
            "Requirement already satisfied: text-unidecode==1.3 in /usr/local/lib/python3.7/dist-packages (from faker->anonymizedf) (1.3)\n",
            "Requirement already satisfied: pytz>=2017.2 in /usr/local/lib/python3.7/dist-packages (from pandas->anonymizedf) (2018.9)\n",
            "Requirement already satisfied: numpy>=1.15.4 in /usr/local/lib/python3.7/dist-packages (from pandas->anonymizedf) (1.19.5)\n",
            "Requirement already satisfied: six>=1.5 in /usr/local/lib/python3.7/dist-packages (from python-dateutil>=2.4->faker->anonymizedf) (1.15.0)\n",
            "Installing collected packages: faker, anonymizedf\n",
            "Successfully installed anonymizedf-1.0.1 faker-8.9.0\n"
          ],
          "name": "stdout"
        }
      ]
    },
    {
      "cell_type": "markdown",
      "metadata": {
        "id": "BLZSJBtHLtXI"
      },
      "source": [
        "```\n",
        "fake_names()  ,  fake_ids()  ,  fake_whole_numbers()  fake_categories() , fake_dates() , fake_decimal_numbers()\n",
        "```\n",
        "\n"
      ]
    },
    {
      "cell_type": "code",
      "metadata": {
        "colab": {
          "base_uri": "https://localhost:8080/"
        },
        "id": "MRdCQRlV4gB5",
        "outputId": "2c8015bd-160b-498c-aa42-2b717fa7108a"
      },
      "source": [
        "an = anonymize(df)\n",
        "an"
      ],
      "execution_count": null,
      "outputs": [
        {
          "output_type": "execute_result",
          "data": {
            "text/plain": [
              "<anonymizedf.anonymizedf.anonymize at 0x7f1935a95350>"
            ]
          },
          "metadata": {
            "tags": []
          },
          "execution_count": 46
        }
      ]
    },
    {
      "cell_type": "code",
      "metadata": {
        "colab": {
          "base_uri": "https://localhost:8080/",
          "height": 479
        },
        "id": "QaKks_5l5LZu",
        "outputId": "046d87ab-a8f1-4a5d-9a45-a679386ca808"
      },
      "source": [
        "fake_df = an.fake_names(\"FIRST\")\n",
        "fake_df.head()"
      ],
      "execution_count": null,
      "outputs": [
        {
          "output_type": "execute_result",
          "data": {
            "text/html": [
              "<div>\n",
              "<style scoped>\n",
              "    .dataframe tbody tr th:only-of-type {\n",
              "        vertical-align: middle;\n",
              "    }\n",
              "\n",
              "    .dataframe tbody tr th {\n",
              "        vertical-align: top;\n",
              "    }\n",
              "\n",
              "    .dataframe thead th {\n",
              "        text-align: right;\n",
              "    }\n",
              "</style>\n",
              "<table border=\"1\" class=\"dataframe\">\n",
              "  <thead>\n",
              "    <tr style=\"text-align: right;\">\n",
              "      <th></th>\n",
              "      <th>Id</th>\n",
              "      <th>BIRTHDATE</th>\n",
              "      <th>DEATHDATE</th>\n",
              "      <th>SSN</th>\n",
              "      <th>DRIVERS</th>\n",
              "      <th>PASSPORT</th>\n",
              "      <th>PREFIX</th>\n",
              "      <th>FIRST</th>\n",
              "      <th>LAST</th>\n",
              "      <th>SUFFIX</th>\n",
              "      <th>MAIDEN</th>\n",
              "      <th>MARITAL</th>\n",
              "      <th>RACE</th>\n",
              "      <th>ETHNICITY</th>\n",
              "      <th>GENDER</th>\n",
              "      <th>BIRTHPLACE</th>\n",
              "      <th>ADDRESS</th>\n",
              "      <th>CITY</th>\n",
              "      <th>STATE</th>\n",
              "      <th>COUNTY</th>\n",
              "      <th>ZIP</th>\n",
              "      <th>LAT</th>\n",
              "      <th>LON</th>\n",
              "      <th>HEALTHCARE_EXPENSES</th>\n",
              "      <th>HEALTHCARE_COVERAGE</th>\n",
              "      <th>Fake_FIRST</th>\n",
              "    </tr>\n",
              "  </thead>\n",
              "  <tbody>\n",
              "    <tr>\n",
              "      <th>0</th>\n",
              "      <td>f0f3bc8d-ef38-49ce-a2bd-dfdda982b271</td>\n",
              "      <td>2017-08-24</td>\n",
              "      <td>NaN</td>\n",
              "      <td>999-68-6630</td>\n",
              "      <td>NaN</td>\n",
              "      <td>NaN</td>\n",
              "      <td>NaN</td>\n",
              "      <td>Jacinto644</td>\n",
              "      <td>Kris249</td>\n",
              "      <td>NaN</td>\n",
              "      <td>NaN</td>\n",
              "      <td>NaN</td>\n",
              "      <td>white</td>\n",
              "      <td>nonhispanic</td>\n",
              "      <td>M</td>\n",
              "      <td>Beverly  Massachusetts  US</td>\n",
              "      <td>888 Hickle Ferry Suite 38</td>\n",
              "      <td>Springfield</td>\n",
              "      <td>Massachusetts</td>\n",
              "      <td>Hampden County</td>\n",
              "      <td>1106.0</td>\n",
              "      <td>42.151961</td>\n",
              "      <td>-72.598959</td>\n",
              "      <td>8446.49</td>\n",
              "      <td>1499.08</td>\n",
              "      <td>Dr. Tom Powell</td>\n",
              "    </tr>\n",
              "    <tr>\n",
              "      <th>1</th>\n",
              "      <td>067318a4-db8f-447f-8b6e-f2f61e9baaa5</td>\n",
              "      <td>2016-08-01</td>\n",
              "      <td>NaN</td>\n",
              "      <td>999-15-5895</td>\n",
              "      <td>NaN</td>\n",
              "      <td>NaN</td>\n",
              "      <td>NaN</td>\n",
              "      <td>Alva958</td>\n",
              "      <td>Krajcik437</td>\n",
              "      <td>NaN</td>\n",
              "      <td>NaN</td>\n",
              "      <td>NaN</td>\n",
              "      <td>white</td>\n",
              "      <td>nonhispanic</td>\n",
              "      <td>F</td>\n",
              "      <td>Boston  Massachusetts  US</td>\n",
              "      <td>1048 Skiles Trailer</td>\n",
              "      <td>Walpole</td>\n",
              "      <td>Massachusetts</td>\n",
              "      <td>Norfolk County</td>\n",
              "      <td>2081.0</td>\n",
              "      <td>42.177370</td>\n",
              "      <td>-71.281353</td>\n",
              "      <td>89893.40</td>\n",
              "      <td>1845.72</td>\n",
              "      <td>Jordan Moore-Harris</td>\n",
              "    </tr>\n",
              "    <tr>\n",
              "      <th>2</th>\n",
              "      <td>ae9efba3-ddc4-43f9-a781-f72019388548</td>\n",
              "      <td>1992-06-30</td>\n",
              "      <td>NaN</td>\n",
              "      <td>999-27-3385</td>\n",
              "      <td>S99971451</td>\n",
              "      <td>X53218815X</td>\n",
              "      <td>Mr.</td>\n",
              "      <td>Jayson808</td>\n",
              "      <td>Fadel536</td>\n",
              "      <td>NaN</td>\n",
              "      <td>NaN</td>\n",
              "      <td>S</td>\n",
              "      <td>white</td>\n",
              "      <td>nonhispanic</td>\n",
              "      <td>M</td>\n",
              "      <td>Springfield  Massachusetts  US</td>\n",
              "      <td>1056 Harris Lane Suite 70</td>\n",
              "      <td>Chicopee</td>\n",
              "      <td>Massachusetts</td>\n",
              "      <td>Hampden County</td>\n",
              "      <td>1020.0</td>\n",
              "      <td>42.181642</td>\n",
              "      <td>-72.608842</td>\n",
              "      <td>577445.86</td>\n",
              "      <td>3528.84</td>\n",
              "      <td>Mrs. Michelle Collins</td>\n",
              "    </tr>\n",
              "    <tr>\n",
              "      <th>3</th>\n",
              "      <td>199c586f-af16-4091-9998-ee4cfc02ee7a</td>\n",
              "      <td>2004-01-09</td>\n",
              "      <td>NaN</td>\n",
              "      <td>999-73-2461</td>\n",
              "      <td>S99956432</td>\n",
              "      <td>NaN</td>\n",
              "      <td>NaN</td>\n",
              "      <td>Jimmie93</td>\n",
              "      <td>Harris789</td>\n",
              "      <td>NaN</td>\n",
              "      <td>NaN</td>\n",
              "      <td>NaN</td>\n",
              "      <td>white</td>\n",
              "      <td>nonhispanic</td>\n",
              "      <td>F</td>\n",
              "      <td>Worcester  Massachusetts  US</td>\n",
              "      <td>201 Mitchell Lodge Unit 67</td>\n",
              "      <td>Pembroke</td>\n",
              "      <td>Massachusetts</td>\n",
              "      <td>Plymouth County</td>\n",
              "      <td>NaN</td>\n",
              "      <td>42.075292</td>\n",
              "      <td>-70.757035</td>\n",
              "      <td>336701.72</td>\n",
              "      <td>2705.64</td>\n",
              "      <td>Olivia Turner</td>\n",
              "    </tr>\n",
              "    <tr>\n",
              "      <th>4</th>\n",
              "      <td>353016ea-a0ff-4154-85bb-1cf8b6cedf20</td>\n",
              "      <td>1996-11-15</td>\n",
              "      <td>NaN</td>\n",
              "      <td>999-60-7372</td>\n",
              "      <td>S99917327</td>\n",
              "      <td>X58903159X</td>\n",
              "      <td>Mr.</td>\n",
              "      <td>Gregorio366</td>\n",
              "      <td>Auer97</td>\n",
              "      <td>NaN</td>\n",
              "      <td>NaN</td>\n",
              "      <td>NaN</td>\n",
              "      <td>white</td>\n",
              "      <td>nonhispanic</td>\n",
              "      <td>M</td>\n",
              "      <td>Patras  Achaea  GR</td>\n",
              "      <td>1050 Lindgren Extension Apt 38</td>\n",
              "      <td>Boston</td>\n",
              "      <td>Massachusetts</td>\n",
              "      <td>Suffolk County</td>\n",
              "      <td>2135.0</td>\n",
              "      <td>42.352434</td>\n",
              "      <td>-71.028610</td>\n",
              "      <td>484076.34</td>\n",
              "      <td>3043.04</td>\n",
              "      <td>Ms. Georgina Lucas</td>\n",
              "    </tr>\n",
              "  </tbody>\n",
              "</table>\n",
              "</div>"
            ],
            "text/plain": [
              "                                     Id  ...             Fake_FIRST\n",
              "0  f0f3bc8d-ef38-49ce-a2bd-dfdda982b271  ...         Dr. Tom Powell\n",
              "1  067318a4-db8f-447f-8b6e-f2f61e9baaa5  ...    Jordan Moore-Harris\n",
              "2  ae9efba3-ddc4-43f9-a781-f72019388548  ...  Mrs. Michelle Collins\n",
              "3  199c586f-af16-4091-9998-ee4cfc02ee7a  ...          Olivia Turner\n",
              "4  353016ea-a0ff-4154-85bb-1cf8b6cedf20  ...     Ms. Georgina Lucas\n",
              "\n",
              "[5 rows x 26 columns]"
            ]
          },
          "metadata": {
            "tags": []
          },
          "execution_count": 48
        }
      ]
    },
    {
      "cell_type": "code",
      "metadata": {
        "colab": {
          "base_uri": "https://localhost:8080/",
          "height": 419
        },
        "id": "nU_6CTOX6KiJ",
        "outputId": "1c54955e-beed-406f-de27-bdd0923a42fe"
      },
      "source": [
        "show1 = fake_df[[\"FIRST\",\"Fake_FIRST\"]].copy()\n",
        "show1 = show1.sort_values(by=[\"Fake_FIRST\"])\n",
        "show1"
      ],
      "execution_count": null,
      "outputs": [
        {
          "output_type": "execute_result",
          "data": {
            "text/html": [
              "<div>\n",
              "<style scoped>\n",
              "    .dataframe tbody tr th:only-of-type {\n",
              "        vertical-align: middle;\n",
              "    }\n",
              "\n",
              "    .dataframe tbody tr th {\n",
              "        vertical-align: top;\n",
              "    }\n",
              "\n",
              "    .dataframe thead th {\n",
              "        text-align: right;\n",
              "    }\n",
              "</style>\n",
              "<table border=\"1\" class=\"dataframe\">\n",
              "  <thead>\n",
              "    <tr style=\"text-align: right;\">\n",
              "      <th></th>\n",
              "      <th>FIRST</th>\n",
              "      <th>Fake_FIRST</th>\n",
              "    </tr>\n",
              "  </thead>\n",
              "  <tbody>\n",
              "    <tr>\n",
              "      <th>11313</th>\n",
              "      <td>Oren284</td>\n",
              "      <td>Aaron Andrews</td>\n",
              "    </tr>\n",
              "    <tr>\n",
              "      <th>4982</th>\n",
              "      <td>Oren284</td>\n",
              "      <td>Aaron Andrews</td>\n",
              "    </tr>\n",
              "    <tr>\n",
              "      <th>10080</th>\n",
              "      <td>Oren284</td>\n",
              "      <td>Aaron Andrews</td>\n",
              "    </tr>\n",
              "    <tr>\n",
              "      <th>2968</th>\n",
              "      <td>Oren284</td>\n",
              "      <td>Aaron Andrews</td>\n",
              "    </tr>\n",
              "    <tr>\n",
              "      <th>11186</th>\n",
              "      <td>Oren284</td>\n",
              "      <td>Aaron Andrews</td>\n",
              "    </tr>\n",
              "    <tr>\n",
              "      <th>...</th>\n",
              "      <td>...</td>\n",
              "      <td>...</td>\n",
              "    </tr>\n",
              "    <tr>\n",
              "      <th>9005</th>\n",
              "      <td>Ehtel928</td>\n",
              "      <td>Zoe Knight-Jordan</td>\n",
              "    </tr>\n",
              "    <tr>\n",
              "      <th>2496</th>\n",
              "      <td>Ehtel928</td>\n",
              "      <td>Zoe Knight-Jordan</td>\n",
              "    </tr>\n",
              "    <tr>\n",
              "      <th>8924</th>\n",
              "      <td>Euna523</td>\n",
              "      <td>Zoe Perry</td>\n",
              "    </tr>\n",
              "    <tr>\n",
              "      <th>3032</th>\n",
              "      <td>Euna523</td>\n",
              "      <td>Zoe Perry</td>\n",
              "    </tr>\n",
              "    <tr>\n",
              "      <th>3120</th>\n",
              "      <td>Neida631</td>\n",
              "      <td>Zoe Reynolds</td>\n",
              "    </tr>\n",
              "  </tbody>\n",
              "</table>\n",
              "<p>12352 rows × 2 columns</p>\n",
              "</div>"
            ],
            "text/plain": [
              "          FIRST         Fake_FIRST\n",
              "11313   Oren284      Aaron Andrews\n",
              "4982    Oren284      Aaron Andrews\n",
              "10080   Oren284      Aaron Andrews\n",
              "2968    Oren284      Aaron Andrews\n",
              "11186   Oren284      Aaron Andrews\n",
              "...         ...                ...\n",
              "9005   Ehtel928  Zoe Knight-Jordan\n",
              "2496   Ehtel928  Zoe Knight-Jordan\n",
              "8924    Euna523          Zoe Perry\n",
              "3032    Euna523          Zoe Perry\n",
              "3120   Neida631       Zoe Reynolds\n",
              "\n",
              "[12352 rows x 2 columns]"
            ]
          },
          "metadata": {
            "tags": []
          },
          "execution_count": 53
        }
      ]
    },
    {
      "cell_type": "code",
      "metadata": {
        "colab": {
          "base_uri": "https://localhost:8080/",
          "height": 419
        },
        "id": "cx0-yaBiDju9",
        "outputId": "fe622b9f-e91c-4904-f2ef-a23a9ee5d8b9"
      },
      "source": [
        "show1 = show1.drop_duplicates(subset=[\"FIRST\"]).reset_index(drop=True)\n",
        "show1 = show1.sort_values(by=[\"Fake_FIRST\"])\n",
        "show1"
      ],
      "execution_count": null,
      "outputs": [
        {
          "output_type": "execute_result",
          "data": {
            "text/html": [
              "<div>\n",
              "<style scoped>\n",
              "    .dataframe tbody tr th:only-of-type {\n",
              "        vertical-align: middle;\n",
              "    }\n",
              "\n",
              "    .dataframe tbody tr th {\n",
              "        vertical-align: top;\n",
              "    }\n",
              "\n",
              "    .dataframe thead th {\n",
              "        text-align: right;\n",
              "    }\n",
              "</style>\n",
              "<table border=\"1\" class=\"dataframe\">\n",
              "  <thead>\n",
              "    <tr style=\"text-align: right;\">\n",
              "      <th></th>\n",
              "      <th>FIRST</th>\n",
              "      <th>Fake_FIRST</th>\n",
              "    </tr>\n",
              "  </thead>\n",
              "  <tbody>\n",
              "    <tr>\n",
              "      <th>0</th>\n",
              "      <td>Oren284</td>\n",
              "      <td>Aaron Andrews</td>\n",
              "    </tr>\n",
              "    <tr>\n",
              "      <th>1</th>\n",
              "      <td>Barbie211</td>\n",
              "      <td>Aaron Baker</td>\n",
              "    </tr>\n",
              "    <tr>\n",
              "      <th>2</th>\n",
              "      <td>Efren426</td>\n",
              "      <td>Aaron Burrows</td>\n",
              "    </tr>\n",
              "    <tr>\n",
              "      <th>3</th>\n",
              "      <td>Jorge203</td>\n",
              "      <td>Aaron Hall</td>\n",
              "    </tr>\n",
              "    <tr>\n",
              "      <th>4</th>\n",
              "      <td>Tawanda156</td>\n",
              "      <td>Aaron Hawkins</td>\n",
              "    </tr>\n",
              "    <tr>\n",
              "      <th>...</th>\n",
              "      <td>...</td>\n",
              "      <td>...</td>\n",
              "    </tr>\n",
              "    <tr>\n",
              "      <th>4215</th>\n",
              "      <td>Shane235</td>\n",
              "      <td>Zoe Hall</td>\n",
              "    </tr>\n",
              "    <tr>\n",
              "      <th>4216</th>\n",
              "      <td>Eneida722</td>\n",
              "      <td>Zoe Kaur</td>\n",
              "    </tr>\n",
              "    <tr>\n",
              "      <th>4217</th>\n",
              "      <td>Ehtel928</td>\n",
              "      <td>Zoe Knight-Jordan</td>\n",
              "    </tr>\n",
              "    <tr>\n",
              "      <th>4218</th>\n",
              "      <td>Euna523</td>\n",
              "      <td>Zoe Perry</td>\n",
              "    </tr>\n",
              "    <tr>\n",
              "      <th>4219</th>\n",
              "      <td>Neida631</td>\n",
              "      <td>Zoe Reynolds</td>\n",
              "    </tr>\n",
              "  </tbody>\n",
              "</table>\n",
              "<p>4220 rows × 2 columns</p>\n",
              "</div>"
            ],
            "text/plain": [
              "           FIRST         Fake_FIRST\n",
              "0        Oren284      Aaron Andrews\n",
              "1      Barbie211        Aaron Baker\n",
              "2       Efren426      Aaron Burrows\n",
              "3       Jorge203         Aaron Hall\n",
              "4     Tawanda156      Aaron Hawkins\n",
              "...          ...                ...\n",
              "4215    Shane235           Zoe Hall\n",
              "4216   Eneida722           Zoe Kaur\n",
              "4217    Ehtel928  Zoe Knight-Jordan\n",
              "4218     Euna523          Zoe Perry\n",
              "4219    Neida631       Zoe Reynolds\n",
              "\n",
              "[4220 rows x 2 columns]"
            ]
          },
          "metadata": {
            "tags": []
          },
          "execution_count": 60
        }
      ]
    },
    {
      "cell_type": "code",
      "metadata": {
        "colab": {
          "base_uri": "https://localhost:8080/"
        },
        "id": "7ozt2ur6D39G",
        "outputId": "1f38d69e-93c0-4818-cc0b-3336bda61cf3"
      },
      "source": [
        "isOneToOne2(show1,\"FIRST\",\"Fake_FIRST\")"
      ],
      "execution_count": null,
      "outputs": [
        {
          "output_type": "execute_result",
          "data": {
            "text/plain": [
              "False"
            ]
          },
          "metadata": {
            "tags": []
          },
          "execution_count": 57
        }
      ]
    },
    {
      "cell_type": "code",
      "metadata": {
        "colab": {
          "base_uri": "https://localhost:8080/",
          "height": 419
        },
        "id": "EV6pV-kcEIcy",
        "outputId": "9e7fb938-bc17-4770-e8bb-b34f79c58500"
      },
      "source": [
        "dup = isOneToOne3(show1,\"FIRST\",\"Fake_FIRST\")\n",
        "dup[dup[\"duplicate\"]==True]"
      ],
      "execution_count": null,
      "outputs": [
        {
          "output_type": "execute_result",
          "data": {
            "text/html": [
              "<div>\n",
              "<style scoped>\n",
              "    .dataframe tbody tr th:only-of-type {\n",
              "        vertical-align: middle;\n",
              "    }\n",
              "\n",
              "    .dataframe tbody tr th {\n",
              "        vertical-align: top;\n",
              "    }\n",
              "\n",
              "    .dataframe thead th {\n",
              "        text-align: right;\n",
              "    }\n",
              "</style>\n",
              "<table border=\"1\" class=\"dataframe\">\n",
              "  <thead>\n",
              "    <tr style=\"text-align: right;\">\n",
              "      <th></th>\n",
              "      <th>FIRST</th>\n",
              "      <th>Fake_FIRST</th>\n",
              "      <th>duplicate</th>\n",
              "    </tr>\n",
              "  </thead>\n",
              "  <tbody>\n",
              "    <tr>\n",
              "      <th>136</th>\n",
              "      <td>Denny560</td>\n",
              "      <td>Amanda Taylor</td>\n",
              "      <td>True</td>\n",
              "    </tr>\n",
              "    <tr>\n",
              "      <th>137</th>\n",
              "      <td>Kenny207</td>\n",
              "      <td>Amanda Taylor</td>\n",
              "      <td>True</td>\n",
              "    </tr>\n",
              "    <tr>\n",
              "      <th>364</th>\n",
              "      <td>Cheree978</td>\n",
              "      <td>Brenda Davies</td>\n",
              "      <td>True</td>\n",
              "    </tr>\n",
              "    <tr>\n",
              "      <th>365</th>\n",
              "      <td>Oswaldo857</td>\n",
              "      <td>Brenda Davies</td>\n",
              "      <td>True</td>\n",
              "    </tr>\n",
              "    <tr>\n",
              "      <th>428</th>\n",
              "      <td>Gilbert263</td>\n",
              "      <td>Carl Evans</td>\n",
              "      <td>True</td>\n",
              "    </tr>\n",
              "    <tr>\n",
              "      <th>...</th>\n",
              "      <td>...</td>\n",
              "      <td>...</td>\n",
              "      <td>...</td>\n",
              "    </tr>\n",
              "    <tr>\n",
              "      <th>3829</th>\n",
              "      <td>Marin763</td>\n",
              "      <td>Sarah Green</td>\n",
              "      <td>True</td>\n",
              "    </tr>\n",
              "    <tr>\n",
              "      <th>4009</th>\n",
              "      <td>Burton124</td>\n",
              "      <td>Susan Edwards</td>\n",
              "      <td>True</td>\n",
              "    </tr>\n",
              "    <tr>\n",
              "      <th>4010</th>\n",
              "      <td>Mara755</td>\n",
              "      <td>Susan Edwards</td>\n",
              "      <td>True</td>\n",
              "    </tr>\n",
              "    <tr>\n",
              "      <th>4145</th>\n",
              "      <td>Carson894</td>\n",
              "      <td>Vanessa Smith</td>\n",
              "      <td>True</td>\n",
              "    </tr>\n",
              "    <tr>\n",
              "      <th>4146</th>\n",
              "      <td>Emmanuel930</td>\n",
              "      <td>Vanessa Smith</td>\n",
              "      <td>True</td>\n",
              "    </tr>\n",
              "  </tbody>\n",
              "</table>\n",
              "<p>83 rows × 3 columns</p>\n",
              "</div>"
            ],
            "text/plain": [
              "            FIRST     Fake_FIRST  duplicate\n",
              "136      Denny560  Amanda Taylor       True\n",
              "137      Kenny207  Amanda Taylor       True\n",
              "364     Cheree978  Brenda Davies       True\n",
              "365    Oswaldo857  Brenda Davies       True\n",
              "428    Gilbert263     Carl Evans       True\n",
              "...           ...            ...        ...\n",
              "3829     Marin763    Sarah Green       True\n",
              "4009    Burton124  Susan Edwards       True\n",
              "4010      Mara755  Susan Edwards       True\n",
              "4145    Carson894  Vanessa Smith       True\n",
              "4146  Emmanuel930  Vanessa Smith       True\n",
              "\n",
              "[83 rows x 3 columns]"
            ]
          },
          "metadata": {
            "tags": []
          },
          "execution_count": 64
        }
      ]
    },
    {
      "cell_type": "code",
      "metadata": {
        "id": "cyIda4yCEkg4"
      },
      "source": [
        ""
      ],
      "execution_count": null,
      "outputs": []
    },
    {
      "cell_type": "code",
      "metadata": {
        "colab": {
          "base_uri": "https://localhost:8080/",
          "height": 479
        },
        "id": "K1fMGHf0GCIz",
        "outputId": "6c166323-18ee-491e-dc35-2125ab0c727b"
      },
      "source": [
        "df.head()"
      ],
      "execution_count": null,
      "outputs": [
        {
          "output_type": "execute_result",
          "data": {
            "text/html": [
              "<div>\n",
              "<style scoped>\n",
              "    .dataframe tbody tr th:only-of-type {\n",
              "        vertical-align: middle;\n",
              "    }\n",
              "\n",
              "    .dataframe tbody tr th {\n",
              "        vertical-align: top;\n",
              "    }\n",
              "\n",
              "    .dataframe thead th {\n",
              "        text-align: right;\n",
              "    }\n",
              "</style>\n",
              "<table border=\"1\" class=\"dataframe\">\n",
              "  <thead>\n",
              "    <tr style=\"text-align: right;\">\n",
              "      <th></th>\n",
              "      <th>Id</th>\n",
              "      <th>BIRTHDATE</th>\n",
              "      <th>DEATHDATE</th>\n",
              "      <th>SSN</th>\n",
              "      <th>DRIVERS</th>\n",
              "      <th>PASSPORT</th>\n",
              "      <th>PREFIX</th>\n",
              "      <th>FIRST</th>\n",
              "      <th>LAST</th>\n",
              "      <th>SUFFIX</th>\n",
              "      <th>MAIDEN</th>\n",
              "      <th>MARITAL</th>\n",
              "      <th>RACE</th>\n",
              "      <th>ETHNICITY</th>\n",
              "      <th>GENDER</th>\n",
              "      <th>BIRTHPLACE</th>\n",
              "      <th>ADDRESS</th>\n",
              "      <th>CITY</th>\n",
              "      <th>STATE</th>\n",
              "      <th>COUNTY</th>\n",
              "      <th>ZIP</th>\n",
              "      <th>LAT</th>\n",
              "      <th>LON</th>\n",
              "      <th>HEALTHCARE_EXPENSES</th>\n",
              "      <th>HEALTHCARE_COVERAGE</th>\n",
              "      <th>Fake_FIRST</th>\n",
              "    </tr>\n",
              "  </thead>\n",
              "  <tbody>\n",
              "    <tr>\n",
              "      <th>0</th>\n",
              "      <td>f0f3bc8d-ef38-49ce-a2bd-dfdda982b271</td>\n",
              "      <td>2017-08-24</td>\n",
              "      <td>NaN</td>\n",
              "      <td>999-68-6630</td>\n",
              "      <td>NaN</td>\n",
              "      <td>NaN</td>\n",
              "      <td>NaN</td>\n",
              "      <td>Jacinto644</td>\n",
              "      <td>Kris249</td>\n",
              "      <td>NaN</td>\n",
              "      <td>NaN</td>\n",
              "      <td>NaN</td>\n",
              "      <td>white</td>\n",
              "      <td>nonhispanic</td>\n",
              "      <td>M</td>\n",
              "      <td>Beverly  Massachusetts  US</td>\n",
              "      <td>888 Hickle Ferry Suite 38</td>\n",
              "      <td>Springfield</td>\n",
              "      <td>Massachusetts</td>\n",
              "      <td>Hampden County</td>\n",
              "      <td>1106.0</td>\n",
              "      <td>42.151961</td>\n",
              "      <td>-72.598959</td>\n",
              "      <td>8446.49</td>\n",
              "      <td>1499.08</td>\n",
              "      <td>Dr. Tom Powell</td>\n",
              "    </tr>\n",
              "    <tr>\n",
              "      <th>1</th>\n",
              "      <td>067318a4-db8f-447f-8b6e-f2f61e9baaa5</td>\n",
              "      <td>2016-08-01</td>\n",
              "      <td>NaN</td>\n",
              "      <td>999-15-5895</td>\n",
              "      <td>NaN</td>\n",
              "      <td>NaN</td>\n",
              "      <td>NaN</td>\n",
              "      <td>Alva958</td>\n",
              "      <td>Krajcik437</td>\n",
              "      <td>NaN</td>\n",
              "      <td>NaN</td>\n",
              "      <td>NaN</td>\n",
              "      <td>white</td>\n",
              "      <td>nonhispanic</td>\n",
              "      <td>F</td>\n",
              "      <td>Boston  Massachusetts  US</td>\n",
              "      <td>1048 Skiles Trailer</td>\n",
              "      <td>Walpole</td>\n",
              "      <td>Massachusetts</td>\n",
              "      <td>Norfolk County</td>\n",
              "      <td>2081.0</td>\n",
              "      <td>42.177370</td>\n",
              "      <td>-71.281353</td>\n",
              "      <td>89893.40</td>\n",
              "      <td>1845.72</td>\n",
              "      <td>Jordan Moore-Harris</td>\n",
              "    </tr>\n",
              "    <tr>\n",
              "      <th>2</th>\n",
              "      <td>ae9efba3-ddc4-43f9-a781-f72019388548</td>\n",
              "      <td>1992-06-30</td>\n",
              "      <td>NaN</td>\n",
              "      <td>999-27-3385</td>\n",
              "      <td>S99971451</td>\n",
              "      <td>X53218815X</td>\n",
              "      <td>Mr.</td>\n",
              "      <td>Jayson808</td>\n",
              "      <td>Fadel536</td>\n",
              "      <td>NaN</td>\n",
              "      <td>NaN</td>\n",
              "      <td>S</td>\n",
              "      <td>white</td>\n",
              "      <td>nonhispanic</td>\n",
              "      <td>M</td>\n",
              "      <td>Springfield  Massachusetts  US</td>\n",
              "      <td>1056 Harris Lane Suite 70</td>\n",
              "      <td>Chicopee</td>\n",
              "      <td>Massachusetts</td>\n",
              "      <td>Hampden County</td>\n",
              "      <td>1020.0</td>\n",
              "      <td>42.181642</td>\n",
              "      <td>-72.608842</td>\n",
              "      <td>577445.86</td>\n",
              "      <td>3528.84</td>\n",
              "      <td>Mrs. Michelle Collins</td>\n",
              "    </tr>\n",
              "    <tr>\n",
              "      <th>3</th>\n",
              "      <td>199c586f-af16-4091-9998-ee4cfc02ee7a</td>\n",
              "      <td>2004-01-09</td>\n",
              "      <td>NaN</td>\n",
              "      <td>999-73-2461</td>\n",
              "      <td>S99956432</td>\n",
              "      <td>NaN</td>\n",
              "      <td>NaN</td>\n",
              "      <td>Jimmie93</td>\n",
              "      <td>Harris789</td>\n",
              "      <td>NaN</td>\n",
              "      <td>NaN</td>\n",
              "      <td>NaN</td>\n",
              "      <td>white</td>\n",
              "      <td>nonhispanic</td>\n",
              "      <td>F</td>\n",
              "      <td>Worcester  Massachusetts  US</td>\n",
              "      <td>201 Mitchell Lodge Unit 67</td>\n",
              "      <td>Pembroke</td>\n",
              "      <td>Massachusetts</td>\n",
              "      <td>Plymouth County</td>\n",
              "      <td>NaN</td>\n",
              "      <td>42.075292</td>\n",
              "      <td>-70.757035</td>\n",
              "      <td>336701.72</td>\n",
              "      <td>2705.64</td>\n",
              "      <td>Olivia Turner</td>\n",
              "    </tr>\n",
              "    <tr>\n",
              "      <th>4</th>\n",
              "      <td>353016ea-a0ff-4154-85bb-1cf8b6cedf20</td>\n",
              "      <td>1996-11-15</td>\n",
              "      <td>NaN</td>\n",
              "      <td>999-60-7372</td>\n",
              "      <td>S99917327</td>\n",
              "      <td>X58903159X</td>\n",
              "      <td>Mr.</td>\n",
              "      <td>Gregorio366</td>\n",
              "      <td>Auer97</td>\n",
              "      <td>NaN</td>\n",
              "      <td>NaN</td>\n",
              "      <td>NaN</td>\n",
              "      <td>white</td>\n",
              "      <td>nonhispanic</td>\n",
              "      <td>M</td>\n",
              "      <td>Patras  Achaea  GR</td>\n",
              "      <td>1050 Lindgren Extension Apt 38</td>\n",
              "      <td>Boston</td>\n",
              "      <td>Massachusetts</td>\n",
              "      <td>Suffolk County</td>\n",
              "      <td>2135.0</td>\n",
              "      <td>42.352434</td>\n",
              "      <td>-71.028610</td>\n",
              "      <td>484076.34</td>\n",
              "      <td>3043.04</td>\n",
              "      <td>Ms. Georgina Lucas</td>\n",
              "    </tr>\n",
              "  </tbody>\n",
              "</table>\n",
              "</div>"
            ],
            "text/plain": [
              "                                     Id  ...             Fake_FIRST\n",
              "0  f0f3bc8d-ef38-49ce-a2bd-dfdda982b271  ...         Dr. Tom Powell\n",
              "1  067318a4-db8f-447f-8b6e-f2f61e9baaa5  ...    Jordan Moore-Harris\n",
              "2  ae9efba3-ddc4-43f9-a781-f72019388548  ...  Mrs. Michelle Collins\n",
              "3  199c586f-af16-4091-9998-ee4cfc02ee7a  ...          Olivia Turner\n",
              "4  353016ea-a0ff-4154-85bb-1cf8b6cedf20  ...     Ms. Georgina Lucas\n",
              "\n",
              "[5 rows x 26 columns]"
            ]
          },
          "metadata": {
            "tags": []
          },
          "execution_count": 65
        }
      ]
    },
    {
      "cell_type": "code",
      "metadata": {
        "id": "lmv136xcF9FD",
        "colab": {
          "base_uri": "https://localhost:8080/",
          "height": 204
        },
        "outputId": "293385bb-486e-4c68-c1d7-f8b3acc9805e"
      },
      "source": [
        "test = df[[\"FIRST\",\"SSN\",\"LAT\",\"RACE\",\"BIRTHDATE\"]].copy()\n",
        "test.head()"
      ],
      "execution_count": null,
      "outputs": [
        {
          "output_type": "execute_result",
          "data": {
            "text/html": [
              "<div>\n",
              "<style scoped>\n",
              "    .dataframe tbody tr th:only-of-type {\n",
              "        vertical-align: middle;\n",
              "    }\n",
              "\n",
              "    .dataframe tbody tr th {\n",
              "        vertical-align: top;\n",
              "    }\n",
              "\n",
              "    .dataframe thead th {\n",
              "        text-align: right;\n",
              "    }\n",
              "</style>\n",
              "<table border=\"1\" class=\"dataframe\">\n",
              "  <thead>\n",
              "    <tr style=\"text-align: right;\">\n",
              "      <th></th>\n",
              "      <th>FIRST</th>\n",
              "      <th>SSN</th>\n",
              "      <th>LAT</th>\n",
              "      <th>RACE</th>\n",
              "      <th>BIRTHDATE</th>\n",
              "    </tr>\n",
              "  </thead>\n",
              "  <tbody>\n",
              "    <tr>\n",
              "      <th>0</th>\n",
              "      <td>Jacinto644</td>\n",
              "      <td>999-68-6630</td>\n",
              "      <td>42.151961</td>\n",
              "      <td>white</td>\n",
              "      <td>2017-08-24</td>\n",
              "    </tr>\n",
              "    <tr>\n",
              "      <th>1</th>\n",
              "      <td>Alva958</td>\n",
              "      <td>999-15-5895</td>\n",
              "      <td>42.177370</td>\n",
              "      <td>white</td>\n",
              "      <td>2016-08-01</td>\n",
              "    </tr>\n",
              "    <tr>\n",
              "      <th>2</th>\n",
              "      <td>Jayson808</td>\n",
              "      <td>999-27-3385</td>\n",
              "      <td>42.181642</td>\n",
              "      <td>white</td>\n",
              "      <td>1992-06-30</td>\n",
              "    </tr>\n",
              "    <tr>\n",
              "      <th>3</th>\n",
              "      <td>Jimmie93</td>\n",
              "      <td>999-73-2461</td>\n",
              "      <td>42.075292</td>\n",
              "      <td>white</td>\n",
              "      <td>2004-01-09</td>\n",
              "    </tr>\n",
              "    <tr>\n",
              "      <th>4</th>\n",
              "      <td>Gregorio366</td>\n",
              "      <td>999-60-7372</td>\n",
              "      <td>42.352434</td>\n",
              "      <td>white</td>\n",
              "      <td>1996-11-15</td>\n",
              "    </tr>\n",
              "  </tbody>\n",
              "</table>\n",
              "</div>"
            ],
            "text/plain": [
              "         FIRST          SSN        LAT   RACE   BIRTHDATE\n",
              "0   Jacinto644  999-68-6630  42.151961  white  2017-08-24\n",
              "1      Alva958  999-15-5895  42.177370  white  2016-08-01\n",
              "2    Jayson808  999-27-3385  42.181642  white  1992-06-30\n",
              "3     Jimmie93  999-73-2461  42.075292  white  2004-01-09\n",
              "4  Gregorio366  999-60-7372  42.352434  white  1996-11-15"
            ]
          },
          "metadata": {
            "tags": []
          },
          "execution_count": 70
        }
      ]
    },
    {
      "cell_type": "code",
      "metadata": {
        "id": "P1ZbUob_HM7s"
      },
      "source": [
        "an2 = anonymize(test)"
      ],
      "execution_count": null,
      "outputs": []
    },
    {
      "cell_type": "code",
      "metadata": {
        "colab": {
          "base_uri": "https://localhost:8080/",
          "height": 419
        },
        "id": "U4jc1RJlHgGb",
        "outputId": "75257d96-d3b7-420b-a539-9e5e105382a8"
      },
      "source": [
        "fake =  an2.fake_names(\"FIRST\",chaining=True).fake_ids(\"SSN\",chaining=True).fake_decimal_numbers(\"LAT\",chaining=True).fake_categories(\"RACE\",chaining=True).fake_dates(\"BIRTHDATE\")\n",
        "fake"
      ],
      "execution_count": null,
      "outputs": [
        {
          "output_type": "execute_result",
          "data": {
            "text/html": [
              "<div>\n",
              "<style scoped>\n",
              "    .dataframe tbody tr th:only-of-type {\n",
              "        vertical-align: middle;\n",
              "    }\n",
              "\n",
              "    .dataframe tbody tr th {\n",
              "        vertical-align: top;\n",
              "    }\n",
              "\n",
              "    .dataframe thead th {\n",
              "        text-align: right;\n",
              "    }\n",
              "</style>\n",
              "<table border=\"1\" class=\"dataframe\">\n",
              "  <thead>\n",
              "    <tr style=\"text-align: right;\">\n",
              "      <th></th>\n",
              "      <th>FIRST</th>\n",
              "      <th>SSN</th>\n",
              "      <th>LAT</th>\n",
              "      <th>RACE</th>\n",
              "      <th>BIRTHDATE</th>\n",
              "      <th>Fake_FIRST</th>\n",
              "      <th>Fake_SSN</th>\n",
              "      <th>Fake_LAT</th>\n",
              "      <th>Fake_RACE</th>\n",
              "      <th>Fake_BIRTHDATE</th>\n",
              "    </tr>\n",
              "  </thead>\n",
              "  <tbody>\n",
              "    <tr>\n",
              "      <th>0</th>\n",
              "      <td>Jacinto644</td>\n",
              "      <td>999-68-6630</td>\n",
              "      <td>42.151961</td>\n",
              "      <td>white</td>\n",
              "      <td>2017-08-24</td>\n",
              "      <td>Ms. Julie Blake</td>\n",
              "      <td>OPGI94634396565586</td>\n",
              "      <td>41.36</td>\n",
              "      <td>RACE 1</td>\n",
              "      <td>2015-05-09</td>\n",
              "    </tr>\n",
              "    <tr>\n",
              "      <th>1</th>\n",
              "      <td>Alva958</td>\n",
              "      <td>999-15-5895</td>\n",
              "      <td>42.177370</td>\n",
              "      <td>white</td>\n",
              "      <td>2016-08-01</td>\n",
              "      <td>Liam Moss</td>\n",
              "      <td>AJLP33037307601083</td>\n",
              "      <td>42.62</td>\n",
              "      <td>RACE 1</td>\n",
              "      <td>2011-03-19</td>\n",
              "    </tr>\n",
              "    <tr>\n",
              "      <th>2</th>\n",
              "      <td>Jayson808</td>\n",
              "      <td>999-27-3385</td>\n",
              "      <td>42.181642</td>\n",
              "      <td>white</td>\n",
              "      <td>1992-06-30</td>\n",
              "      <td>Sam Williams</td>\n",
              "      <td>HRYO38651689275665</td>\n",
              "      <td>41.39</td>\n",
              "      <td>RACE 1</td>\n",
              "      <td>2007-01-17</td>\n",
              "    </tr>\n",
              "    <tr>\n",
              "      <th>3</th>\n",
              "      <td>Jimmie93</td>\n",
              "      <td>999-73-2461</td>\n",
              "      <td>42.075292</td>\n",
              "      <td>white</td>\n",
              "      <td>2004-01-09</td>\n",
              "      <td>Brett Patel</td>\n",
              "      <td>XONS13933983831558</td>\n",
              "      <td>41.68</td>\n",
              "      <td>RACE 1</td>\n",
              "      <td>2003-05-14</td>\n",
              "    </tr>\n",
              "    <tr>\n",
              "      <th>4</th>\n",
              "      <td>Gregorio366</td>\n",
              "      <td>999-60-7372</td>\n",
              "      <td>42.352434</td>\n",
              "      <td>white</td>\n",
              "      <td>1996-11-15</td>\n",
              "      <td>Shirley Mahmood</td>\n",
              "      <td>FZDO18436247748399</td>\n",
              "      <td>41.98</td>\n",
              "      <td>RACE 1</td>\n",
              "      <td>2008-12-07</td>\n",
              "    </tr>\n",
              "    <tr>\n",
              "      <th>...</th>\n",
              "      <td>...</td>\n",
              "      <td>...</td>\n",
              "      <td>...</td>\n",
              "      <td>...</td>\n",
              "      <td>...</td>\n",
              "      <td>...</td>\n",
              "      <td>...</td>\n",
              "      <td>...</td>\n",
              "      <td>...</td>\n",
              "      <td>...</td>\n",
              "    </tr>\n",
              "    <tr>\n",
              "      <th>12347</th>\n",
              "      <td>Althea11</td>\n",
              "      <td>999-52-5112</td>\n",
              "      <td>42.294175</td>\n",
              "      <td>asian</td>\n",
              "      <td>1962-08-17</td>\n",
              "      <td>Kayleigh Johnson</td>\n",
              "      <td>LDRX27628346719848</td>\n",
              "      <td>42.60</td>\n",
              "      <td>RACE 3</td>\n",
              "      <td>1994-03-29</td>\n",
              "    </tr>\n",
              "    <tr>\n",
              "      <th>12348</th>\n",
              "      <td>Tarah156</td>\n",
              "      <td>999-25-1153</td>\n",
              "      <td>42.372663</td>\n",
              "      <td>white</td>\n",
              "      <td>1918-10-20</td>\n",
              "      <td>Jasmine Clark-Hamilton</td>\n",
              "      <td>VITH85792741266586</td>\n",
              "      <td>41.67</td>\n",
              "      <td>RACE 1</td>\n",
              "      <td>1972-12-13</td>\n",
              "    </tr>\n",
              "    <tr>\n",
              "      <th>12349</th>\n",
              "      <td>Penny812</td>\n",
              "      <td>999-41-7538</td>\n",
              "      <td>42.396186</td>\n",
              "      <td>white</td>\n",
              "      <td>1918-10-20</td>\n",
              "      <td>Tony Shaw</td>\n",
              "      <td>TOLE69011182636265</td>\n",
              "      <td>41.65</td>\n",
              "      <td>RACE 1</td>\n",
              "      <td>1972-12-13</td>\n",
              "    </tr>\n",
              "    <tr>\n",
              "      <th>12350</th>\n",
              "      <td>Cherlyn665</td>\n",
              "      <td>999-26-4571</td>\n",
              "      <td>42.366768</td>\n",
              "      <td>white</td>\n",
              "      <td>1918-10-20</td>\n",
              "      <td>Liam Mistry</td>\n",
              "      <td>RGXK64836453158749</td>\n",
              "      <td>41.25</td>\n",
              "      <td>RACE 1</td>\n",
              "      <td>1972-12-13</td>\n",
              "    </tr>\n",
              "    <tr>\n",
              "      <th>12351</th>\n",
              "      <td>Emory494</td>\n",
              "      <td>999-57-4019</td>\n",
              "      <td>41.721661</td>\n",
              "      <td>white</td>\n",
              "      <td>1941-02-11</td>\n",
              "      <td>Martin Wallace</td>\n",
              "      <td>KRMP11303155392033</td>\n",
              "      <td>41.30</td>\n",
              "      <td>RACE 1</td>\n",
              "      <td>2012-04-27</td>\n",
              "    </tr>\n",
              "  </tbody>\n",
              "</table>\n",
              "<p>12352 rows × 10 columns</p>\n",
              "</div>"
            ],
            "text/plain": [
              "             FIRST          SSN        LAT  ... Fake_LAT Fake_RACE Fake_BIRTHDATE\n",
              "0       Jacinto644  999-68-6630  42.151961  ...    41.36    RACE 1     2015-05-09\n",
              "1          Alva958  999-15-5895  42.177370  ...    42.62    RACE 1     2011-03-19\n",
              "2        Jayson808  999-27-3385  42.181642  ...    41.39    RACE 1     2007-01-17\n",
              "3         Jimmie93  999-73-2461  42.075292  ...    41.68    RACE 1     2003-05-14\n",
              "4      Gregorio366  999-60-7372  42.352434  ...    41.98    RACE 1     2008-12-07\n",
              "...            ...          ...        ...  ...      ...       ...            ...\n",
              "12347     Althea11  999-52-5112  42.294175  ...    42.60    RACE 3     1994-03-29\n",
              "12348     Tarah156  999-25-1153  42.372663  ...    41.67    RACE 1     1972-12-13\n",
              "12349     Penny812  999-41-7538  42.396186  ...    41.65    RACE 1     1972-12-13\n",
              "12350   Cherlyn665  999-26-4571  42.366768  ...    41.25    RACE 1     1972-12-13\n",
              "12351     Emory494  999-57-4019  41.721661  ...    41.30    RACE 1     2012-04-27\n",
              "\n",
              "[12352 rows x 10 columns]"
            ]
          },
          "metadata": {
            "tags": []
          },
          "execution_count": 72
        }
      ]
    },
    {
      "cell_type": "code",
      "metadata": {
        "colab": {
          "base_uri": "https://localhost:8080/"
        },
        "id": "I_6uExdRN7qB",
        "outputId": "3b84b020-42a9-4c48-e613-c7f7e03e5864"
      },
      "source": [
        "fake.nunique()"
      ],
      "execution_count": null,
      "outputs": [
        {
          "output_type": "execute_result",
          "data": {
            "text/plain": [
              "FIRST              4220\n",
              "SSN               12254\n",
              "LAT               12352\n",
              "RACE                  5\n",
              "BIRTHDATE          8571\n",
              "Fake_FIRST         4173\n",
              "Fake_SSN          12254\n",
              "Fake_LAT            167\n",
              "Fake_RACE             5\n",
              "Fake_BIRTHDATE     6881\n",
              "dtype: int64"
            ]
          },
          "metadata": {
            "tags": []
          },
          "execution_count": 73
        }
      ]
    },
    {
      "cell_type": "markdown",
      "metadata": {
        "id": "NoEX_5H2MQq-"
      },
      "source": [
        "# Faker & Mimesis"
      ]
    },
    {
      "cell_type": "code",
      "metadata": {
        "colab": {
          "base_uri": "https://localhost:8080/"
        },
        "id": "qcS0aCrSy9cd",
        "outputId": "e73d042c-d428-486a-a6bb-2702bebdb7e8"
      },
      "source": [
        "!pip install faker"
      ],
      "execution_count": null,
      "outputs": [
        {
          "output_type": "stream",
          "text": [
            "Collecting faker\n",
            "\u001b[?25l  Downloading https://files.pythonhosted.org/packages/0b/11/61e0d6bd71413150d45276ae59fd2e3b55aace5c1f1cea95b30715a6f1f6/Faker-8.9.1-py3-none-any.whl (1.2MB)\n",
            "\u001b[K     |████████████████████████████████| 1.2MB 5.1MB/s \n",
            "\u001b[?25hRequirement already satisfied: python-dateutil>=2.4 in /usr/local/lib/python3.7/dist-packages (from faker) (2.8.1)\n",
            "Requirement already satisfied: text-unidecode==1.3 in /usr/local/lib/python3.7/dist-packages (from faker) (1.3)\n",
            "Requirement already satisfied: six>=1.5 in /usr/local/lib/python3.7/dist-packages (from python-dateutil>=2.4->faker) (1.15.0)\n",
            "Installing collected packages: faker\n",
            "Successfully installed faker-8.9.1\n"
          ],
          "name": "stdout"
        }
      ]
    },
    {
      "cell_type": "code",
      "metadata": {
        "id": "BvFD1uobMgRp"
      },
      "source": [
        "from faker import Faker\n",
        "import pandas as pd\n",
        "import random\n",
        "fake = Faker()\n",
        "def create_rows_faker(num=1):\n",
        "    output = [{\"name\":fake.name(),\n",
        "                   \"address\":fake.address(),\n",
        "                   \"name\":fake.name(),\n",
        "                   \"email\":fake.email(),\n",
        "                   #\"bs\":fake.bs(),\n",
        "                   \"city\":fake.city(),\n",
        "                   \"state\":fake.state(),\n",
        "                   \"date_time\":fake.date_time(),\n",
        "                   #\"paragraph\":fake.paragraph(),\n",
        "                   #\"Conrad\":fake.catch_phrase(),\n",
        "                   \"randomdata\":random.randint(1000,2000)} for x in range(num)]\n",
        "    return output\n",
        "\n",
        "df_faker = pd.DataFrame(create_rows_faker(5000))"
      ],
      "execution_count": null,
      "outputs": []
    },
    {
      "cell_type": "code",
      "metadata": {
        "colab": {
          "base_uri": "https://localhost:8080/",
          "height": 597
        },
        "id": "NrsBmJhTzHle",
        "outputId": "ddb4914a-1552-464f-ca93-445ad0e4eb75"
      },
      "source": [
        "df_faker"
      ],
      "execution_count": null,
      "outputs": [
        {
          "output_type": "execute_result",
          "data": {
            "text/html": [
              "<div>\n",
              "<style scoped>\n",
              "    .dataframe tbody tr th:only-of-type {\n",
              "        vertical-align: middle;\n",
              "    }\n",
              "\n",
              "    .dataframe tbody tr th {\n",
              "        vertical-align: top;\n",
              "    }\n",
              "\n",
              "    .dataframe thead th {\n",
              "        text-align: right;\n",
              "    }\n",
              "</style>\n",
              "<table border=\"1\" class=\"dataframe\">\n",
              "  <thead>\n",
              "    <tr style=\"text-align: right;\">\n",
              "      <th></th>\n",
              "      <th>name</th>\n",
              "      <th>address</th>\n",
              "      <th>email</th>\n",
              "      <th>city</th>\n",
              "      <th>state</th>\n",
              "      <th>date_time</th>\n",
              "      <th>randomdata</th>\n",
              "    </tr>\n",
              "  </thead>\n",
              "  <tbody>\n",
              "    <tr>\n",
              "      <th>0</th>\n",
              "      <td>Brittney Flores</td>\n",
              "      <td>254 Kathleen Greens Apt. 405\\nNew Margaret, NE...</td>\n",
              "      <td>twilliams@hotmail.com</td>\n",
              "      <td>West Stephanie</td>\n",
              "      <td>Utah</td>\n",
              "      <td>2005-04-10 08:07:55</td>\n",
              "      <td>1992</td>\n",
              "    </tr>\n",
              "    <tr>\n",
              "      <th>1</th>\n",
              "      <td>Ashley Conway</td>\n",
              "      <td>79729 Jason Meadow\\nMichaelfort, MI 63323</td>\n",
              "      <td>qsantana@davenport.info</td>\n",
              "      <td>Henryton</td>\n",
              "      <td>Connecticut</td>\n",
              "      <td>2010-03-21 22:33:03</td>\n",
              "      <td>1175</td>\n",
              "    </tr>\n",
              "    <tr>\n",
              "      <th>2</th>\n",
              "      <td>Jessica Medina</td>\n",
              "      <td>11482 Steven Tunnel\\nPettymouth, OR 89752</td>\n",
              "      <td>ppierce@rodriguez-ibarra.info</td>\n",
              "      <td>West Johnmouth</td>\n",
              "      <td>Georgia</td>\n",
              "      <td>2015-05-29 00:17:49</td>\n",
              "      <td>1789</td>\n",
              "    </tr>\n",
              "    <tr>\n",
              "      <th>3</th>\n",
              "      <td>Jason Mckinney</td>\n",
              "      <td>5857 Williams Trafficway Apt. 124\\nPort Ashley...</td>\n",
              "      <td>trevorgarcia@gmail.com</td>\n",
              "      <td>Joshuaville</td>\n",
              "      <td>Mississippi</td>\n",
              "      <td>2019-12-21 00:06:16</td>\n",
              "      <td>1714</td>\n",
              "    </tr>\n",
              "    <tr>\n",
              "      <th>4</th>\n",
              "      <td>Nicholas Faulkner</td>\n",
              "      <td>324 Jonathan Path\\nNelsonbury, NC 98673</td>\n",
              "      <td>christineowen@hotmail.com</td>\n",
              "      <td>Kevinhaven</td>\n",
              "      <td>Alabama</td>\n",
              "      <td>2021-03-05 12:58:58</td>\n",
              "      <td>1761</td>\n",
              "    </tr>\n",
              "    <tr>\n",
              "      <th>...</th>\n",
              "      <td>...</td>\n",
              "      <td>...</td>\n",
              "      <td>...</td>\n",
              "      <td>...</td>\n",
              "      <td>...</td>\n",
              "      <td>...</td>\n",
              "      <td>...</td>\n",
              "    </tr>\n",
              "    <tr>\n",
              "      <th>4995</th>\n",
              "      <td>Jennifer Vargas</td>\n",
              "      <td>284 Whitaker Valley Suite 380\\nBeststad, OR 18291</td>\n",
              "      <td>michael49@gmail.com</td>\n",
              "      <td>East Brooketon</td>\n",
              "      <td>Washington</td>\n",
              "      <td>1994-12-08 20:38:46</td>\n",
              "      <td>1461</td>\n",
              "    </tr>\n",
              "    <tr>\n",
              "      <th>4996</th>\n",
              "      <td>Wendy Williams</td>\n",
              "      <td>901 Gomez Plains\\nJordanshire, AR 20113</td>\n",
              "      <td>zwright@hotmail.com</td>\n",
              "      <td>Martinezland</td>\n",
              "      <td>Oklahoma</td>\n",
              "      <td>1981-02-24 13:13:34</td>\n",
              "      <td>1071</td>\n",
              "    </tr>\n",
              "    <tr>\n",
              "      <th>4997</th>\n",
              "      <td>Charles Burton</td>\n",
              "      <td>433 Carter Trace Apt. 627\\nWest Jill, DC 70395</td>\n",
              "      <td>dcollins@hotmail.com</td>\n",
              "      <td>Port Stephenfort</td>\n",
              "      <td>New Jersey</td>\n",
              "      <td>1987-02-18 15:00:31</td>\n",
              "      <td>1270</td>\n",
              "    </tr>\n",
              "    <tr>\n",
              "      <th>4998</th>\n",
              "      <td>Michael Adams</td>\n",
              "      <td>3534 Johnson Prairie Apt. 206\\nMitchellhaven, ...</td>\n",
              "      <td>rpaul@mendoza-rowland.com</td>\n",
              "      <td>Kendraton</td>\n",
              "      <td>Connecticut</td>\n",
              "      <td>1995-04-27 12:55:38</td>\n",
              "      <td>1120</td>\n",
              "    </tr>\n",
              "    <tr>\n",
              "      <th>4999</th>\n",
              "      <td>April Mckinney</td>\n",
              "      <td>27113 Morrison Prairie\\nLake Maryburgh, CO 07299</td>\n",
              "      <td>spham@bowers-middleton.info</td>\n",
              "      <td>Camposmouth</td>\n",
              "      <td>Kansas</td>\n",
              "      <td>1986-12-29 00:25:47</td>\n",
              "      <td>1326</td>\n",
              "    </tr>\n",
              "  </tbody>\n",
              "</table>\n",
              "<p>5000 rows × 7 columns</p>\n",
              "</div>"
            ],
            "text/plain": [
              "                   name  ... randomdata\n",
              "0       Brittney Flores  ...       1992\n",
              "1         Ashley Conway  ...       1175\n",
              "2        Jessica Medina  ...       1789\n",
              "3        Jason Mckinney  ...       1714\n",
              "4     Nicholas Faulkner  ...       1761\n",
              "...                 ...  ...        ...\n",
              "4995    Jennifer Vargas  ...       1461\n",
              "4996     Wendy Williams  ...       1071\n",
              "4997     Charles Burton  ...       1270\n",
              "4998      Michael Adams  ...       1120\n",
              "4999     April Mckinney  ...       1326\n",
              "\n",
              "[5000 rows x 7 columns]"
            ]
          },
          "metadata": {
            "tags": []
          },
          "execution_count": 6
        }
      ]
    },
    {
      "cell_type": "code",
      "metadata": {
        "colab": {
          "base_uri": "https://localhost:8080/"
        },
        "id": "Evf9MFKdzMOZ",
        "outputId": "5683e58f-0ff1-4f5e-afac-57df89d59789"
      },
      "source": [
        "!pip install mimesis"
      ],
      "execution_count": null,
      "outputs": [
        {
          "output_type": "stream",
          "text": [
            "Requirement already satisfied: mimesis in /usr/local/lib/python3.7/dist-packages (4.1.3)\n"
          ],
          "name": "stdout"
        }
      ]
    },
    {
      "cell_type": "code",
      "metadata": {
        "id": "GANFH-DtyaJu"
      },
      "source": [
        "from mimesis import Person\n",
        "from mimesis import Address\n",
        "from mimesis.enums import Gender\n",
        "from mimesis import Datetime\n",
        "person = Person('en')\n",
        "import pandas as pd\n",
        "import random\n",
        "person = Person()\n",
        "addess = Address()\n",
        "datetime = Datetime()\n",
        "def create_rows_mimesis(num=1):\n",
        "    output = [{\"name\":person.full_name(gender=Gender.FEMALE),\n",
        "                   \"address\":addess.address(),\n",
        "                   \"name\":person.name(),\n",
        "                   \"email\":person.email(),\n",
        "                   #\"bs\":person.bs(),\n",
        "                   \"city\":addess.city(),\n",
        "                   \"state\":addess.state(),\n",
        "                   \"date_time\":datetime.datetime(),\n",
        "                   #\"paragraph\":person.paragraph(),\n",
        "                   #\"Conrad\":person.catch_phrase(),\n",
        "                   \"randomdata\":random.randint(0,2000)} for x in range(num)]\n",
        "    return output\n",
        "\n",
        "df_mimesis = pd.DataFrame(create_rows_mimesis(500))"
      ],
      "execution_count": null,
      "outputs": []
    },
    {
      "cell_type": "code",
      "metadata": {
        "colab": {
          "base_uri": "https://localhost:8080/",
          "height": 422
        },
        "id": "XxqfHekNzTZS",
        "outputId": "b247a2b4-45e5-4f90-cf90-077d7f0cce0f"
      },
      "source": [
        "df_mimesis"
      ],
      "execution_count": null,
      "outputs": [
        {
          "output_type": "execute_result",
          "data": {
            "text/html": [
              "<div>\n",
              "<style scoped>\n",
              "    .dataframe tbody tr th:only-of-type {\n",
              "        vertical-align: middle;\n",
              "    }\n",
              "\n",
              "    .dataframe tbody tr th {\n",
              "        vertical-align: top;\n",
              "    }\n",
              "\n",
              "    .dataframe thead th {\n",
              "        text-align: right;\n",
              "    }\n",
              "</style>\n",
              "<table border=\"1\" class=\"dataframe\">\n",
              "  <thead>\n",
              "    <tr style=\"text-align: right;\">\n",
              "      <th></th>\n",
              "      <th>name</th>\n",
              "      <th>address</th>\n",
              "      <th>email</th>\n",
              "      <th>city</th>\n",
              "      <th>state</th>\n",
              "      <th>date_time</th>\n",
              "      <th>randomdata</th>\n",
              "    </tr>\n",
              "  </thead>\n",
              "  <tbody>\n",
              "    <tr>\n",
              "      <th>0</th>\n",
              "      <td>Jeromy</td>\n",
              "      <td>618 Sola Mews</td>\n",
              "      <td>dichter1869@protonmail.com</td>\n",
              "      <td>Spartanburg</td>\n",
              "      <td>Idaho</td>\n",
              "      <td>2007-05-14 10:44:21.657231</td>\n",
              "      <td>877</td>\n",
              "    </tr>\n",
              "    <tr>\n",
              "      <th>1</th>\n",
              "      <td>Gene</td>\n",
              "      <td>1005 Borica Street</td>\n",
              "      <td>cottonmouth2036@live.com</td>\n",
              "      <td>Lake Zurich</td>\n",
              "      <td>New York</td>\n",
              "      <td>2003-03-16 07:02:56.073730</td>\n",
              "      <td>1259</td>\n",
              "    </tr>\n",
              "    <tr>\n",
              "      <th>2</th>\n",
              "      <td>Leisha</td>\n",
              "      <td>373 Brooklyn Alley</td>\n",
              "      <td>pondering1878@gmail.com</td>\n",
              "      <td>Del Rio</td>\n",
              "      <td>Virginia</td>\n",
              "      <td>2013-01-24 17:39:08.804821</td>\n",
              "      <td>539</td>\n",
              "    </tr>\n",
              "    <tr>\n",
              "      <th>3</th>\n",
              "      <td>Dean</td>\n",
              "      <td>449 Cuvier Square</td>\n",
              "      <td>antagonizing1921@outlook.com</td>\n",
              "      <td>Kentwood</td>\n",
              "      <td>Massachusetts</td>\n",
              "      <td>2010-12-10 01:45:16.253876</td>\n",
              "      <td>1561</td>\n",
              "    </tr>\n",
              "    <tr>\n",
              "      <th>4</th>\n",
              "      <td>Analisa</td>\n",
              "      <td>304 Marin Street</td>\n",
              "      <td>salar1833@outlook.com</td>\n",
              "      <td>Lacey</td>\n",
              "      <td>Pennsylvania</td>\n",
              "      <td>2011-05-01 17:17:21.255659</td>\n",
              "      <td>1965</td>\n",
              "    </tr>\n",
              "    <tr>\n",
              "      <th>...</th>\n",
              "      <td>...</td>\n",
              "      <td>...</td>\n",
              "      <td>...</td>\n",
              "      <td>...</td>\n",
              "      <td>...</td>\n",
              "      <td>...</td>\n",
              "      <td>...</td>\n",
              "    </tr>\n",
              "    <tr>\n",
              "      <th>495</th>\n",
              "      <td>Jeni</td>\n",
              "      <td>792 Plymouth Crescent</td>\n",
              "      <td>lariated2040@gmail.com</td>\n",
              "      <td>South San Francisco</td>\n",
              "      <td>Connecticut</td>\n",
              "      <td>2019-05-16 00:19:41.664844</td>\n",
              "      <td>1113</td>\n",
              "    </tr>\n",
              "    <tr>\n",
              "      <th>496</th>\n",
              "      <td>Wayne</td>\n",
              "      <td>17 Marin Walk</td>\n",
              "      <td>lion1930@outlook.com</td>\n",
              "      <td>Highland</td>\n",
              "      <td>Massachusetts</td>\n",
              "      <td>2003-05-20 12:49:25.537835</td>\n",
              "      <td>1358</td>\n",
              "    </tr>\n",
              "    <tr>\n",
              "      <th>497</th>\n",
              "      <td>Norberto</td>\n",
              "      <td>72 Guttenberg Point</td>\n",
              "      <td>wilders2002@outlook.com</td>\n",
              "      <td>South Jordan</td>\n",
              "      <td>Iowa</td>\n",
              "      <td>2020-01-28 22:57:23.897353</td>\n",
              "      <td>1167</td>\n",
              "    </tr>\n",
              "    <tr>\n",
              "      <th>498</th>\n",
              "      <td>Elroy</td>\n",
              "      <td>1028 Virginia Drive</td>\n",
              "      <td>carambole1867@protonmail.com</td>\n",
              "      <td>Pembroke Pines</td>\n",
              "      <td>Oregon</td>\n",
              "      <td>2001-02-26 01:34:08.744430</td>\n",
              "      <td>603</td>\n",
              "    </tr>\n",
              "    <tr>\n",
              "      <th>499</th>\n",
              "      <td>Pablo</td>\n",
              "      <td>1223 Ohlone Mews</td>\n",
              "      <td>religion1935@outlook.com</td>\n",
              "      <td>Arcata</td>\n",
              "      <td>Georgia</td>\n",
              "      <td>2006-12-15 02:58:03.955615</td>\n",
              "      <td>262</td>\n",
              "    </tr>\n",
              "  </tbody>\n",
              "</table>\n",
              "<p>500 rows × 7 columns</p>\n",
              "</div>"
            ],
            "text/plain": [
              "         name                address  ...                  date_time randomdata\n",
              "0      Jeromy          618 Sola Mews  ... 2007-05-14 10:44:21.657231        877\n",
              "1        Gene     1005 Borica Street  ... 2003-03-16 07:02:56.073730       1259\n",
              "2      Leisha     373 Brooklyn Alley  ... 2013-01-24 17:39:08.804821        539\n",
              "3        Dean      449 Cuvier Square  ... 2010-12-10 01:45:16.253876       1561\n",
              "4     Analisa       304 Marin Street  ... 2011-05-01 17:17:21.255659       1965\n",
              "..        ...                    ...  ...                        ...        ...\n",
              "495      Jeni  792 Plymouth Crescent  ... 2019-05-16 00:19:41.664844       1113\n",
              "496     Wayne          17 Marin Walk  ... 2003-05-20 12:49:25.537835       1358\n",
              "497  Norberto    72 Guttenberg Point  ... 2020-01-28 22:57:23.897353       1167\n",
              "498     Elroy    1028 Virginia Drive  ... 2001-02-26 01:34:08.744430        603\n",
              "499     Pablo       1223 Ohlone Mews  ... 2006-12-15 02:58:03.955615        262\n",
              "\n",
              "[500 rows x 7 columns]"
            ]
          },
          "metadata": {
            "tags": []
          },
          "execution_count": 5
        }
      ]
    },
    {
      "cell_type": "markdown",
      "metadata": {
        "id": "ncJM3tWXCDfJ"
      },
      "source": [
        "# Add noise to data"
      ]
    },
    {
      "cell_type": "code",
      "metadata": {
        "id": "mF9NbVIcMFPR"
      },
      "source": [
        "import pandas as pd\n",
        "import numpy as np "
      ],
      "execution_count": null,
      "outputs": []
    },
    {
      "cell_type": "code",
      "metadata": {
        "colab": {
          "base_uri": "https://localhost:8080/"
        },
        "id": "Z4nIawkvMPuT",
        "outputId": "0c65be87-6912-4969-ca04-bb7851a55fbd"
      },
      "source": [
        "!pip install mimesis"
      ],
      "execution_count": null,
      "outputs": [
        {
          "output_type": "stream",
          "text": [
            "Collecting mimesis\n",
            "\u001b[?25l  Downloading https://files.pythonhosted.org/packages/2d/f0/29d3ff558fdcafd2eb11a46008ea308554f1e38714f009ad433849e241a8/mimesis-4.1.3.tar.gz (2.8MB)\n",
            "\u001b[K     |████████████████████████████████| 2.8MB 5.1MB/s \n",
            "\u001b[?25hBuilding wheels for collected packages: mimesis\n",
            "  Building wheel for mimesis (setup.py) ... \u001b[?25l\u001b[?25hdone\n",
            "  Created wheel for mimesis: filename=mimesis-4.1.3-cp37-none-any.whl size=2849727 sha256=7c7225c098fdb1c057366dacf9aae4b86a835567a3ba8774e8aa357d35dec287\n",
            "  Stored in directory: /root/.cache/pip/wheels/62/9f/72/6528c19b53d5861565e0ee62a6a2c0b1a961ea6e4dc96f36b7\n",
            "Successfully built mimesis\n",
            "Installing collected packages: mimesis\n",
            "Successfully installed mimesis-4.1.3\n"
          ],
          "name": "stdout"
        }
      ]
    },
    {
      "cell_type": "code",
      "metadata": {
        "colab": {
          "base_uri": "https://localhost:8080/",
          "height": 422
        },
        "id": "ujMOHNSTMKSX",
        "outputId": "14577707-ccf1-461a-85cb-9eb9ca2ce821"
      },
      "source": [
        "from mimesis import Person\n",
        "from mimesis import Address\n",
        "from mimesis.enums import Gender\n",
        "from mimesis import Datetime\n",
        "person = Person('en')\n",
        "import pandas as pd\n",
        "import random\n",
        "person = Person()\n",
        "addess = Address()\n",
        "datetime = Datetime()\n",
        "def create_rows_mimesis(num=1):\n",
        "    output = [{\"name\":person.full_name(gender=Gender.FEMALE),\n",
        "                   \"address\":addess.address(),\n",
        "                   \"name\":person.name(),\n",
        "                   \"email\":person.email(),\n",
        "                   \"city\":addess.city(),\n",
        "                   \"state\":addess.state(),\n",
        "                   \"GPA\":round(random.uniform(1.0,4.0), 2 ) } for x in range(num)]\n",
        "    return output\n",
        "\n",
        "df_mimesis = pd.DataFrame(create_rows_mimesis(500))\n",
        "df_mimesis"
      ],
      "execution_count": null,
      "outputs": [
        {
          "output_type": "execute_result",
          "data": {
            "text/html": [
              "<div>\n",
              "<style scoped>\n",
              "    .dataframe tbody tr th:only-of-type {\n",
              "        vertical-align: middle;\n",
              "    }\n",
              "\n",
              "    .dataframe tbody tr th {\n",
              "        vertical-align: top;\n",
              "    }\n",
              "\n",
              "    .dataframe thead th {\n",
              "        text-align: right;\n",
              "    }\n",
              "</style>\n",
              "<table border=\"1\" class=\"dataframe\">\n",
              "  <thead>\n",
              "    <tr style=\"text-align: right;\">\n",
              "      <th></th>\n",
              "      <th>name</th>\n",
              "      <th>address</th>\n",
              "      <th>email</th>\n",
              "      <th>city</th>\n",
              "      <th>state</th>\n",
              "      <th>GPA</th>\n",
              "    </tr>\n",
              "  </thead>\n",
              "  <tbody>\n",
              "    <tr>\n",
              "      <th>0</th>\n",
              "      <td>Shani</td>\n",
              "      <td>801 Lake Merced Hill Trail</td>\n",
              "      <td>colorate1892@yahoo.com</td>\n",
              "      <td>Simi Valley</td>\n",
              "      <td>West Virginia</td>\n",
              "      <td>3.06</td>\n",
              "    </tr>\n",
              "    <tr>\n",
              "      <th>1</th>\n",
              "      <td>Malka</td>\n",
              "      <td>517 Bridgeview Side road</td>\n",
              "      <td>protomartyr1810@gmail.com</td>\n",
              "      <td>St. Matthews</td>\n",
              "      <td>Hawaii</td>\n",
              "      <td>3.10</td>\n",
              "    </tr>\n",
              "    <tr>\n",
              "      <th>2</th>\n",
              "      <td>Janae</td>\n",
              "      <td>124 Santa Cruz Esplanade</td>\n",
              "      <td>coghlan2033@outlook.com</td>\n",
              "      <td>Southgate</td>\n",
              "      <td>California</td>\n",
              "      <td>2.75</td>\n",
              "    </tr>\n",
              "    <tr>\n",
              "      <th>3</th>\n",
              "      <td>George</td>\n",
              "      <td>135 Eaton Garden</td>\n",
              "      <td>willowweed1968@yandex.com</td>\n",
              "      <td>Clearfield</td>\n",
              "      <td>Minnesota</td>\n",
              "      <td>2.77</td>\n",
              "    </tr>\n",
              "    <tr>\n",
              "      <th>4</th>\n",
              "      <td>Cornelius</td>\n",
              "      <td>580 Dormitory Gate</td>\n",
              "      <td>abstruseness1835@live.com</td>\n",
              "      <td>Keller</td>\n",
              "      <td>Pennsylvania</td>\n",
              "      <td>2.65</td>\n",
              "    </tr>\n",
              "    <tr>\n",
              "      <th>...</th>\n",
              "      <td>...</td>\n",
              "      <td>...</td>\n",
              "      <td>...</td>\n",
              "      <td>...</td>\n",
              "      <td>...</td>\n",
              "      <td>...</td>\n",
              "    </tr>\n",
              "    <tr>\n",
              "      <th>495</th>\n",
              "      <td>Ezequiel</td>\n",
              "      <td>601 Homewood Highway</td>\n",
              "      <td>serglobulin2061@gmail.com</td>\n",
              "      <td>Wasco</td>\n",
              "      <td>Michigan</td>\n",
              "      <td>1.14</td>\n",
              "    </tr>\n",
              "    <tr>\n",
              "      <th>496</th>\n",
              "      <td>Erlene</td>\n",
              "      <td>868 Huron Lane</td>\n",
              "      <td>capriole1907@yandex.com</td>\n",
              "      <td>Cincinnati</td>\n",
              "      <td>Oregon</td>\n",
              "      <td>2.44</td>\n",
              "    </tr>\n",
              "    <tr>\n",
              "      <th>497</th>\n",
              "      <td>Angel</td>\n",
              "      <td>581 Letterman Freeway</td>\n",
              "      <td>altruistic1810@protonmail.com</td>\n",
              "      <td>St. Peters</td>\n",
              "      <td>Alaska</td>\n",
              "      <td>2.56</td>\n",
              "    </tr>\n",
              "    <tr>\n",
              "      <th>498</th>\n",
              "      <td>Aide</td>\n",
              "      <td>392 Sonora Gate</td>\n",
              "      <td>macaw1858@live.com</td>\n",
              "      <td>Pekin</td>\n",
              "      <td>Arizona</td>\n",
              "      <td>1.79</td>\n",
              "    </tr>\n",
              "    <tr>\n",
              "      <th>499</th>\n",
              "      <td>Duncan</td>\n",
              "      <td>798 Las Villas Stravenue</td>\n",
              "      <td>synaxes2067@yahoo.com</td>\n",
              "      <td>Houma</td>\n",
              "      <td>Oklahoma</td>\n",
              "      <td>3.52</td>\n",
              "    </tr>\n",
              "  </tbody>\n",
              "</table>\n",
              "<p>500 rows × 6 columns</p>\n",
              "</div>"
            ],
            "text/plain": [
              "          name                     address  ...          state   GPA\n",
              "0        Shani  801 Lake Merced Hill Trail  ...  West Virginia  3.06\n",
              "1        Malka    517 Bridgeview Side road  ...         Hawaii  3.10\n",
              "2        Janae    124 Santa Cruz Esplanade  ...     California  2.75\n",
              "3       George            135 Eaton Garden  ...      Minnesota  2.77\n",
              "4    Cornelius          580 Dormitory Gate  ...   Pennsylvania  2.65\n",
              "..         ...                         ...  ...            ...   ...\n",
              "495   Ezequiel        601 Homewood Highway  ...       Michigan  1.14\n",
              "496     Erlene              868 Huron Lane  ...         Oregon  2.44\n",
              "497      Angel       581 Letterman Freeway  ...         Alaska  2.56\n",
              "498       Aide             392 Sonora Gate  ...        Arizona  1.79\n",
              "499     Duncan    798 Las Villas Stravenue  ...       Oklahoma  3.52\n",
              "\n",
              "[500 rows x 6 columns]"
            ]
          },
          "metadata": {
            "tags": []
          },
          "execution_count": 48
        }
      ]
    },
    {
      "cell_type": "code",
      "metadata": {
        "id": "AWzGcHZV2f5B"
      },
      "source": [
        "df_mimesis[\"Noise\"] = np.random.normal(0,2,df_mimesis[\"GPA\"].shape) "
      ],
      "execution_count": null,
      "outputs": []
    },
    {
      "cell_type": "code",
      "metadata": {
        "id": "0faHQQaPDbci"
      },
      "source": [
        "df_mimesis[\"GPA-Noise\"] =  df_mimesis[\"GPA\"] + df_mimesis[\"Noise\"]"
      ],
      "execution_count": null,
      "outputs": []
    },
    {
      "cell_type": "code",
      "metadata": {
        "colab": {
          "base_uri": "https://localhost:8080/",
          "height": 422
        },
        "id": "A4-K0HSZ2sx_",
        "outputId": "3bd9a753-bd7f-459b-83f2-38521efedc38"
      },
      "source": [
        "df_mimesis"
      ],
      "execution_count": null,
      "outputs": [
        {
          "output_type": "execute_result",
          "data": {
            "text/html": [
              "<div>\n",
              "<style scoped>\n",
              "    .dataframe tbody tr th:only-of-type {\n",
              "        vertical-align: middle;\n",
              "    }\n",
              "\n",
              "    .dataframe tbody tr th {\n",
              "        vertical-align: top;\n",
              "    }\n",
              "\n",
              "    .dataframe thead th {\n",
              "        text-align: right;\n",
              "    }\n",
              "</style>\n",
              "<table border=\"1\" class=\"dataframe\">\n",
              "  <thead>\n",
              "    <tr style=\"text-align: right;\">\n",
              "      <th></th>\n",
              "      <th>name</th>\n",
              "      <th>address</th>\n",
              "      <th>email</th>\n",
              "      <th>city</th>\n",
              "      <th>state</th>\n",
              "      <th>GPA</th>\n",
              "      <th>Noise</th>\n",
              "      <th>GPA-Noise</th>\n",
              "    </tr>\n",
              "  </thead>\n",
              "  <tbody>\n",
              "    <tr>\n",
              "      <th>0</th>\n",
              "      <td>Shani</td>\n",
              "      <td>801 Lake Merced Hill Trail</td>\n",
              "      <td>colorate1892@yahoo.com</td>\n",
              "      <td>Simi Valley</td>\n",
              "      <td>West Virginia</td>\n",
              "      <td>3.06</td>\n",
              "      <td>1.511368</td>\n",
              "      <td>4.571368</td>\n",
              "    </tr>\n",
              "    <tr>\n",
              "      <th>1</th>\n",
              "      <td>Malka</td>\n",
              "      <td>517 Bridgeview Side road</td>\n",
              "      <td>protomartyr1810@gmail.com</td>\n",
              "      <td>St. Matthews</td>\n",
              "      <td>Hawaii</td>\n",
              "      <td>3.10</td>\n",
              "      <td>4.450538</td>\n",
              "      <td>7.550538</td>\n",
              "    </tr>\n",
              "    <tr>\n",
              "      <th>2</th>\n",
              "      <td>Janae</td>\n",
              "      <td>124 Santa Cruz Esplanade</td>\n",
              "      <td>coghlan2033@outlook.com</td>\n",
              "      <td>Southgate</td>\n",
              "      <td>California</td>\n",
              "      <td>2.75</td>\n",
              "      <td>-3.416753</td>\n",
              "      <td>-0.666753</td>\n",
              "    </tr>\n",
              "    <tr>\n",
              "      <th>3</th>\n",
              "      <td>George</td>\n",
              "      <td>135 Eaton Garden</td>\n",
              "      <td>willowweed1968@yandex.com</td>\n",
              "      <td>Clearfield</td>\n",
              "      <td>Minnesota</td>\n",
              "      <td>2.77</td>\n",
              "      <td>1.126320</td>\n",
              "      <td>3.896320</td>\n",
              "    </tr>\n",
              "    <tr>\n",
              "      <th>4</th>\n",
              "      <td>Cornelius</td>\n",
              "      <td>580 Dormitory Gate</td>\n",
              "      <td>abstruseness1835@live.com</td>\n",
              "      <td>Keller</td>\n",
              "      <td>Pennsylvania</td>\n",
              "      <td>2.65</td>\n",
              "      <td>0.772775</td>\n",
              "      <td>3.422775</td>\n",
              "    </tr>\n",
              "    <tr>\n",
              "      <th>...</th>\n",
              "      <td>...</td>\n",
              "      <td>...</td>\n",
              "      <td>...</td>\n",
              "      <td>...</td>\n",
              "      <td>...</td>\n",
              "      <td>...</td>\n",
              "      <td>...</td>\n",
              "      <td>...</td>\n",
              "    </tr>\n",
              "    <tr>\n",
              "      <th>495</th>\n",
              "      <td>Ezequiel</td>\n",
              "      <td>601 Homewood Highway</td>\n",
              "      <td>serglobulin2061@gmail.com</td>\n",
              "      <td>Wasco</td>\n",
              "      <td>Michigan</td>\n",
              "      <td>1.14</td>\n",
              "      <td>-1.845307</td>\n",
              "      <td>-0.705307</td>\n",
              "    </tr>\n",
              "    <tr>\n",
              "      <th>496</th>\n",
              "      <td>Erlene</td>\n",
              "      <td>868 Huron Lane</td>\n",
              "      <td>capriole1907@yandex.com</td>\n",
              "      <td>Cincinnati</td>\n",
              "      <td>Oregon</td>\n",
              "      <td>2.44</td>\n",
              "      <td>-0.104040</td>\n",
              "      <td>2.335960</td>\n",
              "    </tr>\n",
              "    <tr>\n",
              "      <th>497</th>\n",
              "      <td>Angel</td>\n",
              "      <td>581 Letterman Freeway</td>\n",
              "      <td>altruistic1810@protonmail.com</td>\n",
              "      <td>St. Peters</td>\n",
              "      <td>Alaska</td>\n",
              "      <td>2.56</td>\n",
              "      <td>1.350403</td>\n",
              "      <td>3.910403</td>\n",
              "    </tr>\n",
              "    <tr>\n",
              "      <th>498</th>\n",
              "      <td>Aide</td>\n",
              "      <td>392 Sonora Gate</td>\n",
              "      <td>macaw1858@live.com</td>\n",
              "      <td>Pekin</td>\n",
              "      <td>Arizona</td>\n",
              "      <td>1.79</td>\n",
              "      <td>0.957899</td>\n",
              "      <td>2.747899</td>\n",
              "    </tr>\n",
              "    <tr>\n",
              "      <th>499</th>\n",
              "      <td>Duncan</td>\n",
              "      <td>798 Las Villas Stravenue</td>\n",
              "      <td>synaxes2067@yahoo.com</td>\n",
              "      <td>Houma</td>\n",
              "      <td>Oklahoma</td>\n",
              "      <td>3.52</td>\n",
              "      <td>-1.491199</td>\n",
              "      <td>2.028801</td>\n",
              "    </tr>\n",
              "  </tbody>\n",
              "</table>\n",
              "<p>500 rows × 8 columns</p>\n",
              "</div>"
            ],
            "text/plain": [
              "          name                     address  ...     Noise GPA-Noise\n",
              "0        Shani  801 Lake Merced Hill Trail  ...  1.511368  4.571368\n",
              "1        Malka    517 Bridgeview Side road  ...  4.450538  7.550538\n",
              "2        Janae    124 Santa Cruz Esplanade  ... -3.416753 -0.666753\n",
              "3       George            135 Eaton Garden  ...  1.126320  3.896320\n",
              "4    Cornelius          580 Dormitory Gate  ...  0.772775  3.422775\n",
              "..         ...                         ...  ...       ...       ...\n",
              "495   Ezequiel        601 Homewood Highway  ... -1.845307 -0.705307\n",
              "496     Erlene              868 Huron Lane  ... -0.104040  2.335960\n",
              "497      Angel       581 Letterman Freeway  ...  1.350403  3.910403\n",
              "498       Aide             392 Sonora Gate  ...  0.957899  2.747899\n",
              "499     Duncan    798 Las Villas Stravenue  ... -1.491199  2.028801\n",
              "\n",
              "[500 rows x 8 columns]"
            ]
          },
          "metadata": {
            "tags": []
          },
          "execution_count": 57
        }
      ]
    },
    {
      "cell_type": "code",
      "metadata": {
        "id": "8K9DPG6SrAd4"
      },
      "source": [
        "noise = np.random.normal(0,2,df_mimesis[\"GPA\"].shape)"
      ],
      "execution_count": null,
      "outputs": []
    },
    {
      "cell_type": "code",
      "metadata": {
        "colab": {
          "base_uri": "https://localhost:8080/",
          "height": 422
        },
        "id": "pR908AcmDm6r",
        "outputId": "10afaf1c-55ca-4c6f-cf94-6b6ef8bbe8a7"
      },
      "source": [
        "df_mimesis"
      ],
      "execution_count": null,
      "outputs": [
        {
          "output_type": "execute_result",
          "data": {
            "text/html": [
              "<div>\n",
              "<style scoped>\n",
              "    .dataframe tbody tr th:only-of-type {\n",
              "        vertical-align: middle;\n",
              "    }\n",
              "\n",
              "    .dataframe tbody tr th {\n",
              "        vertical-align: top;\n",
              "    }\n",
              "\n",
              "    .dataframe thead th {\n",
              "        text-align: right;\n",
              "    }\n",
              "</style>\n",
              "<table border=\"1\" class=\"dataframe\">\n",
              "  <thead>\n",
              "    <tr style=\"text-align: right;\">\n",
              "      <th></th>\n",
              "      <th>name</th>\n",
              "      <th>address</th>\n",
              "      <th>email</th>\n",
              "      <th>city</th>\n",
              "      <th>state</th>\n",
              "      <th>GPA</th>\n",
              "      <th>Noise</th>\n",
              "      <th>GPA-Noise</th>\n",
              "    </tr>\n",
              "  </thead>\n",
              "  <tbody>\n",
              "    <tr>\n",
              "      <th>0</th>\n",
              "      <td>Shani</td>\n",
              "      <td>801 Lake Merced Hill Trail</td>\n",
              "      <td>colorate1892@yahoo.com</td>\n",
              "      <td>Simi Valley</td>\n",
              "      <td>West Virginia</td>\n",
              "      <td>3.06</td>\n",
              "      <td>1.511368</td>\n",
              "      <td>4.571368</td>\n",
              "    </tr>\n",
              "    <tr>\n",
              "      <th>1</th>\n",
              "      <td>Malka</td>\n",
              "      <td>517 Bridgeview Side road</td>\n",
              "      <td>protomartyr1810@gmail.com</td>\n",
              "      <td>St. Matthews</td>\n",
              "      <td>Hawaii</td>\n",
              "      <td>3.10</td>\n",
              "      <td>4.450538</td>\n",
              "      <td>7.550538</td>\n",
              "    </tr>\n",
              "    <tr>\n",
              "      <th>2</th>\n",
              "      <td>Janae</td>\n",
              "      <td>124 Santa Cruz Esplanade</td>\n",
              "      <td>coghlan2033@outlook.com</td>\n",
              "      <td>Southgate</td>\n",
              "      <td>California</td>\n",
              "      <td>2.75</td>\n",
              "      <td>-3.416753</td>\n",
              "      <td>-0.666753</td>\n",
              "    </tr>\n",
              "    <tr>\n",
              "      <th>3</th>\n",
              "      <td>George</td>\n",
              "      <td>135 Eaton Garden</td>\n",
              "      <td>willowweed1968@yandex.com</td>\n",
              "      <td>Clearfield</td>\n",
              "      <td>Minnesota</td>\n",
              "      <td>2.77</td>\n",
              "      <td>1.126320</td>\n",
              "      <td>3.896320</td>\n",
              "    </tr>\n",
              "    <tr>\n",
              "      <th>4</th>\n",
              "      <td>Cornelius</td>\n",
              "      <td>580 Dormitory Gate</td>\n",
              "      <td>abstruseness1835@live.com</td>\n",
              "      <td>Keller</td>\n",
              "      <td>Pennsylvania</td>\n",
              "      <td>2.65</td>\n",
              "      <td>0.772775</td>\n",
              "      <td>3.422775</td>\n",
              "    </tr>\n",
              "    <tr>\n",
              "      <th>...</th>\n",
              "      <td>...</td>\n",
              "      <td>...</td>\n",
              "      <td>...</td>\n",
              "      <td>...</td>\n",
              "      <td>...</td>\n",
              "      <td>...</td>\n",
              "      <td>...</td>\n",
              "      <td>...</td>\n",
              "    </tr>\n",
              "    <tr>\n",
              "      <th>495</th>\n",
              "      <td>Ezequiel</td>\n",
              "      <td>601 Homewood Highway</td>\n",
              "      <td>serglobulin2061@gmail.com</td>\n",
              "      <td>Wasco</td>\n",
              "      <td>Michigan</td>\n",
              "      <td>1.14</td>\n",
              "      <td>-1.845307</td>\n",
              "      <td>-0.705307</td>\n",
              "    </tr>\n",
              "    <tr>\n",
              "      <th>496</th>\n",
              "      <td>Erlene</td>\n",
              "      <td>868 Huron Lane</td>\n",
              "      <td>capriole1907@yandex.com</td>\n",
              "      <td>Cincinnati</td>\n",
              "      <td>Oregon</td>\n",
              "      <td>2.44</td>\n",
              "      <td>-0.104040</td>\n",
              "      <td>2.335960</td>\n",
              "    </tr>\n",
              "    <tr>\n",
              "      <th>497</th>\n",
              "      <td>Angel</td>\n",
              "      <td>581 Letterman Freeway</td>\n",
              "      <td>altruistic1810@protonmail.com</td>\n",
              "      <td>St. Peters</td>\n",
              "      <td>Alaska</td>\n",
              "      <td>2.56</td>\n",
              "      <td>1.350403</td>\n",
              "      <td>3.910403</td>\n",
              "    </tr>\n",
              "    <tr>\n",
              "      <th>498</th>\n",
              "      <td>Aide</td>\n",
              "      <td>392 Sonora Gate</td>\n",
              "      <td>macaw1858@live.com</td>\n",
              "      <td>Pekin</td>\n",
              "      <td>Arizona</td>\n",
              "      <td>1.79</td>\n",
              "      <td>0.957899</td>\n",
              "      <td>2.747899</td>\n",
              "    </tr>\n",
              "    <tr>\n",
              "      <th>499</th>\n",
              "      <td>Duncan</td>\n",
              "      <td>798 Las Villas Stravenue</td>\n",
              "      <td>synaxes2067@yahoo.com</td>\n",
              "      <td>Houma</td>\n",
              "      <td>Oklahoma</td>\n",
              "      <td>3.52</td>\n",
              "      <td>-1.491199</td>\n",
              "      <td>2.028801</td>\n",
              "    </tr>\n",
              "  </tbody>\n",
              "</table>\n",
              "<p>500 rows × 8 columns</p>\n",
              "</div>"
            ],
            "text/plain": [
              "          name                     address  ...     Noise GPA-Noise\n",
              "0        Shani  801 Lake Merced Hill Trail  ...  1.511368  4.571368\n",
              "1        Malka    517 Bridgeview Side road  ...  4.450538  7.550538\n",
              "2        Janae    124 Santa Cruz Esplanade  ... -3.416753 -0.666753\n",
              "3       George            135 Eaton Garden  ...  1.126320  3.896320\n",
              "4    Cornelius          580 Dormitory Gate  ...  0.772775  3.422775\n",
              "..         ...                         ...  ...       ...       ...\n",
              "495   Ezequiel        601 Homewood Highway  ... -1.845307 -0.705307\n",
              "496     Erlene              868 Huron Lane  ... -0.104040  2.335960\n",
              "497      Angel       581 Letterman Freeway  ...  1.350403  3.910403\n",
              "498       Aide             392 Sonora Gate  ...  0.957899  2.747899\n",
              "499     Duncan    798 Las Villas Stravenue  ... -1.491199  2.028801\n",
              "\n",
              "[500 rows x 8 columns]"
            ]
          },
          "metadata": {
            "tags": []
          },
          "execution_count": 65
        }
      ]
    },
    {
      "cell_type": "code",
      "metadata": {
        "colab": {
          "base_uri": "https://localhost:8080/",
          "height": 303
        },
        "id": "7cB1VKkIFWHH",
        "outputId": "ea9e93ab-116a-4e8e-83b0-2b2ef58508d1"
      },
      "source": [
        "import matplotlib.pyplot as plt\n",
        "from scipy.stats import norm\n",
        "import statistics\n",
        "  \n",
        "# Plot between -10 and 10 with .001 steps.\n",
        "x_axis = df_mimesis[\"GPA\"].tolist()\n",
        "\n",
        "x_axis = sorted(x_axis)\n",
        "\n",
        "# Calculating mean and standard deviation\n",
        "mean = statistics.mean(x_axis)\n",
        "sd = statistics.stdev(x_axis)\n",
        "\n",
        "plt.plot(x_axis, norm.pdf(x_axis, mean, sd))\n",
        "plt.show()\n",
        "\n",
        "print(x_axis)\n"
      ],
      "execution_count": null,
      "outputs": [
        {
          "output_type": "display_data",
          "data": {
            "image/png": "[encoded data removed]",
            "text/plain": [
              "<Figure size 432x288 with 1 Axes>"
            ]
          },
          "metadata": {
            "tags": [],
            "needs_background": "light"
          }
        },
        {
          "output_type": "stream",
          "text": [
            "[1.0, 1.01, 1.02, 1.03, 1.03, 1.05, 1.06, 1.06, 1.06, 1.07, 1.07, 1.07, 1.08, 1.08, 1.08, 1.09, 1.1, 1.13, 1.14, 1.14, 1.14, 1.14, 1.14, 1.15, 1.15, 1.15, 1.16, 1.16, 1.17, 1.17, 1.17, 1.18, 1.18, 1.18, 1.19, 1.19, 1.2, 1.21, 1.22, 1.22, 1.23, 1.23, 1.23, 1.24, 1.24, 1.25, 1.25, 1.25, 1.26, 1.27, 1.28, 1.3, 1.3, 1.31, 1.31, 1.31, 1.31, 1.32, 1.32, 1.33, 1.33, 1.33, 1.33, 1.34, 1.34, 1.35, 1.35, 1.36, 1.36, 1.37, 1.38, 1.38, 1.38, 1.39, 1.4, 1.41, 1.42, 1.42, 1.43, 1.43, 1.46, 1.46, 1.46, 1.48, 1.48, 1.48, 1.48, 1.49, 1.5, 1.5, 1.5, 1.51, 1.51, 1.52, 1.52, 1.53, 1.53, 1.53, 1.54, 1.55, 1.56, 1.57, 1.59, 1.6, 1.6, 1.6, 1.61, 1.61, 1.62, 1.64, 1.65, 1.65, 1.66, 1.66, 1.67, 1.67, 1.68, 1.68, 1.69, 1.7, 1.71, 1.71, 1.71, 1.72, 1.72, 1.72, 1.72, 1.72, 1.73, 1.73, 1.73, 1.74, 1.74, 1.74, 1.75, 1.75, 1.77, 1.78, 1.78, 1.79, 1.79, 1.79, 1.8, 1.8, 1.81, 1.82, 1.83, 1.85, 1.85, 1.85, 1.85, 1.86, 1.86, 1.86, 1.87, 1.87, 1.89, 1.91, 1.91, 1.91, 1.92, 1.92, 1.92, 1.94, 1.94, 1.95, 1.96, 1.96, 1.96, 1.97, 1.97, 1.98, 1.99, 1.99, 2.0, 2.0, 2.01, 2.01, 2.01, 2.02, 2.03, 2.04, 2.06, 2.06, 2.06, 2.06, 2.07, 2.08, 2.09, 2.09, 2.09, 2.09, 2.12, 2.13, 2.13, 2.13, 2.14, 2.14, 2.14, 2.14, 2.15, 2.15, 2.15, 2.16, 2.16, 2.17, 2.17, 2.17, 2.18, 2.18, 2.18, 2.2, 2.2, 2.2, 2.2, 2.2, 2.2, 2.21, 2.21, 2.21, 2.21, 2.22, 2.22, 2.23, 2.23, 2.23, 2.24, 2.24, 2.25, 2.25, 2.25, 2.26, 2.27, 2.27, 2.29, 2.29, 2.29, 2.3, 2.32, 2.32, 2.32, 2.34, 2.34, 2.36, 2.36, 2.39, 2.41, 2.42, 2.43, 2.43, 2.43, 2.43, 2.44, 2.44, 2.46, 2.46, 2.46, 2.47, 2.47, 2.47, 2.47, 2.47, 2.48, 2.48, 2.49, 2.5, 2.51, 2.51, 2.51, 2.52, 2.52, 2.53, 2.56, 2.56, 2.57, 2.58, 2.58, 2.58, 2.58, 2.59, 2.59, 2.59, 2.6, 2.61, 2.61, 2.62, 2.63, 2.63, 2.64, 2.64, 2.64, 2.64, 2.65, 2.67, 2.68, 2.68, 2.69, 2.69, 2.69, 2.7, 2.71, 2.73, 2.74, 2.74, 2.74, 2.75, 2.75, 2.75, 2.76, 2.77, 2.77, 2.78, 2.78, 2.79, 2.8, 2.8, 2.8, 2.81, 2.82, 2.82, 2.83, 2.84, 2.85, 2.87, 2.88, 2.88, 2.9, 2.9, 2.92, 2.94, 2.94, 2.95, 2.95, 2.97, 2.98, 2.98, 3.01, 3.02, 3.02, 3.03, 3.03, 3.04, 3.04, 3.05, 3.05, 3.06, 3.06, 3.07, 3.07, 3.08, 3.09, 3.1, 3.1, 3.11, 3.13, 3.13, 3.13, 3.13, 3.13, 3.14, 3.14, 3.15, 3.15, 3.15, 3.15, 3.16, 3.16, 3.17, 3.17, 3.17, 3.17, 3.18, 3.18, 3.18, 3.19, 3.19, 3.19, 3.2, 3.2, 3.21, 3.22, 3.24, 3.26, 3.28, 3.29, 3.31, 3.34, 3.34, 3.34, 3.35, 3.35, 3.36, 3.37, 3.37, 3.38, 3.38, 3.39, 3.39, 3.39, 3.4, 3.4, 3.4, 3.41, 3.41, 3.41, 3.42, 3.44, 3.44, 3.45, 3.45, 3.45, 3.45, 3.46, 3.47, 3.47, 3.47, 3.49, 3.49, 3.5, 3.52, 3.53, 3.54, 3.54, 3.55, 3.55, 3.55, 3.56, 3.56, 3.56, 3.57, 3.58, 3.58, 3.59, 3.59, 3.6, 3.6, 3.61, 3.61, 3.62, 3.63, 3.63, 3.63, 3.64, 3.64, 3.64, 3.66, 3.66, 3.66, 3.67, 3.67, 3.68, 3.68, 3.68, 3.7, 3.7, 3.7, 3.71, 3.71, 3.72, 3.72, 3.73, 3.73, 3.74, 3.75, 3.75, 3.75, 3.75, 3.76, 3.76, 3.76, 3.77, 3.77, 3.78, 3.78, 3.78, 3.78, 3.78, 3.79, 3.79, 3.79, 3.8, 3.8, 3.81, 3.81, 3.82, 3.86, 3.87, 3.88, 3.88, 3.89, 3.91, 3.91, 3.92, 3.93, 3.94, 3.95, 3.96, 3.98, 3.98, 3.99]\n"
          ],
          "name": "stdout"
        }
      ]
    },
    {
      "cell_type": "code",
      "metadata": {
        "colab": {
          "base_uri": "https://localhost:8080/",
          "height": 303
        },
        "id": "ieWsykWuG_yG",
        "outputId": "c114bfc0-c9c9-4821-e47d-cbea85ff278d"
      },
      "source": [
        "# Plot between -10 and 10 with .001 steps.\n",
        "x_axis = df_mimesis[\"GPA-Noise\"].tolist()\n",
        "\n",
        "x_axis = sorted(x_axis)\n",
        "\n",
        "plt.plot(x_axis, norm.pdf(x_axis, mean, sd))\n",
        "plt.show()\n",
        "\n",
        "# Calculating mean and standard deviation\n",
        "mean = statistics.mean(x_axis)\n",
        "sd = statistics.stdev(x_axis)\n",
        "\n",
        "print(x_axis)\n"
      ],
      "execution_count": null,
      "outputs": [
        {
          "output_type": "display_data",
          "data": {
            "image/png": "[encoded data removed]",
            "text/plain": [
              "<Figure size 432x288 with 1 Axes>"
            ]
          },
          "metadata": {
            "tags": [],
            "needs_background": "light"
          }
        },
        {
          "output_type": "stream",
          "text": [
            "[-3.635759822841779, -3.051761640360267, -3.030615302051885, -3.014468764870972, -2.8553995072427005, -2.761336288647373, -2.466113129372663, -2.385170802649184, -2.356626276087428, -2.288647359344353, -2.205598848090703, -2.034479489191818, -1.9262295907035005, -1.7628973822327798, -1.761331161586944, -1.7330412519948568, -1.7304226454754446, -1.7086062290701802, -1.6872773343868162, -1.6386155858257139, -1.6344409212363142, -1.545712857045575, -1.506617894669578, -1.4819726722918372, -1.4623092376014293, -1.4403889835989128, -1.3593796738389499, -1.3014484316756518, -1.2771007834284933, -1.2721016848029079, -1.2268994789791594, -1.1636216759055547, -1.1166303221842404, -1.0289914753077716, -1.010088627142486, -0.965407057076832, -0.9080228980234701, -0.7800096902000972, -0.7743422758037051, -0.7530643647058217, -0.7197897408725853, -0.7053068041757706, -0.6992227822431558, -0.6723754450267694, -0.6667531109863836, -0.5888003799943249, -0.5602861769457821, -0.5512096623636702, -0.5374619605579667, -0.5283751283092675, -0.5207766967998488, -0.5127595527181927, -0.5073456510697794, -0.4742091611520869, -0.44152770578227307, -0.4289115246811477, -0.4222787304573983, -0.3385933100288496, -0.3353301243874087, -0.2819069676181607, -0.28075846961372974, -0.26263148403672454, -0.2586486949427349, -0.2502312104279656, -0.19802529297969906, -0.19167947052866285, -0.19063719459121864, -0.1698520762845015, -0.15962402781762375, -0.148533543263889, -0.12701291809610815, -0.10289796887938096, -0.09547572605341537, -0.05257678391460874, -0.03499892046259845, -0.015802307663706827, -0.014127146185579642, -0.006643502961113601, 0.04194476243512257, 0.045840025237221305, 0.04691551973759367, 0.065190747875149, 0.09658207777648786, 0.10800142032487114, 0.14681114347674473, 0.1556345029677373, 0.17548884884909155, 0.1786536798188314, 0.20707881872543688, 0.21022331977408326, 0.23187835207215546, 0.23786094618595932, 0.2527575874336748, 0.2564143302216806, 0.2833921837469753, 0.28787759729979845, 0.2944782945670714, 0.33187576712928335, 0.34962281040719945, 0.35417760608015425, 0.37436009805968684, 0.37593698198328784, 0.3901063726626286, 0.39116047727253433, 0.40887532891588885, 0.4329033645061844, 0.4407804885946438, 0.48814337300232413, 0.5097307170001797, 0.5397538016186407, 0.5722089550145242, 0.5781804478320778, 0.6002139967059662, 0.6555715100967612, 0.6592157239456466, 0.6610435386630584, 0.7704689580635886, 0.7731513421241734, 0.8231491894728951, 0.8438964690951183, 0.8598178924011353, 0.88595025483586, 0.9106575185897705, 0.9362301530704169, 0.9628659401355204, 0.9838770441160156, 0.9955085212083765, 1.0085842238190388, 1.020526281346169, 1.0443120185768997, 1.0552453324080422, 1.0898161956486205, 1.0956027619305653, 1.1122590924047553, 1.112765863639648, 1.1250484905948188, 1.1328937214926853, 1.133679048058149, 1.1455060913738122, 1.1576908052511097, 1.1688094626745409, 1.1893772639174955, 1.2199181725266632, 1.2527984743523064, 1.2846527868417337, 1.3020909798386184, 1.309295820773864, 1.311906242011215, 1.3254113024223582, 1.3262466877368104, 1.3402523804126805, 1.343562678018267, 1.360469691111526, 1.3721766613512212, 1.3861953686780435, 1.3947459170727068, 1.3988404639441483, 1.3998665623561548, 1.4017047161940872, 1.4112896588753538, 1.4426776506121397, 1.4485601957094085, 1.4574197834854339, 1.4589250366663606, 1.4760856651244425, 1.4761614244020898, 1.5396808925173586, 1.5471178825804022, 1.5701356887509716, 1.5792507904295645, 1.5821637227410537, 1.6263135327767202, 1.6307652742673027, 1.6450665375146252, 1.6564954886467933, 1.6800700761827847, 1.6817262876147576, 1.691789688124596, 1.6969538799657082, 1.7011785619633861, 1.7073347825347396, 1.7138520769070211, 1.7256281768019859, 1.7349406777428522, 1.7379332614317637, 1.745916527394379, 1.7472085015963965, 1.7571191612792585, 1.7603986865068062, 1.797574756791687, 1.80161620444742, 1.8092365105522705, 1.8437956607745472, 1.885091789429023, 1.8945532203359066, 1.905329960753732, 1.9161364826793663, 1.918986130048602, 1.9275598944102503, 1.9289429915569012, 1.9576095440161096, 1.9923937287191373, 1.9968077919361413, 2.0005035689509154, 2.017023537007998, 2.0288010399406122, 2.0303312654931585, 2.0386259539184417, 2.039497319287245, 2.054515704549207, 2.0711470285813394, 2.0899994613633144, 2.1033737704117907, 2.1110149539961762, 2.1146553252033895, 2.11528687612777, 2.116594465314617, 2.1186799733659822, 2.1297574206559537, 2.1384473431840716, 2.1699241064497294, 2.1732777260208667, 2.1913305583515528, 2.209311653433776, 2.2137986899623363, 2.219823975755154, 2.220339794553936, 2.2448619085119477, 2.2454135459574527, 2.2456510663755505, 2.2486627114094615, 2.2568801880450833, 2.2640963181451355, 2.298450714793983, 2.326420562819732, 2.327474836778213, 2.335287618123596, 2.335960457079179, 2.3374563266226365, 2.353762495949913, 2.359357131148484, 2.3632800863977987, 2.3633666398378135, 2.364969109754223, 2.3833101039743587, 2.385194719009574, 2.401681997885703, 2.4023431991079556, 2.4088651172855013, 2.4093133730559337, 2.436921753067903, 2.4486782077792095, 2.450496718896024, 2.4572119345028023, 2.4679289964961315, 2.4735173055276674, 2.4949313060862632, 2.5088180586138935, 2.517286068436747, 2.543386488322918, 2.5435140900618847, 2.545572789007588, 2.5460146373412713, 2.5486633032911907, 2.576396676059251, 2.5836450786553793, 2.5843472943894614, 2.5913052764822453, 2.6023104964911923, 2.6075257548367374, 2.6094492140614256, 2.620110393519897, 2.6370180043535867, 2.65359789928759, 2.6553872277572523, 2.682714326348141, 2.6886461882052144, 2.7050179327800867, 2.7065314471279027, 2.710814144222573, 2.7130011318321774, 2.7288476538132125, 2.735025780898039, 2.746101389495955, 2.747899286172136, 2.7517116372900303, 2.7649024480002145, 2.783719933695855, 2.7889133545649565, 2.809783664103736, 2.8271749916264004, 2.828128633283997, 2.8697576379525973, 2.871414178183616, 2.87498079035667, 2.8786939815738046, 2.8795130330683447, 2.918017426299943, 2.9430997490263486, 2.9453192950453944, 2.958661245190449, 2.973794083781191, 2.9850259043064513, 2.9933291454814865, 3.0012726306427675, 3.0072492409217144, 3.0170933792256536, 3.040682539884124, 3.044841180956465, 3.0451728242322735, 3.08433622464272, 3.1079141195320057, 3.113028866251443, 3.121922124356887, 3.124829888629165, 3.126716448670132, 3.1305976781694658, 3.153238532992601, 3.156840664560465, 3.157527398939178, 3.185544474488358, 3.192133797290149, 3.193459872316095, 3.2073886809362784, 3.2106643026430586, 3.2189381751055395, 3.2516363672115096, 3.2696303628270496, 3.277401897604648, 3.2828904258588523, 3.297407955209466, 3.298856753191263, 3.313728376184831, 3.332623555569115, 3.334810356583553, 3.3483570132236817, 3.3504033659974866, 3.3565331231033526, 3.3573749161829474, 3.3668124542143354, 3.386946422904142, 3.3890616472721087, 3.3929369122613493, 3.408539852006649, 3.422775402836308, 3.434297377515115, 3.443158774129965, 3.470368191579921, 3.4917126557938003, 3.4999816091158102, 3.5234181111961864, 3.532342867996194, 3.54559799163554, 3.5464110676525653, 3.5822355094326452, 3.5827992058511877, 3.5875973247719606, 3.594161651593882, 3.608034926317398, 3.610210129976407, 3.6337070799337794, 3.6338087103804924, 3.6472810757695457, 3.713359687891953, 3.735730817914903, 3.748784141556757, 3.7687679910443337, 3.7735014074540665, 3.7849432139820296, 3.8029582422886765, 3.803032170854163, 3.817368570599883, 3.841454013831423, 3.854160903433433, 3.865521854710106, 3.896320217592815, 3.9104030768815106, 3.931930188642207, 3.943271697066324, 3.957001049192397, 3.966218279416201, 3.9961395554560477, 4.0044027357495935, 4.02249189917409, 4.034319264504581, 4.038931239990285, 4.044096841381986, 4.0457501051960945, 4.083625925126496, 4.109426557118638, 4.118531725524917, 4.145959060425467, 4.156310192844732, 4.157892580076144, 4.165003309272931, 4.175066748279445, 4.180803398685574, 4.190212211385111, 4.205547031756396, 4.214669111840242, 4.227822942589465, 4.248482087981896, 4.260238700270575, 4.324720740282933, 4.328478810405061, 4.360030582330509, 4.364348935890893, 4.366786314423473, 4.393278137451721, 4.440250892752813, 4.442648707181583, 4.468522823755917, 4.482591979707963, 4.504555350939853, 4.552235910661876, 4.560571060568037, 4.571367947568399, 4.579579101563016, 4.631888901192836, 4.644379139105049, 4.649685455964689, 4.692958574671687, 4.7219370947679105, 4.7645480314466235, 4.7798905243460545, 4.782989889457333, 4.838797651164758, 4.861292707476018, 4.88566840324324, 4.8943262281940125, 4.905480406032858, 4.923084192303612, 4.935351288917597, 4.951267803058631, 4.979003448398701, 5.006582845413763, 5.032755145545596, 5.079177297479944, 5.083408869067516, 5.154600438958021, 5.1855538799003895, 5.207237925636246, 5.221420574855099, 5.255567154818175, 5.27070289666918, 5.277792148707965, 5.317711166192513, 5.340577788909215, 5.3428207986854765, 5.362181714192072, 5.40075469818583, 5.418134765058333, 5.454364508414356, 5.463724991059422, 5.490831361991981, 5.5059611431052975, 5.585887568536156, 5.586186956435324, 5.586633010304273, 5.613968292817635, 5.6390039537691905, 5.683583929625808, 5.690545701396998, 5.693377595662954, 5.702901996316244, 5.7741236166375565, 5.787361491332771, 5.835011313524925, 5.85296861561044, 5.902772365086281, 5.912801442607192, 5.9276136497090075, 5.937804612941304, 6.022647132707878, 6.057081937926359, 6.196593210358682, 6.206857800298354, 6.269030877928076, 6.288749384326439, 6.293900670740583, 6.360013416117296, 6.391017215018987, 6.489730576988139, 6.500780550956906, 6.533702977879583, 6.580009309284434, 6.618134429227408, 6.646668377243872, 6.6860865082445855, 6.729688970316898, 6.7816465075781975, 6.844626018280808, 6.899320471537714, 6.915933401269161, 7.115015902634079, 7.215571352290847, 7.366936132940831, 7.550538252906533, 8.107975868318182, 8.672214235485955]\n"
          ],
          "name": "stdout"
        }
      ]
    },
    {
      "cell_type": "markdown",
      "metadata": {
        "id": "JxAxQQ36_F4D"
      },
      "source": [
        "# Encrypt HI Number from 8 digits to 10 "
      ]
    },
    {
      "cell_type": "code",
      "metadata": {
        "id": "rmcOaLUC_glU"
      },
      "source": [
        "import pandas as pd\n",
        "import numpy as np"
      ],
      "execution_count": null,
      "outputs": []
    },
    {
      "cell_type": "code",
      "metadata": {
        "id": "bW-50k5wBdzT"
      },
      "source": [
        "import random\n",
        "\n",
        "def create_rows_mimesis(num=1):\n",
        "    output = [{ \"HI\": \"%0.8d\" % random.randint(0,99999999)} for x in range(num)]\n",
        "    return output\n",
        "\n",
        "df = pd.DataFrame(create_rows_mimesis(500000))"
      ],
      "execution_count": null,
      "outputs": []
    },
    {
      "cell_type": "code",
      "metadata": {
        "colab": {
          "base_uri": "https://localhost:8080/",
          "height": 422
        },
        "id": "wpVypzR0_Q6E",
        "outputId": "a4d46388-1802-41a5-c648-15147ba7fbf0"
      },
      "source": [
        "df"
      ],
      "execution_count": null,
      "outputs": [
        {
          "output_type": "execute_result",
          "data": {
            "text/html": [
              "<div>\n",
              "<style scoped>\n",
              "    .dataframe tbody tr th:only-of-type {\n",
              "        vertical-align: middle;\n",
              "    }\n",
              "\n",
              "    .dataframe tbody tr th {\n",
              "        vertical-align: top;\n",
              "    }\n",
              "\n",
              "    .dataframe thead th {\n",
              "        text-align: right;\n",
              "    }\n",
              "</style>\n",
              "<table border=\"1\" class=\"dataframe\">\n",
              "  <thead>\n",
              "    <tr style=\"text-align: right;\">\n",
              "      <th></th>\n",
              "      <th>HI</th>\n",
              "    </tr>\n",
              "  </thead>\n",
              "  <tbody>\n",
              "    <tr>\n",
              "      <th>0</th>\n",
              "      <td>75541691</td>\n",
              "    </tr>\n",
              "    <tr>\n",
              "      <th>1</th>\n",
              "      <td>52495733</td>\n",
              "    </tr>\n",
              "    <tr>\n",
              "      <th>2</th>\n",
              "      <td>58548541</td>\n",
              "    </tr>\n",
              "    <tr>\n",
              "      <th>3</th>\n",
              "      <td>45022575</td>\n",
              "    </tr>\n",
              "    <tr>\n",
              "      <th>4</th>\n",
              "      <td>49138575</td>\n",
              "    </tr>\n",
              "    <tr>\n",
              "      <th>...</th>\n",
              "      <td>...</td>\n",
              "    </tr>\n",
              "    <tr>\n",
              "      <th>499995</th>\n",
              "      <td>96414241</td>\n",
              "    </tr>\n",
              "    <tr>\n",
              "      <th>499996</th>\n",
              "      <td>60869064</td>\n",
              "    </tr>\n",
              "    <tr>\n",
              "      <th>499997</th>\n",
              "      <td>08345870</td>\n",
              "    </tr>\n",
              "    <tr>\n",
              "      <th>499998</th>\n",
              "      <td>93540261</td>\n",
              "    </tr>\n",
              "    <tr>\n",
              "      <th>499999</th>\n",
              "      <td>03670472</td>\n",
              "    </tr>\n",
              "  </tbody>\n",
              "</table>\n",
              "<p>500000 rows × 1 columns</p>\n",
              "</div>"
            ],
            "text/plain": [
              "              HI\n",
              "0       75541691\n",
              "1       52495733\n",
              "2       58548541\n",
              "3       45022575\n",
              "4       49138575\n",
              "...          ...\n",
              "499995  96414241\n",
              "499996  60869064\n",
              "499997  08345870\n",
              "499998  93540261\n",
              "499999  03670472\n",
              "\n",
              "[500000 rows x 1 columns]"
            ]
          },
          "metadata": {
            "tags": []
          },
          "execution_count": 117
        }
      ]
    },
    {
      "cell_type": "code",
      "metadata": {
        "colab": {
          "base_uri": "https://localhost:8080/",
          "height": 422
        },
        "id": "8mMZmW-_D2wo",
        "outputId": "d14ada5f-fb63-4577-fc29-006235489e73"
      },
      "source": [
        "df = df.drop_duplicates().reset_index(drop=True)\n",
        "df"
      ],
      "execution_count": null,
      "outputs": [
        {
          "output_type": "execute_result",
          "data": {
            "text/html": [
              "<div>\n",
              "<style scoped>\n",
              "    .dataframe tbody tr th:only-of-type {\n",
              "        vertical-align: middle;\n",
              "    }\n",
              "\n",
              "    .dataframe tbody tr th {\n",
              "        vertical-align: top;\n",
              "    }\n",
              "\n",
              "    .dataframe thead th {\n",
              "        text-align: right;\n",
              "    }\n",
              "</style>\n",
              "<table border=\"1\" class=\"dataframe\">\n",
              "  <thead>\n",
              "    <tr style=\"text-align: right;\">\n",
              "      <th></th>\n",
              "      <th>HI</th>\n",
              "    </tr>\n",
              "  </thead>\n",
              "  <tbody>\n",
              "    <tr>\n",
              "      <th>0</th>\n",
              "      <td>75541691</td>\n",
              "    </tr>\n",
              "    <tr>\n",
              "      <th>1</th>\n",
              "      <td>52495733</td>\n",
              "    </tr>\n",
              "    <tr>\n",
              "      <th>2</th>\n",
              "      <td>58548541</td>\n",
              "    </tr>\n",
              "    <tr>\n",
              "      <th>3</th>\n",
              "      <td>45022575</td>\n",
              "    </tr>\n",
              "    <tr>\n",
              "      <th>4</th>\n",
              "      <td>49138575</td>\n",
              "    </tr>\n",
              "    <tr>\n",
              "      <th>...</th>\n",
              "      <td>...</td>\n",
              "    </tr>\n",
              "    <tr>\n",
              "      <th>498734</th>\n",
              "      <td>96414241</td>\n",
              "    </tr>\n",
              "    <tr>\n",
              "      <th>498735</th>\n",
              "      <td>60869064</td>\n",
              "    </tr>\n",
              "    <tr>\n",
              "      <th>498736</th>\n",
              "      <td>08345870</td>\n",
              "    </tr>\n",
              "    <tr>\n",
              "      <th>498737</th>\n",
              "      <td>93540261</td>\n",
              "    </tr>\n",
              "    <tr>\n",
              "      <th>498738</th>\n",
              "      <td>03670472</td>\n",
              "    </tr>\n",
              "  </tbody>\n",
              "</table>\n",
              "<p>498739 rows × 1 columns</p>\n",
              "</div>"
            ],
            "text/plain": [
              "              HI\n",
              "0       75541691\n",
              "1       52495733\n",
              "2       58548541\n",
              "3       45022575\n",
              "4       49138575\n",
              "...          ...\n",
              "498734  96414241\n",
              "498735  60869064\n",
              "498736  08345870\n",
              "498737  93540261\n",
              "498738  03670472\n",
              "\n",
              "[498739 rows x 1 columns]"
            ]
          },
          "metadata": {
            "tags": []
          },
          "execution_count": 118
        }
      ]
    },
    {
      "cell_type": "code",
      "metadata": {
        "id": "nL-SF9TUjieB"
      },
      "source": [
        "def decimalToBinary(n):\n",
        "  \n",
        "  binary = bin(int(n)).replace(\"0b\", \"\")\n",
        "  \n",
        "  return \"%0.4d\" % int(binary)\n",
        "       "
      ],
      "execution_count": null,
      "outputs": []
    },
    {
      "cell_type": "code",
      "metadata": {
        "colab": {
          "base_uri": "https://localhost:8080/",
          "height": 35
        },
        "id": "Y4OKNUKZjniQ",
        "outputId": "9758be3a-fa8d-4adf-fd03-d046b46f5863"
      },
      "source": [
        "decimalToBinary(2)"
      ],
      "execution_count": null,
      "outputs": [
        {
          "output_type": "execute_result",
          "data": {
            "application/vnd.google.colaboratory.intrinsic+json": {
              "type": "string"
            },
            "text/plain": [
              "'0010'"
            ]
          },
          "metadata": {
            "tags": []
          },
          "execution_count": 41
        }
      ]
    },
    {
      "cell_type": "code",
      "metadata": {
        "colab": {
          "base_uri": "https://localhost:8080/"
        },
        "id": "5_HXyqPdnj71",
        "outputId": "964e6f46-4fa5-401b-9fcd-721630127767"
      },
      "source": [
        "input = \"09764123\"\n",
        "\n",
        "temp = []\n",
        "li1 = []\n",
        "li2 = []\n",
        "\n",
        "for i in range(8):\n",
        "  if i < 4 :\n",
        "      li1.append(decimalToBinary(input[i]))\n",
        "  else:\n",
        "      li2.append(decimalToBinary(input[i]))\n",
        "  \n",
        "print(\"list 1 is :\", li1)\n",
        "print(\"list 2 is :\", li2)\n",
        "\n"
      ],
      "execution_count": null,
      "outputs": [
        {
          "output_type": "stream",
          "text": [
            "list 1 is : ['0000', '1001', '0111', '0110']\n",
            "list 2 is : ['0100', '0001', '0010', '0011']\n"
          ],
          "name": "stdout"
        }
      ]
    },
    {
      "cell_type": "code",
      "metadata": {
        "colab": {
          "base_uri": "https://localhost:8080/",
          "height": 35
        },
        "id": "wSbJGF-cw-xZ",
        "outputId": "d44ac87f-124b-4efb-cf49-1146069899fc"
      },
      "source": [
        "li1[0][3] "
      ],
      "execution_count": null,
      "outputs": [
        {
          "output_type": "execute_result",
          "data": {
            "application/vnd.google.colaboratory.intrinsic+json": {
              "type": "string"
            },
            "text/plain": [
              "'0'"
            ]
          },
          "metadata": {
            "tags": []
          },
          "execution_count": 74
        }
      ]
    },
    {
      "cell_type": "code",
      "metadata": {
        "colab": {
          "base_uri": "https://localhost:8080/"
        },
        "id": "juiIRHbl4U1m",
        "outputId": "82955f46-c65d-43de-e800-6a02b15c2e18"
      },
      "source": [
        "last1 = \"0\"\n",
        "last2 = \"0\"\n",
        "for i in range(1,4):\n",
        "  last1 += li1[i][3]\n",
        "  last2 += li2[i][3]\n",
        "\n",
        "sum =   decimalToBinary( int(last1,2) + int(last2,2) )\n",
        "\n",
        "last1,last2,sum"
      ],
      "execution_count": null,
      "outputs": [
        {
          "output_type": "execute_result",
          "data": {
            "text/plain": [
              "('0110', '0101', '1011')"
            ]
          },
          "metadata": {
            "tags": []
          },
          "execution_count": 76
        }
      ]
    },
    {
      "cell_type": "code",
      "metadata": {
        "colab": {
          "base_uri": "https://localhost:8080/"
        },
        "id": "yn6UnZLZI5wv",
        "outputId": "6c7d3b09-5be5-4bef-e6d6-f8146542dda9"
      },
      "source": [
        "for i in range(1,4) :\n",
        "  li1[i] = li1[i][:-1] + sum[i]  \n",
        "  li2[i] = li2[i][:-1] + sum[i]  \n",
        "\n",
        "\n",
        "print(li1, li2)\n"
      ],
      "execution_count": null,
      "outputs": [
        {
          "output_type": "stream",
          "text": [
            "['0001', '1000', '0111', '0111'] ['0101', '0000', '0011', '0011']\n"
          ],
          "name": "stdout"
        }
      ]
    },
    {
      "cell_type": "code",
      "metadata": {
        "colab": {
          "base_uri": "https://localhost:8080/"
        },
        "id": "WZEeG0KeNj3X",
        "outputId": "37d0af9f-cdb2-4c90-88d7-feae136b6d07"
      },
      "source": [
        "summary = \"\".join(li1) + last1 + \"\".join(li2) + last2\n",
        "print(summary)\n",
        "\n",
        "print(int(summary,2))\n"
      ],
      "execution_count": null,
      "outputs": [
        {
          "output_type": "stream",
          "text": [
            "0001100001110111011001010000001100110101\n",
            "105082323765\n"
          ],
          "name": "stdout"
        }
      ]
    },
    {
      "cell_type": "code",
      "metadata": {
        "id": "95A0twA2TYqi"
      },
      "source": [
        "def encrypt(input):\n",
        "\n",
        "  def decimalToBinary(n):\n",
        "    binary = bin(int(n)).replace(\"0b\", \"\")\n",
        "    return \"%0.4d\" % int(binary)\n",
        "\n",
        "  li1 = []\n",
        "  li2 = []\n",
        "  \n",
        "  for i in range(8):  # seperate string to 4 - 4  turn it in to binary\n",
        "    if i < 4 :\n",
        "        li1.append(decimalToBinary(input[i]))\n",
        "    else:\n",
        "        li2.append(decimalToBinary(input[i]))\n",
        "    \n",
        "  #print(\"list 1 is :\", li1)\n",
        "  #print(\"list 2 is :\", li2)\n",
        "\n",
        "  last1 = \"0\"\n",
        "  last2 = \"0\"\n",
        "\n",
        "  for i in range(1,4):   # get 3 digit of seperate binary\n",
        "    last1 += li1[i][3]\n",
        "    last2 += li2[i][3]\n",
        "\n",
        "  sum =   decimalToBinary( int(last1,2) + int(last2,2) )  # sum the 2 of last 3 digit \n",
        "\n",
        "  #print(\"sum is : \", sum)\n",
        "\n",
        "  for i in range(1,4) :  # replace the last digit of seperate binary\n",
        "    li1[i] = li1[i][:-1] + sum[i]  \n",
        "    li2[i] = li2[i][:-1] + sum[i]  \n",
        "\n",
        "  summary = []  \n",
        "  \n",
        "  for i in li1 :\n",
        "    summary.append(str(int(i,2)))\n",
        "\n",
        "  summary.append( str( int(last1,2) ) )\n",
        "\n",
        "\n",
        "  for i in li2 :\n",
        "     summary.append(str(int(i,2)))\n",
        "  \n",
        "  summary.append( str( int(last2,2) ) )\n",
        "  #print(summary)\n",
        "  \n",
        "  #temp = \"\".join(li1) + last1 + \"\".join(li2) + last2  #concat all seperate binary\n",
        " \n",
        "  # summary = []\n",
        "  # for i in range(0,40,4) : \n",
        "  #   summary = int(temp[i:i+4])\n",
        "  \n",
        "  summary = \"\".join(summary)\n",
        "\n",
        "  return summary \n"
      ],
      "execution_count": null,
      "outputs": []
    },
    {
      "cell_type": "code",
      "metadata": {
        "colab": {
          "base_uri": "https://localhost:8080/",
          "height": 35
        },
        "id": "JT8BgDVna5MF",
        "outputId": "8fe4b4b0-ae8f-4d70-e303-231eda176fb1"
      },
      "source": [
        "enc = encrypt(\"09764123\")\n",
        "enc"
      ],
      "execution_count": null,
      "outputs": [
        {
          "output_type": "execute_result",
          "data": {
            "application/vnd.google.colaboratory.intrinsic+json": {
              "type": "string"
            },
            "text/plain": [
              "'0877640335'"
            ]
          },
          "metadata": {
            "tags": []
          },
          "execution_count": 136
        }
      ]
    },
    {
      "cell_type": "code",
      "metadata": {
        "colab": {
          "base_uri": "https://localhost:8080/",
          "height": 35
        },
        "id": "NaA0ZdOIcZ0Y",
        "outputId": "f857bd2f-ca9c-48de-e570-b99e9cec53b1"
      },
      "source": [
        "def decrypt(input) :\n",
        "  def decimalToBinary(n):\n",
        "    binary = bin(int(n)).replace(\"0b\", \"\")\n",
        "    return \"%0.4d\" % int(binary)\n",
        "\n",
        "  li1 = []\n",
        "  li2 = []\n",
        "  binary = \"\"\n",
        "  for i in range(len(input)):\n",
        "    binary += decimalToBinary(input[i])\n",
        "\n",
        "  #print(binary)\n",
        "  for i in range(0,20,4) :\n",
        "    li1.append(binary[i:i+4])\n",
        "    li2.append(binary[i+20:i+24])\n",
        "\n",
        "  #print(li1,li2)\n",
        "\n",
        "  temp1 = li1.pop()\n",
        "  temp2 = li2.pop()\n",
        "  \n",
        "  #print(temp1,temp2)\n",
        "\n",
        "  for i in range(1,4):\n",
        "    li1[i] = li1[i][:-1] + temp1[i]  \n",
        "    li2[i] = li2[i][:-1] + temp2[i]  \n",
        "  \n",
        "  #print(li1,li2)\n",
        "\n",
        "  for i in range(4):\n",
        "    li1[i] =  str(int( li1[i] , 2 )) \n",
        "    li2[i] =  str(int( li2[i] , 2 ))  \n",
        "\n",
        "  summary = \"\".join(li1) + \"\".join(li2)\n",
        "\n",
        "  \n",
        "\n",
        "  return summary \n",
        "\n",
        "decrypt(enc)"
      ],
      "execution_count": null,
      "outputs": [
        {
          "output_type": "execute_result",
          "data": {
            "application/vnd.google.colaboratory.intrinsic+json": {
              "type": "string"
            },
            "text/plain": [
              "'09764123'"
            ]
          },
          "metadata": {
            "tags": []
          },
          "execution_count": 143
        }
      ]
    },
    {
      "cell_type": "code",
      "metadata": {
        "colab": {
          "base_uri": "https://localhost:8080/",
          "height": 422
        },
        "id": "hwmuLMA6cdns",
        "outputId": "70135ec5-a954-436d-c637-9a36c55e7740"
      },
      "source": [
        "df[\"HI-Encrypt\"] = df.apply(lambda row : encrypt(row[\"HI\"]) , axis = 1) \n",
        "df"
      ],
      "execution_count": null,
      "outputs": [
        {
          "output_type": "execute_result",
          "data": {
            "text/html": [
              "<div>\n",
              "<style scoped>\n",
              "    .dataframe tbody tr th:only-of-type {\n",
              "        vertical-align: middle;\n",
              "    }\n",
              "\n",
              "    .dataframe tbody tr th {\n",
              "        vertical-align: top;\n",
              "    }\n",
              "\n",
              "    .dataframe thead th {\n",
              "        text-align: right;\n",
              "    }\n",
              "</style>\n",
              "<table border=\"1\" class=\"dataframe\">\n",
              "  <thead>\n",
              "    <tr style=\"text-align: right;\">\n",
              "      <th></th>\n",
              "      <th>HI</th>\n",
              "      <th>HI-Encrypt</th>\n",
              "    </tr>\n",
              "  </thead>\n",
              "  <tbody>\n",
              "    <tr>\n",
              "      <th>0</th>\n",
              "      <td>75541691</td>\n",
              "      <td>7445616813</td>\n",
              "    </tr>\n",
              "    <tr>\n",
              "      <th>1</th>\n",
              "      <td>52495733</td>\n",
              "      <td>5248156227</td>\n",
              "    </tr>\n",
              "    <tr>\n",
              "      <th>2</th>\n",
              "      <td>58548541</td>\n",
              "      <td>5955285515</td>\n",
              "    </tr>\n",
              "    <tr>\n",
              "      <th>3</th>\n",
              "      <td>45022575</td>\n",
              "      <td>4413424757</td>\n",
              "    </tr>\n",
              "    <tr>\n",
              "      <th>4</th>\n",
              "      <td>49138575</td>\n",
              "      <td>4912785747</td>\n",
              "    </tr>\n",
              "    <tr>\n",
              "      <th>...</th>\n",
              "      <td>...</td>\n",
              "      <td>...</td>\n",
              "    </tr>\n",
              "    <tr>\n",
              "      <th>498734</th>\n",
              "      <td>96414241</td>\n",
              "      <td>9650142501</td>\n",
              "    </tr>\n",
              "    <tr>\n",
              "      <th>498735</th>\n",
              "      <td>60869064</td>\n",
              "      <td>6086090640</td>\n",
              "    </tr>\n",
              "    <tr>\n",
              "      <th>498736</th>\n",
              "      <td>08345870</td>\n",
              "      <td>0924259602</td>\n",
              "    </tr>\n",
              "    <tr>\n",
              "      <th>498737</th>\n",
              "      <td>93540261</td>\n",
              "      <td>9355603711</td>\n",
              "    </tr>\n",
              "    <tr>\n",
              "      <th>498738</th>\n",
              "      <td>03670472</td>\n",
              "      <td>0377505732</td>\n",
              "    </tr>\n",
              "  </tbody>\n",
              "</table>\n",
              "<p>498739 rows × 2 columns</p>\n",
              "</div>"
            ],
            "text/plain": [
              "              HI  HI-Encrypt\n",
              "0       75541691  7445616813\n",
              "1       52495733  5248156227\n",
              "2       58548541  5955285515\n",
              "3       45022575  4413424757\n",
              "4       49138575  4912785747\n",
              "...          ...         ...\n",
              "498734  96414241  9650142501\n",
              "498735  60869064  6086090640\n",
              "498736  08345870  0924259602\n",
              "498737  93540261  9355603711\n",
              "498738  03670472  0377505732\n",
              "\n",
              "[498739 rows x 2 columns]"
            ]
          },
          "metadata": {
            "tags": []
          },
          "execution_count": 144
        }
      ]
    },
    {
      "cell_type": "code",
      "metadata": {
        "colab": {
          "base_uri": "https://localhost:8080/"
        },
        "id": "VhLED94Q1zrq",
        "outputId": "216cd01d-3156-47c6-85ab-d443165b0c31"
      },
      "source": [
        "isOneToOne(df,\"HI\",\"HI-Encrypt\")"
      ],
      "execution_count": null,
      "outputs": [
        {
          "output_type": "execute_result",
          "data": {
            "text/plain": [
              "True"
            ]
          },
          "metadata": {
            "tags": []
          },
          "execution_count": 146
        }
      ]
    },
    {
      "cell_type": "markdown",
      "metadata": {
        "id": "ptMYekMZnkUw"
      },
      "source": [
        "# ส่วนใหม่"
      ]
    },
    {
      "cell_type": "code",
      "metadata": {
        "id": "ivw0UA9UgTLp"
      },
      "source": [
        "def sumString(input):\n",
        "  sum = 0\n",
        "  for i in range(len(input)):\n",
        "    sum = sum + int(input[i])\n",
        "  return sum"
      ],
      "execution_count": null,
      "outputs": []
    },
    {
      "cell_type": "code",
      "metadata": {
        "id": "C5llw-o2ZQ1f"
      },
      "source": [
        "df[\"sum\"] = df.apply(lambda row: sumString(row[\"HI\"]), axis=1)"
      ],
      "execution_count": null,
      "outputs": []
    },
    {
      "cell_type": "code",
      "metadata": {
        "id": "1Q0tezyfrADK",
        "colab": {
          "base_uri": "https://localhost:8080/",
          "height": 422
        },
        "outputId": "c0f00f3c-78c1-4341-d245-6363d26e21db"
      },
      "source": [
        "df"
      ],
      "execution_count": null,
      "outputs": [
        {
          "output_type": "execute_result",
          "data": {
            "text/html": [
              "<div>\n",
              "<style scoped>\n",
              "    .dataframe tbody tr th:only-of-type {\n",
              "        vertical-align: middle;\n",
              "    }\n",
              "\n",
              "    .dataframe tbody tr th {\n",
              "        vertical-align: top;\n",
              "    }\n",
              "\n",
              "    .dataframe thead th {\n",
              "        text-align: right;\n",
              "    }\n",
              "</style>\n",
              "<table border=\"1\" class=\"dataframe\">\n",
              "  <thead>\n",
              "    <tr style=\"text-align: right;\">\n",
              "      <th></th>\n",
              "      <th>HI</th>\n",
              "      <th>sum</th>\n",
              "    </tr>\n",
              "  </thead>\n",
              "  <tbody>\n",
              "    <tr>\n",
              "      <th>0</th>\n",
              "      <td>12846856</td>\n",
              "      <td>40</td>\n",
              "    </tr>\n",
              "    <tr>\n",
              "      <th>1</th>\n",
              "      <td>48948323</td>\n",
              "      <td>41</td>\n",
              "    </tr>\n",
              "    <tr>\n",
              "      <th>2</th>\n",
              "      <td>54651489</td>\n",
              "      <td>42</td>\n",
              "    </tr>\n",
              "    <tr>\n",
              "      <th>3</th>\n",
              "      <td>24066553</td>\n",
              "      <td>31</td>\n",
              "    </tr>\n",
              "    <tr>\n",
              "      <th>4</th>\n",
              "      <td>83167073</td>\n",
              "      <td>35</td>\n",
              "    </tr>\n",
              "    <tr>\n",
              "      <th>...</th>\n",
              "      <td>...</td>\n",
              "      <td>...</td>\n",
              "    </tr>\n",
              "    <tr>\n",
              "      <th>498734</th>\n",
              "      <td>90331902</td>\n",
              "      <td>27</td>\n",
              "    </tr>\n",
              "    <tr>\n",
              "      <th>498735</th>\n",
              "      <td>43941393</td>\n",
              "      <td>36</td>\n",
              "    </tr>\n",
              "    <tr>\n",
              "      <th>498736</th>\n",
              "      <td>74159694</td>\n",
              "      <td>45</td>\n",
              "    </tr>\n",
              "    <tr>\n",
              "      <th>498737</th>\n",
              "      <td>30222484</td>\n",
              "      <td>25</td>\n",
              "    </tr>\n",
              "    <tr>\n",
              "      <th>498738</th>\n",
              "      <td>50299618</td>\n",
              "      <td>40</td>\n",
              "    </tr>\n",
              "  </tbody>\n",
              "</table>\n",
              "<p>498739 rows × 2 columns</p>\n",
              "</div>"
            ],
            "text/plain": [
              "              HI  sum\n",
              "0       12846856   40\n",
              "1       48948323   41\n",
              "2       54651489   42\n",
              "3       24066553   31\n",
              "4       83167073   35\n",
              "...          ...  ...\n",
              "498734  90331902   27\n",
              "498735  43941393   36\n",
              "498736  74159694   45\n",
              "498737  30222484   25\n",
              "498738  50299618   40\n",
              "\n",
              "[498739 rows x 2 columns]"
            ]
          },
          "metadata": {
            "tags": []
          },
          "execution_count": 24
        }
      ]
    },
    {
      "cell_type": "code",
      "metadata": {
        "colab": {
          "base_uri": "https://localhost:8080/"
        },
        "id": "Zi5hzBqTimmM",
        "outputId": "ddfe1f64-940c-45bc-e287-e68c08aa0cd3"
      },
      "source": [
        "a = \"1234567\"\n",
        "print(sumString(a))"
      ],
      "execution_count": null,
      "outputs": [
        {
          "output_type": "stream",
          "text": [
            "28\n"
          ],
          "name": "stdout"
        }
      ]
    },
    {
      "cell_type": "code",
      "metadata": {
        "id": "p38IucrpmHYk"
      },
      "source": [
        ""
      ],
      "execution_count": null,
      "outputs": []
    }
  ]
}